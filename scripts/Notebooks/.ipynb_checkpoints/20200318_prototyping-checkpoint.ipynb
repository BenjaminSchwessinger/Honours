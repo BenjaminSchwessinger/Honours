{
 "cells": [
  {
   "cell_type": "code",
   "execution_count": 53,
   "metadata": {},
   "outputs": [],
   "source": [
    "import pandas as pd\n",
    "from Bio import SeqIO\n",
    "import numpy as np\n",
    "import os\n",
    "import random"
   ]
  },
  {
   "cell_type": "markdown",
   "metadata": {},
   "source": [
    "Ideas of the program would be:\n",
    "\n",
    "- want to read in reference_dataframe.csv\n",
    "\n",
    "- taxonomic level e.g. genus=Candida -> species level comparision\n",
    "\n",
    "- path to location of data. Root of analysis/....."
   ]
  },
  {
   "cell_type": "markdown",
   "metadata": {},
   "source": [
    "With arg parse\n",
    "\n",
    "ref_df_fn = args.ref_df_fn  \n",
    "data_root = args.data_root  \n",
    "tax_rank = args.tax_rank #use with flag e.g. -r  \n",
    "name = args.name #name of the rank to select from, use flag e.g. -n  "
   ]
  },
  {
   "cell_type": "code",
   "execution_count": 8,
   "metadata": {},
   "outputs": [],
   "source": [
    "ref_df_fn = '../../analysis/Stats/reference_dataframe.csv'\n",
    "ref_df_fn = os.path.abspath(ref_df_fn)"
   ]
  },
  {
   "cell_type": "code",
   "execution_count": 9,
   "metadata": {},
   "outputs": [],
   "source": [
    "try:\n",
    "    os.path.exists(ref_df_fn)\n",
    "except:\n",
    "    print('Cannot find %s' % ref_df_fn)"
   ]
  },
  {
   "cell_type": "code",
   "execution_count": 22,
   "metadata": {},
   "outputs": [],
   "source": [
    "#to be able to handle anything from command lien\n",
    "tax_rank = 'Genus'\n",
    "name = 'candida'"
   ]
  },
  {
   "cell_type": "code",
   "execution_count": 23,
   "metadata": {},
   "outputs": [],
   "source": [
    "n_reads = 15000"
   ]
  },
  {
   "cell_type": "code",
   "execution_count": 33,
   "metadata": {},
   "outputs": [],
   "source": [
    "name = name.lower()\n",
    "tax_rank = tax_rank.lower()"
   ]
  },
  {
   "cell_type": "code",
   "execution_count": 17,
   "metadata": {},
   "outputs": [],
   "source": [
    "ref_df = pd.read_csv(ref_df_fn, index_col=None)"
   ]
  },
  {
   "cell_type": "code",
   "execution_count": 27,
   "metadata": {},
   "outputs": [
    {
     "data": {
      "text/plain": [
       "1"
      ]
     },
     "execution_count": 27,
     "metadata": {},
     "output_type": "execute_result"
    }
   ],
   "source": [
    "ref_df[ref_df[\"# reads after length filtering\"] < n_reads].shape[0]"
   ]
  },
  {
   "cell_type": "code",
   "execution_count": 31,
   "metadata": {},
   "outputs": [
    {
     "name": "stdout",
     "output_type": "stream",
     "text": [
      "Check /Users/benjamin/Documents/own_lab/projects/Student_projects/Tavish/Honours/analysis/Stats/reference_dataframe.csv to have the wanted column names\n"
     ]
    }
   ],
   "source": [
    "try:\n",
    "    if ref_df[ref_df[\"# reads after length filtering\"] \\\n",
    "              < n_reads].shape[0] >0 :\n",
    "        print(\"These species need more reads.\")\n",
    "        print(ref_df[ref_df[\"# reads after length filtering\"] \\\n",
    "              < n_reads])\n",
    "        #exit()\n",
    "except:\n",
    "    print('Check %s to have the wanted column names' % ref_df_fn)"
   ]
  },
  {
   "cell_type": "code",
   "execution_count": 49,
   "metadata": {},
   "outputs": [],
   "source": [
    "#not neccessary pull from command line\n",
    "name = \"Candida\"\n",
    "data_root = '../../'"
   ]
  },
  {
   "cell_type": "code",
   "execution_count": 45,
   "metadata": {},
   "outputs": [],
   "source": [
    "indecies = ref_df[ref_df[tax_rank] == name].index"
   ]
  },
  {
   "cell_type": "code",
   "execution_count": 50,
   "metadata": {},
   "outputs": [
    {
     "name": "stdout",
     "output_type": "stream",
     "text": [
      "../../analysis/Length_Filtered/20180108_FAH18647/barcode03/length_restricted_reads.fasta\n",
      "Check location of fasta files.\n",
      "../../analysis/Length_Filtered/20180108_FAH18647/barcode04/length_restricted_reads.fasta\n",
      "Check location of fasta files.\n",
      "../../analysis/Length_Filtered/20180108_FAH18647/barcode05/length_restricted_reads.fasta\n",
      "Check location of fasta files.\n",
      "../../analysis/Length_Filtered/20180108_FAH18647/barcode06/length_restricted_reads.fasta\n",
      "Check location of fasta files.\n",
      "../../analysis/Length_Filtered/20180108_FAH18647/barcode09/length_restricted_reads.fasta\n",
      "Check location of fasta files.\n"
     ]
    }
   ],
   "source": [
    "SeqIO_dicts = {}\n",
    "for index in indecies:\n",
    "    fasta_path = os.path.join(data_root, ref_df.loc[index, 'path to length filtering'])\n",
    "    print(fasta_path)\n",
    "    try:\n",
    "        SeqIO_dicts[index] = SeqIO.to_dict(SeqIO.parse(fasta_path), 'fasta')\n",
    "    except:\n",
    "        print('Check location of fasta files.')"
   ]
  },
  {
   "cell_type": "code",
   "execution_count": null,
   "metadata": {},
   "outputs": [],
   "source": [
    "def max_seq_len(SeqIO_dict):\n",
    "    \"\"\"\n",
    "    Fucntion takes a SeqIO_dict and returns the lenghts of the\n",
    "    longest sequence.\n",
    "    \"\"\"\n",
    "    total_lens = []\n",
    "    for key in SeqIO_dict.keys():\n",
    "        total_lens.append(len(SeqIO_dict[key].seq))\n",
    "    return max(total_lens)"
   ]
  },
  {
   "cell_type": "code",
   "execution_count": 54,
   "metadata": {},
   "outputs": [],
   "source": [
    "def numberfi(SeqIO_dict, seq_len, nsubsample):\n",
    "    \"\"\"\n",
    "    Take SeqIO_dict and return SeqIO_dict were bases have been replaced\n",
    "    with numbers\n",
    "    ACGT- to 01234\n",
    "    Take the seq_len each sequence should have.\n",
    "    \"\"\"\n",
    "    num_dict = {}\n",
    "    \n",
    "    keys = list(SeqIO_dict.keys())\n",
    "    randkeys = random.sample(keys, k= nsubsample)\n",
    "    \n",
    "    \n",
    "    for key in randkeys:\n",
    "        seq = str(SeqIO_dict[key].seq).replace(\"A\",'0 ')\\\n",
    "        .replace(\"C\",'1 ').replace(\"G\",'2 ').replace(\"T\",'3 ')\n",
    "        seq_new = seq + '4 '*(seq_len -int(len(seq)/2))\n",
    "        num_dict[key] = list(map(int, seq_new.split(' ')[:-1]))\n",
    "    return num_dict\n",
    "    "
   ]
  },
  {
   "cell_type": "code",
   "execution_count": null,
   "metadata": {},
   "outputs": [],
   "source": [
    "total_lens = []\n",
    "for key, value in SeqIO_dicts.items():\n",
    "    total_lens.append(max_seq_len(value))\n",
    "print(\"This is the maxium sequence length of all sampled sequences.\")\n",
    "print(max(total_lens))\n",
    "\n",
    "numSeqIO_dicts = {}\n",
    "max_len = max(total_lens)\n",
    "for key, value in SeqIO_dicts.items():\n",
    "    numSeqIO_dicts[key] = numberfi(value, max_len, n_reads)\n",
    "\n",
    "seq_list = []\n",
    "for index in indecies:\n",
    "    seq_list.append(np.array(list(numSeqIO_dicts[index].values())))\n",
    "seq_comb = np.concatenate(seq_list, axis = 0)"
   ]
  },
  {
   "cell_type": "code",
   "execution_count": null,
   "metadata": {},
   "outputs": [],
   "source": [
    "num_class = len(numSeqIO_dicts.keys())\n",
    "ids_comb = np.zeros( (n_reads*num_class,num_class) )\n",
    "for i in range(0, num_class):\n",
    "    ids_comb[i*n_reads:(i+1)*n_reads,i] = 1\n"
   ]
  },
  {
   "cell_type": "code",
   "execution_count": 56,
   "metadata": {},
   "outputs": [],
   "source": [
    "num_class = 3\n",
    "ids_comb = np.zeros( (n_reads*num_class,num_class) )"
   ]
  },
  {
   "cell_type": "code",
   "execution_count": 59,
   "metadata": {},
   "outputs": [],
   "source": [
    "for i in range(0, num_class):\n",
    "    ids_comb[i*n_reads:(i+1)*n_reads,i] = 1"
   ]
  },
  {
   "cell_type": "code",
   "execution_count": 60,
   "metadata": {},
   "outputs": [
    {
     "data": {
      "text/plain": [
       "array([[1., 0., 0.],\n",
       "       [1., 0., 0.],\n",
       "       [1., 0., 0.],\n",
       "       ...,\n",
       "       [0., 0., 1.],\n",
       "       [0., 0., 1.],\n",
       "       [0., 0., 1.]])"
      ]
     },
     "execution_count": 60,
     "metadata": {},
     "output_type": "execute_result"
    }
   ],
   "source": [
    "ids_comb"
   ]
  },
  {
   "cell_type": "code",
   "execution_count": 40,
   "metadata": {},
   "outputs": [
    {
     "data": {
      "text/html": [
       "<div>\n",
       "<style scoped>\n",
       "    .dataframe tbody tr th:only-of-type {\n",
       "        vertical-align: middle;\n",
       "    }\n",
       "\n",
       "    .dataframe tbody tr th {\n",
       "        vertical-align: top;\n",
       "    }\n",
       "\n",
       "    .dataframe thead th {\n",
       "        text-align: right;\n",
       "    }\n",
       "</style>\n",
       "<table border=\"1\" class=\"dataframe\">\n",
       "  <thead>\n",
       "    <tr style=\"text-align: right;\">\n",
       "      <th></th>\n",
       "      <th>Unnamed: 0</th>\n",
       "      <th>species</th>\n",
       "      <th>genus</th>\n",
       "      <th>family</th>\n",
       "      <th>order</th>\n",
       "      <th>class</th>\n",
       "      <th>phylum</th>\n",
       "      <th>kingdom</th>\n",
       "      <th># raw reads</th>\n",
       "      <th># reads after homology filtering</th>\n",
       "      <th># reads after length filtering</th>\n",
       "      <th>path to raw reads</th>\n",
       "      <th>path to homology filtering</th>\n",
       "      <th>path to length filtering</th>\n",
       "    </tr>\n",
       "  </thead>\n",
       "  <tbody>\n",
       "    <tr>\n",
       "      <th>0</th>\n",
       "      <td>20171103_FAH15473/barcode01</td>\n",
       "      <td>striiformis-tritici</td>\n",
       "      <td>Puccinia</td>\n",
       "      <td>Pucciniaceae</td>\n",
       "      <td>Pucciniales</td>\n",
       "      <td>Pucciniomycetes</td>\n",
       "      <td>Basidiomycota</td>\n",
       "      <td>Fungi</td>\n",
       "      <td>272465</td>\n",
       "      <td>122080</td>\n",
       "      <td>113337</td>\n",
       "      <td>analysis/Concatenated/20171103_FAH15473/barcod...</td>\n",
       "      <td>analysis/Python_Processing/20171103_FAH15473/b...</td>\n",
       "      <td>analysis/Length_Filtered/20171103_FAH15473/bar...</td>\n",
       "    </tr>\n",
       "    <tr>\n",
       "      <th>1</th>\n",
       "      <td>20171103_FAH15473/barcode02</td>\n",
       "      <td>tritici</td>\n",
       "      <td>Zymoseptoria</td>\n",
       "      <td>Mycosphaerellaceae</td>\n",
       "      <td>Capnodiales</td>\n",
       "      <td>Dothideomycetes</td>\n",
       "      <td>Ascomycota</td>\n",
       "      <td>Fungi</td>\n",
       "      <td>413127</td>\n",
       "      <td>143363</td>\n",
       "      <td>133089</td>\n",
       "      <td>analysis/Concatenated/20171103_FAH15473/barcod...</td>\n",
       "      <td>analysis/Python_Processing/20171103_FAH15473/b...</td>\n",
       "      <td>analysis/Length_Filtered/20171103_FAH15473/bar...</td>\n",
       "    </tr>\n",
       "    <tr>\n",
       "      <th>2</th>\n",
       "      <td>20171103_FAH15473/barcode03</td>\n",
       "      <td>tritici-repentis</td>\n",
       "      <td>Pyrenophora</td>\n",
       "      <td>Pleosporaceae</td>\n",
       "      <td>Pleosporales</td>\n",
       "      <td>Dothideomycetes</td>\n",
       "      <td>Ascomycota</td>\n",
       "      <td>Fungi</td>\n",
       "      <td>260896</td>\n",
       "      <td>97584</td>\n",
       "      <td>90015</td>\n",
       "      <td>analysis/Concatenated/20171103_FAH15473/barcod...</td>\n",
       "      <td>analysis/Python_Processing/20171103_FAH15473/b...</td>\n",
       "      <td>analysis/Length_Filtered/20171103_FAH15473/bar...</td>\n",
       "    </tr>\n",
       "    <tr>\n",
       "      <th>3</th>\n",
       "      <td>20171103_FAH15473/barcode04</td>\n",
       "      <td>oxysporum</td>\n",
       "      <td>Fusarium</td>\n",
       "      <td>Nectriaceae</td>\n",
       "      <td>Hypocreales</td>\n",
       "      <td>Sordariomycetes</td>\n",
       "      <td>Ascomycota</td>\n",
       "      <td>Fungi</td>\n",
       "      <td>382450</td>\n",
       "      <td>131411</td>\n",
       "      <td>123742</td>\n",
       "      <td>analysis/Concatenated/20171103_FAH15473/barcod...</td>\n",
       "      <td>analysis/Python_Processing/20171103_FAH15473/b...</td>\n",
       "      <td>analysis/Length_Filtered/20171103_FAH15473/bar...</td>\n",
       "    </tr>\n",
       "    <tr>\n",
       "      <th>4</th>\n",
       "      <td>20171103_FAH15473/barcode05</td>\n",
       "      <td>brumale</td>\n",
       "      <td>Tuber</td>\n",
       "      <td>Tuberaceae</td>\n",
       "      <td>Pezizales</td>\n",
       "      <td>Pezizomycetes</td>\n",
       "      <td>Ascomycota</td>\n",
       "      <td>Fungi</td>\n",
       "      <td>275035</td>\n",
       "      <td>80614</td>\n",
       "      <td>74232</td>\n",
       "      <td>analysis/Concatenated/20171103_FAH15473/barcod...</td>\n",
       "      <td>analysis/Python_Processing/20171103_FAH15473/b...</td>\n",
       "      <td>analysis/Length_Filtered/20171103_FAH15473/bar...</td>\n",
       "    </tr>\n",
       "  </tbody>\n",
       "</table>\n",
       "</div>"
      ],
      "text/plain": [
       "                    Unnamed: 0              species         genus  \\\n",
       "0  20171103_FAH15473/barcode01  striiformis-tritici      Puccinia   \n",
       "1  20171103_FAH15473/barcode02              tritici  Zymoseptoria   \n",
       "2  20171103_FAH15473/barcode03     tritici-repentis   Pyrenophora   \n",
       "3  20171103_FAH15473/barcode04            oxysporum      Fusarium   \n",
       "4  20171103_FAH15473/barcode05              brumale         Tuber   \n",
       "\n",
       "               family         order            class         phylum kingdom  \\\n",
       "0        Pucciniaceae   Pucciniales  Pucciniomycetes  Basidiomycota   Fungi   \n",
       "1  Mycosphaerellaceae   Capnodiales  Dothideomycetes     Ascomycota   Fungi   \n",
       "2       Pleosporaceae  Pleosporales  Dothideomycetes     Ascomycota   Fungi   \n",
       "3         Nectriaceae   Hypocreales  Sordariomycetes     Ascomycota   Fungi   \n",
       "4          Tuberaceae     Pezizales    Pezizomycetes     Ascomycota   Fungi   \n",
       "\n",
       "   # raw reads  # reads after homology filtering  \\\n",
       "0       272465                            122080   \n",
       "1       413127                            143363   \n",
       "2       260896                             97584   \n",
       "3       382450                            131411   \n",
       "4       275035                             80614   \n",
       "\n",
       "   # reads after length filtering  \\\n",
       "0                          113337   \n",
       "1                          133089   \n",
       "2                           90015   \n",
       "3                          123742   \n",
       "4                           74232   \n",
       "\n",
       "                                   path to raw reads  \\\n",
       "0  analysis/Concatenated/20171103_FAH15473/barcod...   \n",
       "1  analysis/Concatenated/20171103_FAH15473/barcod...   \n",
       "2  analysis/Concatenated/20171103_FAH15473/barcod...   \n",
       "3  analysis/Concatenated/20171103_FAH15473/barcod...   \n",
       "4  analysis/Concatenated/20171103_FAH15473/barcod...   \n",
       "\n",
       "                          path to homology filtering  \\\n",
       "0  analysis/Python_Processing/20171103_FAH15473/b...   \n",
       "1  analysis/Python_Processing/20171103_FAH15473/b...   \n",
       "2  analysis/Python_Processing/20171103_FAH15473/b...   \n",
       "3  analysis/Python_Processing/20171103_FAH15473/b...   \n",
       "4  analysis/Python_Processing/20171103_FAH15473/b...   \n",
       "\n",
       "                            path to length filtering  \n",
       "0  analysis/Length_Filtered/20171103_FAH15473/bar...  \n",
       "1  analysis/Length_Filtered/20171103_FAH15473/bar...  \n",
       "2  analysis/Length_Filtered/20171103_FAH15473/bar...  \n",
       "3  analysis/Length_Filtered/20171103_FAH15473/bar...  \n",
       "4  analysis/Length_Filtered/20171103_FAH15473/bar...  "
      ]
     },
     "execution_count": 40,
     "metadata": {},
     "output_type": "execute_result"
    }
   ],
   "source": [
    "ref_df.head()"
   ]
  },
  {
   "cell_type": "code",
   "execution_count": null,
   "metadata": {},
   "outputs": [],
   "source": []
  },
  {
   "cell_type": "code",
   "execution_count": null,
   "metadata": {},
   "outputs": [],
   "source": []
  },
  {
   "cell_type": "code",
   "execution_count": null,
   "metadata": {},
   "outputs": [],
   "source": []
  },
  {
   "cell_type": "code",
   "execution_count": 36,
   "metadata": {},
   "outputs": [
    {
     "data": {
      "text/plain": [
       "0     False\n",
       "1     False\n",
       "2     False\n",
       "3     False\n",
       "4     False\n",
       "5     False\n",
       "6     False\n",
       "7     False\n",
       "8     False\n",
       "9     False\n",
       "10    False\n",
       "11    False\n",
       "12    False\n",
       "13    False\n",
       "14    False\n",
       "15    False\n",
       "16    False\n",
       "17    False\n",
       "18    False\n",
       "19    False\n",
       "20    False\n",
       "21    False\n",
       "22    False\n",
       "23    False\n",
       "24    False\n",
       "25    False\n",
       "26    False\n",
       "27    False\n",
       "28    False\n",
       "29    False\n",
       "30    False\n",
       "31    False\n",
       "32    False\n",
       "33    False\n",
       "34    False\n",
       "35    False\n",
       "36     True\n",
       "37     True\n",
       "38     True\n",
       "39     True\n",
       "40    False\n",
       "41    False\n",
       "42     True\n",
       "43    False\n",
       "44    False\n",
       "45    False\n",
       "Name: genus, dtype: bool"
      ]
     },
     "execution_count": 36,
     "metadata": {},
     "output_type": "execute_result"
    }
   ],
   "source": [
    "ref_df[tax_rank] == 'Candida'"
   ]
  },
  {
   "cell_type": "code",
   "execution_count": 18,
   "metadata": {},
   "outputs": [
    {
     "data": {
      "text/html": [
       "<div>\n",
       "<style scoped>\n",
       "    .dataframe tbody tr th:only-of-type {\n",
       "        vertical-align: middle;\n",
       "    }\n",
       "\n",
       "    .dataframe tbody tr th {\n",
       "        vertical-align: top;\n",
       "    }\n",
       "\n",
       "    .dataframe thead th {\n",
       "        text-align: right;\n",
       "    }\n",
       "</style>\n",
       "<table border=\"1\" class=\"dataframe\">\n",
       "  <thead>\n",
       "    <tr style=\"text-align: right;\">\n",
       "      <th></th>\n",
       "      <th>Unnamed: 0</th>\n",
       "      <th>species</th>\n",
       "      <th>genus</th>\n",
       "      <th>family</th>\n",
       "      <th>order</th>\n",
       "      <th>class</th>\n",
       "      <th>phylum</th>\n",
       "      <th>kingdom</th>\n",
       "      <th># raw reads</th>\n",
       "      <th># reads after homology filtering</th>\n",
       "      <th># reads after length filtering</th>\n",
       "      <th>path to raw reads</th>\n",
       "      <th>path to homology filtering</th>\n",
       "      <th>path to length filtering</th>\n",
       "    </tr>\n",
       "  </thead>\n",
       "  <tbody>\n",
       "    <tr>\n",
       "      <th>0</th>\n",
       "      <td>20171103_FAH15473/barcode01</td>\n",
       "      <td>striiformis-tritici</td>\n",
       "      <td>Puccinia</td>\n",
       "      <td>Pucciniaceae</td>\n",
       "      <td>Pucciniales</td>\n",
       "      <td>Pucciniomycetes</td>\n",
       "      <td>Basidiomycota</td>\n",
       "      <td>Fungi</td>\n",
       "      <td>272465</td>\n",
       "      <td>122080</td>\n",
       "      <td>113337</td>\n",
       "      <td>analysis/Concatenated/20171103_FAH15473/barcod...</td>\n",
       "      <td>analysis/Python_Processing/20171103_FAH15473/b...</td>\n",
       "      <td>analysis/Length_Filtered/20171103_FAH15473/bar...</td>\n",
       "    </tr>\n",
       "    <tr>\n",
       "      <th>1</th>\n",
       "      <td>20171103_FAH15473/barcode02</td>\n",
       "      <td>tritici</td>\n",
       "      <td>Zymoseptoria</td>\n",
       "      <td>Mycosphaerellaceae</td>\n",
       "      <td>Capnodiales</td>\n",
       "      <td>Dothideomycetes</td>\n",
       "      <td>Ascomycota</td>\n",
       "      <td>Fungi</td>\n",
       "      <td>413127</td>\n",
       "      <td>143363</td>\n",
       "      <td>133089</td>\n",
       "      <td>analysis/Concatenated/20171103_FAH15473/barcod...</td>\n",
       "      <td>analysis/Python_Processing/20171103_FAH15473/b...</td>\n",
       "      <td>analysis/Length_Filtered/20171103_FAH15473/bar...</td>\n",
       "    </tr>\n",
       "    <tr>\n",
       "      <th>2</th>\n",
       "      <td>20171103_FAH15473/barcode03</td>\n",
       "      <td>tritici-repentis</td>\n",
       "      <td>Pyrenophora</td>\n",
       "      <td>Pleosporaceae</td>\n",
       "      <td>Pleosporales</td>\n",
       "      <td>Dothideomycetes</td>\n",
       "      <td>Ascomycota</td>\n",
       "      <td>Fungi</td>\n",
       "      <td>260896</td>\n",
       "      <td>97584</td>\n",
       "      <td>90015</td>\n",
       "      <td>analysis/Concatenated/20171103_FAH15473/barcod...</td>\n",
       "      <td>analysis/Python_Processing/20171103_FAH15473/b...</td>\n",
       "      <td>analysis/Length_Filtered/20171103_FAH15473/bar...</td>\n",
       "    </tr>\n",
       "    <tr>\n",
       "      <th>3</th>\n",
       "      <td>20171103_FAH15473/barcode04</td>\n",
       "      <td>oxysporum</td>\n",
       "      <td>Fusarium</td>\n",
       "      <td>Nectriaceae</td>\n",
       "      <td>Hypocreales</td>\n",
       "      <td>Sordariomycetes</td>\n",
       "      <td>Ascomycota</td>\n",
       "      <td>Fungi</td>\n",
       "      <td>382450</td>\n",
       "      <td>131411</td>\n",
       "      <td>123742</td>\n",
       "      <td>analysis/Concatenated/20171103_FAH15473/barcod...</td>\n",
       "      <td>analysis/Python_Processing/20171103_FAH15473/b...</td>\n",
       "      <td>analysis/Length_Filtered/20171103_FAH15473/bar...</td>\n",
       "    </tr>\n",
       "    <tr>\n",
       "      <th>4</th>\n",
       "      <td>20171103_FAH15473/barcode05</td>\n",
       "      <td>brumale</td>\n",
       "      <td>Tuber</td>\n",
       "      <td>Tuberaceae</td>\n",
       "      <td>Pezizales</td>\n",
       "      <td>Pezizomycetes</td>\n",
       "      <td>Ascomycota</td>\n",
       "      <td>Fungi</td>\n",
       "      <td>275035</td>\n",
       "      <td>80614</td>\n",
       "      <td>74232</td>\n",
       "      <td>analysis/Concatenated/20171103_FAH15473/barcod...</td>\n",
       "      <td>analysis/Python_Processing/20171103_FAH15473/b...</td>\n",
       "      <td>analysis/Length_Filtered/20171103_FAH15473/bar...</td>\n",
       "    </tr>\n",
       "  </tbody>\n",
       "</table>\n",
       "</div>"
      ],
      "text/plain": [
       "                    Unnamed: 0              species         genus  \\\n",
       "0  20171103_FAH15473/barcode01  striiformis-tritici      Puccinia   \n",
       "1  20171103_FAH15473/barcode02              tritici  Zymoseptoria   \n",
       "2  20171103_FAH15473/barcode03     tritici-repentis   Pyrenophora   \n",
       "3  20171103_FAH15473/barcode04            oxysporum      Fusarium   \n",
       "4  20171103_FAH15473/barcode05              brumale         Tuber   \n",
       "\n",
       "               family         order            class         phylum kingdom  \\\n",
       "0        Pucciniaceae   Pucciniales  Pucciniomycetes  Basidiomycota   Fungi   \n",
       "1  Mycosphaerellaceae   Capnodiales  Dothideomycetes     Ascomycota   Fungi   \n",
       "2       Pleosporaceae  Pleosporales  Dothideomycetes     Ascomycota   Fungi   \n",
       "3         Nectriaceae   Hypocreales  Sordariomycetes     Ascomycota   Fungi   \n",
       "4          Tuberaceae     Pezizales    Pezizomycetes     Ascomycota   Fungi   \n",
       "\n",
       "   # raw reads  # reads after homology filtering  \\\n",
       "0       272465                            122080   \n",
       "1       413127                            143363   \n",
       "2       260896                             97584   \n",
       "3       382450                            131411   \n",
       "4       275035                             80614   \n",
       "\n",
       "   # reads after length filtering  \\\n",
       "0                          113337   \n",
       "1                          133089   \n",
       "2                           90015   \n",
       "3                          123742   \n",
       "4                           74232   \n",
       "\n",
       "                                   path to raw reads  \\\n",
       "0  analysis/Concatenated/20171103_FAH15473/barcod...   \n",
       "1  analysis/Concatenated/20171103_FAH15473/barcod...   \n",
       "2  analysis/Concatenated/20171103_FAH15473/barcod...   \n",
       "3  analysis/Concatenated/20171103_FAH15473/barcod...   \n",
       "4  analysis/Concatenated/20171103_FAH15473/barcod...   \n",
       "\n",
       "                          path to homology filtering  \\\n",
       "0  analysis/Python_Processing/20171103_FAH15473/b...   \n",
       "1  analysis/Python_Processing/20171103_FAH15473/b...   \n",
       "2  analysis/Python_Processing/20171103_FAH15473/b...   \n",
       "3  analysis/Python_Processing/20171103_FAH15473/b...   \n",
       "4  analysis/Python_Processing/20171103_FAH15473/b...   \n",
       "\n",
       "                            path to length filtering  \n",
       "0  analysis/Length_Filtered/20171103_FAH15473/bar...  \n",
       "1  analysis/Length_Filtered/20171103_FAH15473/bar...  \n",
       "2  analysis/Length_Filtered/20171103_FAH15473/bar...  \n",
       "3  analysis/Length_Filtered/20171103_FAH15473/bar...  \n",
       "4  analysis/Length_Filtered/20171103_FAH15473/bar...  "
      ]
     },
     "execution_count": 18,
     "metadata": {},
     "output_type": "execute_result"
    }
   ],
   "source": [
    "ref_df.head()"
   ]
  },
  {
   "cell_type": "code",
   "execution_count": null,
   "metadata": {},
   "outputs": [],
   "source": []
  }
 ],
 "metadata": {
  "kernelspec": {
   "display_name": "Python 3",
   "language": "python",
   "name": "python3"
  },
  "language_info": {
   "codemirror_mode": {
    "name": "ipython",
    "version": 3
   },
   "file_extension": ".py",
   "mimetype": "text/x-python",
   "name": "python",
   "nbconvert_exporter": "python",
   "pygments_lexer": "ipython3",
   "version": "3.7.3"
  }
 },
 "nbformat": 4,
 "nbformat_minor": 2
}
