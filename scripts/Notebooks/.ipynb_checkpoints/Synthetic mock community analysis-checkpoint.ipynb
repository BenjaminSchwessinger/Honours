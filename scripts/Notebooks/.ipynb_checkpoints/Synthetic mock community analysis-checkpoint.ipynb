{
 "cells": [
  {
   "cell_type": "markdown",
   "metadata": {},
   "source": [
    "### Notebook to analyzse the efficiency of minimap mapping against a mock community"
   ]
  },
  {
   "cell_type": "markdown",
   "metadata": {},
   "source": [
    "Starting points from Tavish  \n",
    "reference_dataframe at '/media/MassStorage/tmp/TE/honours/analysis/Stats/reference_dataframe.csv'  \n",
    "custom_database at '/media/MassStorage/tmp/TE/honours/database/custom_database_labelled.fasta'  \n",
    "taxonomy_file at '/media/MassStorage/tmp/TE/honours/analysis/Stats/taxonomy_file.csv'"
   ]
  },
  {
   "cell_type": "markdown",
   "metadata": {},
   "source": [
    "#### workflow\n",
    "\n",
    "* Two databases\n",
    "* subsample 15000 reads per each mock community species. Save those out.\n",
    "* map reads against both databases with minimap safe out data in paf format.\n",
    "* get best hit per species (see what this means while looking at the data).\n",
    "* add the full taxonomy to each best match using the taxonomy file.\n",
    "* summarize data at different taxonomic ranks for each species.\n",
    "* pull this all together somehow (summary across all the samples? focus on species of interest e.g. deleted from analyis?)"
   ]
  },
  {
   "cell_type": "code",
   "execution_count": 1,
   "metadata": {},
   "outputs": [],
   "source": [
    "from Bio import SeqIO\n",
    "import os\n",
    "import random\n",
    "import subprocess\n",
    "import pandas as pd"
   ]
  },
  {
   "cell_type": "markdown",
   "metadata": {},
   "source": [
    "#### Initial data"
   ]
  },
  {
   "cell_type": "code",
   "execution_count": 2,
   "metadata": {},
   "outputs": [],
   "source": [
    "reference_dataframe_fn = os.path.abspath('/media/MassStorage/tmp/TE/honours/analysis/Stats/reference_dataframe.csv')\n",
    "max_custom_database_fn = os.path.abspath('/media/MassStorage/tmp/TE/honours/database/custom_database_labelled.fasta')\n",
    "taxonomy_file_fn = os.path.abspath('/media/MassStorage/tmp/TE/honours/analysis/Stats/taxonomy_file.csv')"
   ]
  },
  {
   "cell_type": "code",
   "execution_count": 3,
   "metadata": {},
   "outputs": [],
   "source": [
    "INPUT_BASEDIR = os.path.abspath('/media/MassStorage/tmp/TE/honours')"
   ]
  },
  {
   "cell_type": "code",
   "execution_count": 4,
   "metadata": {},
   "outputs": [],
   "source": [
    "OUT_DIR = os.path.abspath('../../analysis/Mapping_mock_gsref')\n",
    "if not os.path.exists(OUT_DIR):\n",
    "    os.mkdir(OUT_DIR)"
   ]
  },
  {
   "cell_type": "code",
   "execution_count": 5,
   "metadata": {},
   "outputs": [],
   "source": [
    "### list of species in the max database\n",
    "max_species = ['Puccinia_striiformis_tritici',\n",
    " 'Zymoseptoria_tritici',\n",
    " 'Pyrenophora_tritici-repentis',\n",
    " 'Fusarium_oxysporum',\n",
    " 'Tuber_brumale',\n",
    " 'Cortinarius_globuliformis',\n",
    " 'Aspergillus_niger',\n",
    " 'Clavispora_lusitaniae',\n",
    " 'Cryptococcus_neoformans',\n",
    " 'Penicillium_chrysogenum',\n",
    " 'Rhodotorula_mucilaginosa',\n",
    " 'Scedosporium_boydii',\n",
    " 'Blastobotrys_proliferans',\n",
    " 'Candida_zeylanoides',\n",
    " 'Galactomyces_geotrichum',\n",
    " 'Kodamaea_ohmeri',\n",
    " 'Meyerozyma_guillermondii',\n",
    " 'Wickerhamomyces_anomalus',\n",
    " 'Yamadazyma_mexicana',\n",
    " 'Yamadazyma_scolyti',\n",
    " 'Yarrowia_lipolytica',\n",
    " 'Zygoascus_hellenicus',\n",
    " 'Aspergillus_flavus',\n",
    " 'Cryptococcus_zero',\n",
    " 'Aspergillus_sp.',\n",
    " 'CCL067',\n",
    " 'Diaporthe_sp.',\n",
    " 'Tapesia_yallundae_CCL031',\n",
    " 'Tapesia_yallundae_CCL029',\n",
    " 'Dothiorella_vidmadera',\n",
    " 'Quambalaria_cyanescens',\n",
    " 'Entoleuca_sp.',\n",
    " 'CCL060',\n",
    " 'CCL068',\n",
    " 'Saccharomyces_cerevisiae',\n",
    " 'Cladophialophora_sp.',\n",
    " 'Candida_albicans',\n",
    " 'Candida_metapsilosis',\n",
    " 'Candida_orthopsilosis',\n",
    " 'Candida_parapsilosis',\n",
    " 'Geotrichum_candidum',\n",
    " 'Kluyveromyces_lactis',\n",
    " 'Kluyveromyces_marxianus',\n",
    " 'Pichia_kudriavzevii',\n",
    " 'Pichia_membranifaciens']"
   ]
  },
  {
   "cell_type": "code",
   "execution_count": 6,
   "metadata": {},
   "outputs": [],
   "source": [
    "###Removed from second test databes\n",
    "species_delete = ['Candida_orthopsilosis',\n",
    "                 'Candida_metapsilosis',\n",
    "                 'Aspergillus_niger']"
   ]
  },
  {
   "cell_type": "code",
   "execution_count": 7,
   "metadata": {},
   "outputs": [],
   "source": [
    "###species to be searched against both databases\n",
    "mock_community = ['Penicillium_chrysogenum',\n",
    " 'Aspergillus_flavus',\n",
    " 'Aspergillus_niger',\n",
    " 'Pichia_kudriavzevii',\n",
    " 'Pichia_membranifaciens',\n",
    " 'Candida_albicans',\n",
    " 'Candida_parapsilosis',\n",
    " 'Candida_orthopsilosis',\n",
    " 'Candida_metapsilosis']"
   ]
  },
  {
   "cell_type": "code",
   "execution_count": 8,
   "metadata": {},
   "outputs": [],
   "source": [
    "fixed_old_names = ['Kluyveromyces_lactis',\n",
    "                   'Candida_zeylanoides',\n",
    "                   'Cladophialophora_sp.',\n",
    "                   'Diaporthe_sp.',\n",
    "                   'CCL060',\n",
    "                   'CCL068',\n",
    "                   'CCL067',\n",
    "                   'Aspergillus_sp.',\n",
    "                   'Entoleuca_sp.',\n",
    "                   'Tapesia_yallundae_CCL029',\n",
    "                   'Tapesia_yallundae_CCL031',\n",
    "                   'Cryptococcus_neoformans']"
   ]
  },
  {
   "cell_type": "code",
   "execution_count": 9,
   "metadata": {},
   "outputs": [],
   "source": [
    "fixed_new_names = ['candida_unidentified',\n",
    "                   'debaryomyces_unidentified',\n",
    "                   'cladophialophora_unidentified',\n",
    "                   'diaporthe_unidentified',\n",
    "                   'asteroma_ccl060',\n",
    "                   'asteroma_ccl068',\n",
    "                   'diaporthe_ccl067',\n",
    "                   'aspergillus_unidentified',\n",
    "                   'entoleuca_unidentified',\n",
    "                   'oculimacula_yallundae-ccl029',\n",
    "                   'oculimacula_yallundae-ccl031',\n",
    "                   'kluyveromyces_unidentified']"
   ]
  },
  {
   "cell_type": "code",
   "execution_count": 10,
   "metadata": {},
   "outputs": [],
   "source": [
    "old_to_new_names = dict(zip(fixed_old_names, fixed_new_names))"
   ]
  },
  {
   "cell_type": "code",
   "execution_count": 11,
   "metadata": {},
   "outputs": [
    {
     "data": {
      "text/plain": [
       "{'Kluyveromyces_lactis': 'candida_unidentified',\n",
       " 'Candida_zeylanoides': 'debaryomyces_unidentified',\n",
       " 'Cladophialophora_sp.': 'cladophialophora_unidentified',\n",
       " 'Diaporthe_sp.': 'diaporthe_unidentified',\n",
       " 'CCL060': 'asteroma_ccl060',\n",
       " 'CCL068': 'asteroma_ccl068',\n",
       " 'CCL067': 'diaporthe_ccl067',\n",
       " 'Aspergillus_sp.': 'aspergillus_unidentified',\n",
       " 'Entoleuca_sp.': 'entoleuca_unidentified',\n",
       " 'Tapesia_yallundae_CCL029': 'oculimacula_yallundae-ccl029',\n",
       " 'Tapesia_yallundae_CCL031': 'oculimacula_yallundae-ccl031',\n",
       " 'Cryptococcus_neoformans': 'kluyveromyces_unidentified'}"
      ]
     },
     "execution_count": 11,
     "metadata": {},
     "output_type": "execute_result"
    }
   ],
   "source": [
    "old_to_new_names"
   ]
  },
  {
   "cell_type": "markdown",
   "metadata": {},
   "source": [
    "### Fix databases and names"
   ]
  },
  {
   "cell_type": "code",
   "execution_count": 12,
   "metadata": {},
   "outputs": [],
   "source": [
    "ref_df = pd.read_csv(reference_dataframe_fn)\n",
    "ref_df['name_species'] = ref_df['genus'] +\"_\"+ ref_df['species']"
   ]
  },
  {
   "cell_type": "code",
   "execution_count": 13,
   "metadata": {},
   "outputs": [
    {
     "data": {
      "text/plain": [
       "['puccinia_striiformis-tritici',\n",
       " 'zymoseptoria_tritici',\n",
       " 'pyrenophora_tritici-repentis',\n",
       " 'fusarium_oxysporum',\n",
       " 'tuber_brumale',\n",
       " 'cortinarius_globuliformis',\n",
       " 'aspergillus_niger',\n",
       " 'clavispora_lusitaniae',\n",
       " 'kluyveromyces_unidentified',\n",
       " 'penicillium_chrysogenum',\n",
       " 'rhodotorula_mucilaginosa',\n",
       " 'scedosporium_boydii',\n",
       " 'blastobotrys_proliferans',\n",
       " 'debaryomyces_unidentified',\n",
       " 'galactomyces_geotrichum',\n",
       " 'kodamaea_ohmeri',\n",
       " 'meyerozyma_guillermondii',\n",
       " 'wickerhamomyces_anomalus',\n",
       " 'yamadazyma_mexicana',\n",
       " 'yamadazyma_scolyti',\n",
       " 'yarrowia_lipolytica',\n",
       " 'zygoascus_hellenicus',\n",
       " 'aspergillus_flavus',\n",
       " 'cryptococcus_zero',\n",
       " 'aspergillus_unidentified',\n",
       " 'diaporthe_ccl067',\n",
       " 'diaporthe_unidentified',\n",
       " 'oculimacula_yallundae-ccl031',\n",
       " 'oculimacula_yallundae-ccl029',\n",
       " 'dothiorella_vidmadera',\n",
       " 'quambalaria_cyanescens',\n",
       " 'entoleuca_unidentified',\n",
       " 'asteroma_ccl060',\n",
       " 'asteroma_ccl068',\n",
       " 'saccharomyces_cerevisiae',\n",
       " 'cladophialophora_unidentified',\n",
       " 'candida_albicans',\n",
       " 'candida_metapsilosis',\n",
       " 'candida_orthopsilosis',\n",
       " 'candida_parapsilosis',\n",
       " 'candida_unidentified',\n",
       " 'kluyveromyces_marxianus',\n",
       " 'pichia_kudriavzevii',\n",
       " 'pichia_membranifaciens']"
      ]
     },
     "execution_count": 13,
     "metadata": {},
     "output_type": "execute_result"
    }
   ],
   "source": [
    "ref_df.name_species.tolist()"
   ]
  },
  {
   "cell_type": "code",
   "execution_count": 14,
   "metadata": {},
   "outputs": [],
   "source": [
    "new_db_fn = os.path.join(OUT_DIR, 'gsref.db.fasta')"
   ]
  },
  {
   "cell_type": "code",
   "execution_count": 15,
   "metadata": {},
   "outputs": [],
   "source": [
    "new_db_list = []\n",
    "old_db_list = []\n",
    "for seq in SeqIO.parse(max_custom_database_fn, 'fasta'):\n",
    "    old_db_list.append(seq.id)\n",
    "    if seq.id in old_to_new_names.keys():\n",
    "        #print(seq.id)\n",
    "        seq.id = seq.name = seq.description = old_to_new_names[seq.id]\n",
    "        new_db_list.append(seq)\n",
    "    elif seq.id.lower() in ref_df.name_species.tolist():\n",
    "        #print(seq.id)\n",
    "        seq.id = seq.name = seq.description = seq.id.lower()\n",
    "        new_db_list.append(seq)\n",
    "    else:\n",
    "        print(seq.id)"
   ]
  },
  {
   "cell_type": "code",
   "execution_count": 16,
   "metadata": {},
   "outputs": [
    {
     "name": "stdout",
     "output_type": "stream",
     "text": [
      "please check!\n"
     ]
    }
   ],
   "source": [
    "if len(new_db_list) == len(old_db_list) -2:\n",
    "    SeqIO.write(new_db_list, new_db_fn, 'fasta')\n",
    "else:\n",
    "    print(\"please check!\")"
   ]
  },
  {
   "cell_type": "code",
   "execution_count": 17,
   "metadata": {},
   "outputs": [],
   "source": [
    "sub_db_fn = os.path.join(OUT_DIR, 'gsref.subdb.fasta')\n",
    "sub_db_list = []\n",
    "for seq in new_db_list:\n",
    "    if seq.id not in [x.lower() for x in species_delete]:\n",
    "        sub_db_list.append(seq)"
   ]
  },
  {
   "cell_type": "code",
   "execution_count": 18,
   "metadata": {},
   "outputs": [],
   "source": [
    "if len(sub_db_list) + len(species_delete) == len(new_db_list):\n",
    "    SeqIO.write(sub_db_list, sub_db_fn, 'fasta' )\n",
    "else:\n",
    "    print(\"please check!\")"
   ]
  },
  {
   "cell_type": "code",
   "execution_count": 19,
   "metadata": {},
   "outputs": [
    {
     "data": {
      "text/plain": [
       "['puccinia_striiformis-tritici',\n",
       " 'zymoseptoria_tritici',\n",
       " 'pyrenophora_tritici-repentis',\n",
       " 'fusarium_oxysporum',\n",
       " 'tuber_brumale',\n",
       " 'cortinarius_globuliformis',\n",
       " 'clavispora_lusitaniae',\n",
       " 'kluyveromyces_unidentified',\n",
       " 'penicillium_chrysogenum',\n",
       " 'rhodotorula_mucilaginosa',\n",
       " 'scedosporium_boydii',\n",
       " 'blastobotrys_proliferans',\n",
       " 'debaryomyces_unidentified',\n",
       " 'galactomyces_geotrichum',\n",
       " 'kodamaea_ohmeri',\n",
       " 'meyerozyma_guillermondii',\n",
       " 'wickerhamomyces_anomalus',\n",
       " 'yamadazyma_mexicana',\n",
       " 'yamadazyma_scolyti',\n",
       " 'yarrowia_lipolytica',\n",
       " 'zygoascus_hellenicus',\n",
       " 'aspergillus_flavus',\n",
       " 'cryptococcus_zero',\n",
       " 'aspergillus_unidentified',\n",
       " 'diaporthe_ccl067',\n",
       " 'diaporthe_unidentified',\n",
       " 'oculimacula_yallundae-ccl031',\n",
       " 'oculimacula_yallundae-ccl029',\n",
       " 'dothiorella_vidmadera',\n",
       " 'quambalaria_cyanescens',\n",
       " 'entoleuca_unidentified',\n",
       " 'asteroma_ccl060',\n",
       " 'asteroma_ccl068',\n",
       " 'saccharomyces_cerevisiae',\n",
       " 'cladophialophora_unidentified',\n",
       " 'candida_albicans',\n",
       " 'candida_parapsilosis',\n",
       " 'candida_unidentified',\n",
       " 'kluyveromyces_marxianus',\n",
       " 'pichia_kudriavzevii',\n",
       " 'pichia_membranifaciens']"
      ]
     },
     "execution_count": 19,
     "metadata": {},
     "output_type": "execute_result"
    }
   ],
   "source": [
    "[x.id for x in sub_db_list]"
   ]
  },
  {
   "cell_type": "code",
   "execution_count": 20,
   "metadata": {},
   "outputs": [],
   "source": [
    "mock_community = [x.lower() for x in mock_community]"
   ]
  },
  {
   "cell_type": "code",
   "execution_count": 21,
   "metadata": {},
   "outputs": [
    {
     "data": {
      "text/plain": [
       "['penicillium_chrysogenum',\n",
       " 'aspergillus_flavus',\n",
       " 'aspergillus_niger',\n",
       " 'pichia_kudriavzevii',\n",
       " 'pichia_membranifaciens',\n",
       " 'candida_albicans',\n",
       " 'candida_parapsilosis',\n",
       " 'candida_orthopsilosis',\n",
       " 'candida_metapsilosis']"
      ]
     },
     "execution_count": 21,
     "metadata": {},
     "output_type": "execute_result"
    }
   ],
   "source": [
    "mock_community"
   ]
  },
  {
   "cell_type": "markdown",
   "metadata": {},
   "source": [
    "### Subsample reads"
   ]
  },
  {
   "cell_type": "code",
   "execution_count": 36,
   "metadata": {},
   "outputs": [],
   "source": [
    "def subsamplereads(in_fn, out_fn, n_reads):\n",
    "    command = F'reformat.sh samplereadstarget={n_reads} in={in_fn} out={out_fn}'\n",
    "    out = subprocess.getstatusoutput(command)\n",
    "    if out[0] == 0:\n",
    "        print(F\":)Completed {command}\\n\")\n",
    "    else:\n",
    "        print(F\":(check one {command}!!\\n\")"
   ]
  },
  {
   "cell_type": "code",
   "execution_count": 37,
   "metadata": {},
   "outputs": [],
   "source": [
    "n_reads = 15000"
   ]
  },
  {
   "cell_type": "code",
   "execution_count": 38,
   "metadata": {},
   "outputs": [],
   "source": [
    "MC_READ_DIR = os.path.join(OUT_DIR, 'MC_READS')\n",
    "if not os.path.exists(MC_READ_DIR):\n",
    "    os.mkdir(MC_READ_DIR)"
   ]
  },
  {
   "cell_type": "code",
   "execution_count": 39,
   "metadata": {},
   "outputs": [
    {
     "data": {
      "text/plain": [
       "Index(['Unnamed: 0', 'species', 'genus', 'family', 'order', 'class', 'phylum',\n",
       "       'kingdom', '# raw reads', '# reads after homology filtering',\n",
       "       '# reads after length filtering', '# for use', 'path to raw reads',\n",
       "       'path to homology filtering', 'path to length filtering',\n",
       "       'path for use', 'name_species'],\n",
       "      dtype='object')"
      ]
     },
     "execution_count": 39,
     "metadata": {},
     "output_type": "execute_result"
    }
   ],
   "source": [
    "ref_df.columns"
   ]
  },
  {
   "cell_type": "code",
   "execution_count": 40,
   "metadata": {},
   "outputs": [
    {
     "data": {
      "text/plain": [
       "{'penicillium_chrysogenum': '/media/MassStorage/tmp/TE/honours/analysis/Length_Filtered/20171103_FAH15473/barcode10/length_restricted_for_use.fasta',\n",
       " 'aspergillus_flavus': '/media/MassStorage/tmp/TE/honours/analysis/Length_Filtered/20171207_FAH18654/barcode12/length_restricted_for_use.fasta',\n",
       " 'aspergillus_niger': '/media/MassStorage/tmp/TE/honours/analysis/Length_Filtered/20171103_FAH15473/barcode07/length_restricted_for_use.fasta',\n",
       " 'pichia_kudriavzevii': '/media/MassStorage/tmp/TE/honours/analysis/Length_Filtered/20180108_FAH18647/barcode11/length_restricted_for_use.fasta',\n",
       " 'pichia_membranifaciens': '/media/MassStorage/tmp/TE/honours/analysis/Length_Filtered/20180108_FAH18647/barcode12/length_restricted_for_use.fasta',\n",
       " 'candida_albicans': '/media/MassStorage/tmp/TE/honours/analysis/Length_Filtered/20180108_FAH18647/barcode03/length_restricted_for_use.fasta',\n",
       " 'candida_parapsilosis': '/media/MassStorage/tmp/TE/honours/analysis/Length_Filtered/20180108_FAH18647/barcode06/length_restricted_for_use.fasta',\n",
       " 'candida_orthopsilosis': '/media/MassStorage/tmp/TE/honours/analysis/Length_Filtered/20180108_FAH18647/barcode05/length_restricted_for_use.fasta',\n",
       " 'candida_metapsilosis': '/media/MassStorage/tmp/TE/honours/analysis/Length_Filtered/20180108_FAH18647/barcode04/length_restricted_for_use.fasta'}"
      ]
     },
     "execution_count": 40,
     "metadata": {},
     "output_type": "execute_result"
    }
   ],
   "source": [
    "fn_subsampling = {}\n",
    "for x in mock_community:\n",
    "    fn_subsampling[x] = (ref_df[(ref_df['species'] == x.split('_')[1]) & (ref_df['genus'] == x.split('_')[0])]['path for use'].tolist()[0])\n",
    "    fn_subsampling[x] = os.path.join(INPUT_BASEDIR, fn_subsampling[x])\n",
    "fn_subsampling"
   ]
  },
  {
   "cell_type": "code",
   "execution_count": 41,
   "metadata": {},
   "outputs": [
    {
     "name": "stdout",
     "output_type": "stream",
     "text": [
      ":(check one reformat.sh samplereadstarget=15000 in=/media/MassStorage/tmp/TE/honours/analysis/Length_Filtered/20171103_FAH15473/barcode10/length_restricted_for_use.fasta out=/media/MassStorage/tmp/TE/honours/analysis/Mapping_mock_gsref/MC_READS/penicillium_chrysogenum.15000.fasta!!\n",
      "\n",
      ":(check one reformat.sh samplereadstarget=15000 in=/media/MassStorage/tmp/TE/honours/analysis/Length_Filtered/20171207_FAH18654/barcode12/length_restricted_for_use.fasta out=/media/MassStorage/tmp/TE/honours/analysis/Mapping_mock_gsref/MC_READS/aspergillus_flavus.15000.fasta!!\n",
      "\n",
      ":(check one reformat.sh samplereadstarget=15000 in=/media/MassStorage/tmp/TE/honours/analysis/Length_Filtered/20171103_FAH15473/barcode07/length_restricted_for_use.fasta out=/media/MassStorage/tmp/TE/honours/analysis/Mapping_mock_gsref/MC_READS/aspergillus_niger.15000.fasta!!\n",
      "\n",
      ":(check one reformat.sh samplereadstarget=15000 in=/media/MassStorage/tmp/TE/honours/analysis/Length_Filtered/20180108_FAH18647/barcode11/length_restricted_for_use.fasta out=/media/MassStorage/tmp/TE/honours/analysis/Mapping_mock_gsref/MC_READS/pichia_kudriavzevii.15000.fasta!!\n",
      "\n",
      ":(check one reformat.sh samplereadstarget=15000 in=/media/MassStorage/tmp/TE/honours/analysis/Length_Filtered/20180108_FAH18647/barcode12/length_restricted_for_use.fasta out=/media/MassStorage/tmp/TE/honours/analysis/Mapping_mock_gsref/MC_READS/pichia_membranifaciens.15000.fasta!!\n",
      "\n",
      ":(check one reformat.sh samplereadstarget=15000 in=/media/MassStorage/tmp/TE/honours/analysis/Length_Filtered/20180108_FAH18647/barcode03/length_restricted_for_use.fasta out=/media/MassStorage/tmp/TE/honours/analysis/Mapping_mock_gsref/MC_READS/candida_albicans.15000.fasta!!\n",
      "\n",
      ":(check one reformat.sh samplereadstarget=15000 in=/media/MassStorage/tmp/TE/honours/analysis/Length_Filtered/20180108_FAH18647/barcode06/length_restricted_for_use.fasta out=/media/MassStorage/tmp/TE/honours/analysis/Mapping_mock_gsref/MC_READS/candida_parapsilosis.15000.fasta!!\n",
      "\n",
      ":(check one reformat.sh samplereadstarget=15000 in=/media/MassStorage/tmp/TE/honours/analysis/Length_Filtered/20180108_FAH18647/barcode05/length_restricted_for_use.fasta out=/media/MassStorage/tmp/TE/honours/analysis/Mapping_mock_gsref/MC_READS/candida_orthopsilosis.15000.fasta!!\n",
      "\n",
      ":(check one reformat.sh samplereadstarget=15000 in=/media/MassStorage/tmp/TE/honours/analysis/Length_Filtered/20180108_FAH18647/barcode04/length_restricted_for_use.fasta out=/media/MassStorage/tmp/TE/honours/analysis/Mapping_mock_gsref/MC_READS/candida_metapsilosis.15000.fasta!!\n",
      "\n"
     ]
    }
   ],
   "source": [
    "sub_reads_fn = {}\n",
    "for key, value in fn_subsampling.items():\n",
    "    species = key\n",
    "    in_fn = value\n",
    "    out_fn = os.path.join(MC_READ_DIR, F'{species}.{n_reads}.fasta')\n",
    "    subsamplereads(in_fn, out_fn, n_reads)\n",
    "    sub_reads_fn[species] = out_fn"
   ]
  },
  {
   "cell_type": "markdown",
   "metadata": {},
   "source": [
    "### Map with minimap against both databases"
   ]
  },
  {
   "cell_type": "code",
   "execution_count": 28,
   "metadata": {},
   "outputs": [],
   "source": [
    "def minimapmapping(fasta_fn, ref_fn, out_fn):\n",
    "    command = F\"minimap2 -x map-ont -t 6 {ref_fn} {fasta_fn} -o {out_fn}\"\n",
    "    out = subprocess.getstatusoutput(command)\n",
    "    print(out)"
   ]
  },
  {
   "cell_type": "code",
   "execution_count": 29,
   "metadata": {},
   "outputs": [
    {
     "data": {
      "text/plain": [
       "{'/media/MassStorage/tmp/TE/honours/analysis/Mapping_mock_gsref/gsref.subdb.fasta': '/media/MassStorage/tmp/TE/honours/analysis/Mapping_mock_gsref/gsref_subdb',\n",
       " '/media/MassStorage/tmp/TE/honours/analysis/Mapping_mock_gsref/gsref.db.fasta': '/media/MassStorage/tmp/TE/honours/analysis/Mapping_mock_gsref/gsref_db'}"
      ]
     },
     "execution_count": 29,
     "metadata": {},
     "output_type": "execute_result"
    }
   ],
   "source": [
    "dbases_fn = {}\n",
    "for x in [sub_db_fn, new_db_fn]:\n",
    "    dbases_fn[x] = os.path.join(OUT_DIR, os.path.basename(x).replace('.fasta', '').replace('.','_'))\n",
    "    if not os.path.exists(dbases_fn[x]):\n",
    "        os.mkdir(dbases_fn[x])\n",
    "dbases_fn"
   ]
  },
  {
   "cell_type": "code",
   "execution_count": 30,
   "metadata": {},
   "outputs": [
    {
     "name": "stdout",
     "output_type": "stream",
     "text": [
      "(0, \"[M::mm_idx_gen::0.009*1.23] collected minimizers\\n[M::mm_idx_gen::0.011*2.14] sorted minimizers\\n[M::main::0.011*2.14] loaded/built the index for 41 target sequence(s)\\n[M::mm_mapopt_update::0.012*2.04] mid_occ = 42\\n[M::mm_idx_stat] kmer size: 15; skip: 10; is_hpc: 0; #seq: 41\\n[M::mm_idx_stat::0.013*1.96] distinct minimizers: 9557 (72.65% are singletons); average occurrences: 2.332; average spacing: 5.427\\nERROR: failed to open file '/media/MassStorage/tmp/TE/honours/analysis/Mapping_mock_gsref/MC_READS/penicillium_chrysogenum.15000.fasta'\\n[M::main] Version: 2.17-r941\\n[M::main] CMD: minimap2 -x map-ont -t 6 -o /media/MassStorage/tmp/TE/honours/analysis/Mapping_mock_gsref/gsref_subdb/gsref.subdb.penicillium_chrysogenum.minimap2.paf /media/MassStorage/tmp/TE/honours/analysis/Mapping_mock_gsref/gsref.subdb.fasta /media/MassStorage/tmp/TE/honours/analysis/Mapping_mock_gsref/MC_READS/penicillium_chrysogenum.15000.fasta\\n[M::main] Real time: 0.015 sec; CPU: 0.028 sec; Peak RSS: 0.005 GB\")\n",
      "(0, \"[M::mm_idx_gen::0.006*1.28] collected minimizers\\n[M::mm_idx_gen::0.008*2.45] sorted minimizers\\n[M::main::0.008*2.44] loaded/built the index for 41 target sequence(s)\\n[M::mm_mapopt_update::0.009*2.30] mid_occ = 42\\n[M::mm_idx_stat] kmer size: 15; skip: 10; is_hpc: 0; #seq: 41\\n[M::mm_idx_stat::0.010*2.21] distinct minimizers: 9557 (72.65% are singletons); average occurrences: 2.332; average spacing: 5.427\\nERROR: failed to open file '/media/MassStorage/tmp/TE/honours/analysis/Mapping_mock_gsref/MC_READS/aspergillus_flavus.15000.fasta'\\n[M::main] Version: 2.17-r941\\n[M::main] CMD: minimap2 -x map-ont -t 6 -o /media/MassStorage/tmp/TE/honours/analysis/Mapping_mock_gsref/gsref_subdb/gsref.subdb.aspergillus_flavus.minimap2.paf /media/MassStorage/tmp/TE/honours/analysis/Mapping_mock_gsref/gsref.subdb.fasta /media/MassStorage/tmp/TE/honours/analysis/Mapping_mock_gsref/MC_READS/aspergillus_flavus.15000.fasta\\n[M::main] Real time: 0.012 sec; CPU: 0.024 sec; Peak RSS: 0.005 GB\")\n",
      "(0, \"[M::mm_idx_gen::0.007*1.24] collected minimizers\\n[M::mm_idx_gen::0.010*2.31] sorted minimizers\\n[M::main::0.010*2.30] loaded/built the index for 41 target sequence(s)\\n[M::mm_mapopt_update::0.011*2.21] mid_occ = 42\\n[M::mm_idx_stat] kmer size: 15; skip: 10; is_hpc: 0; #seq: 41\\n[M::mm_idx_stat::0.011*2.14] distinct minimizers: 9557 (72.65% are singletons); average occurrences: 2.332; average spacing: 5.427\\nERROR: failed to open file '/media/MassStorage/tmp/TE/honours/analysis/Mapping_mock_gsref/MC_READS/aspergillus_niger.15000.fasta'\\n[M::main] Version: 2.17-r941\\n[M::main] CMD: minimap2 -x map-ont -t 6 -o /media/MassStorage/tmp/TE/honours/analysis/Mapping_mock_gsref/gsref_subdb/gsref.subdb.aspergillus_niger.minimap2.paf /media/MassStorage/tmp/TE/honours/analysis/Mapping_mock_gsref/gsref.subdb.fasta /media/MassStorage/tmp/TE/honours/analysis/Mapping_mock_gsref/MC_READS/aspergillus_niger.15000.fasta\\n[M::main] Real time: 0.013 sec; CPU: 0.026 sec; Peak RSS: 0.005 GB\")\n",
      "(0, \"[M::mm_idx_gen::0.009*1.18] collected minimizers\\n[M::mm_idx_gen::0.012*2.15] sorted minimizers\\n[M::main::0.012*2.15] loaded/built the index for 41 target sequence(s)\\n[M::mm_mapopt_update::0.013*2.06] mid_occ = 42\\n[M::mm_idx_stat] kmer size: 15; skip: 10; is_hpc: 0; #seq: 41\\n[M::mm_idx_stat::0.013*2.00] distinct minimizers: 9557 (72.65% are singletons); average occurrences: 2.332; average spacing: 5.427\\nERROR: failed to open file '/media/MassStorage/tmp/TE/honours/analysis/Mapping_mock_gsref/MC_READS/pichia_kudriavzevii.15000.fasta'\\n[M::main] Version: 2.17-r941\\n[M::main] CMD: minimap2 -x map-ont -t 6 -o /media/MassStorage/tmp/TE/honours/analysis/Mapping_mock_gsref/gsref_subdb/gsref.subdb.pichia_kudriavzevii.minimap2.paf /media/MassStorage/tmp/TE/honours/analysis/Mapping_mock_gsref/gsref.subdb.fasta /media/MassStorage/tmp/TE/honours/analysis/Mapping_mock_gsref/MC_READS/pichia_kudriavzevii.15000.fasta\\n[M::main] Real time: 0.015 sec; CPU: 0.029 sec; Peak RSS: 0.005 GB\")\n",
      "(0, \"[M::mm_idx_gen::0.007*1.19] collected minimizers\\n[M::mm_idx_gen::0.010*2.25] sorted minimizers\\n[M::main::0.010*2.25] loaded/built the index for 41 target sequence(s)\\n[M::mm_mapopt_update::0.011*2.14] mid_occ = 42\\n[M::mm_idx_stat] kmer size: 15; skip: 10; is_hpc: 0; #seq: 41\\n[M::mm_idx_stat::0.011*2.06] distinct minimizers: 9557 (72.65% are singletons); average occurrences: 2.332; average spacing: 5.427\\nERROR: failed to open file '/media/MassStorage/tmp/TE/honours/analysis/Mapping_mock_gsref/MC_READS/pichia_membranifaciens.15000.fasta'\\n[M::main] Version: 2.17-r941\\n[M::main] CMD: minimap2 -x map-ont -t 6 -o /media/MassStorage/tmp/TE/honours/analysis/Mapping_mock_gsref/gsref_subdb/gsref.subdb.pichia_membranifaciens.minimap2.paf /media/MassStorage/tmp/TE/honours/analysis/Mapping_mock_gsref/gsref.subdb.fasta /media/MassStorage/tmp/TE/honours/analysis/Mapping_mock_gsref/MC_READS/pichia_membranifaciens.15000.fasta\\n[M::main] Real time: 0.013 sec; CPU: 0.025 sec; Peak RSS: 0.005 GB\")\n",
      "(0, \"[M::mm_idx_gen::0.009*1.14] collected minimizers\\n[M::mm_idx_gen::0.011*2.12] sorted minimizers\\n[M::main::0.011*2.11] loaded/built the index for 41 target sequence(s)\\n[M::mm_mapopt_update::0.012*2.04] mid_occ = 42\\n[M::mm_idx_stat] kmer size: 15; skip: 10; is_hpc: 0; #seq: 41\\n[M::mm_idx_stat::0.013*1.99] distinct minimizers: 9557 (72.65% are singletons); average occurrences: 2.332; average spacing: 5.427\\nERROR: failed to open file '/media/MassStorage/tmp/TE/honours/analysis/Mapping_mock_gsref/MC_READS/candida_albicans.15000.fasta'\\n[M::main] Version: 2.17-r941\\n[M::main] CMD: minimap2 -x map-ont -t 6 -o /media/MassStorage/tmp/TE/honours/analysis/Mapping_mock_gsref/gsref_subdb/gsref.subdb.candida_albicans.minimap2.paf /media/MassStorage/tmp/TE/honours/analysis/Mapping_mock_gsref/gsref.subdb.fasta /media/MassStorage/tmp/TE/honours/analysis/Mapping_mock_gsref/MC_READS/candida_albicans.15000.fasta\\n[M::main] Real time: 0.014 sec; CPU: 0.027 sec; Peak RSS: 0.005 GB\")\n",
      "(0, \"[M::mm_idx_gen::0.009*1.15] collected minimizers\\n[M::mm_idx_gen::0.012*2.10] sorted minimizers\\n[M::main::0.012*2.09] loaded/built the index for 41 target sequence(s)\\n[M::mm_mapopt_update::0.013*2.01] mid_occ = 42\\n[M::mm_idx_stat] kmer size: 15; skip: 10; is_hpc: 0; #seq: 41\\n[M::mm_idx_stat::0.013*1.98] distinct minimizers: 9557 (72.65% are singletons); average occurrences: 2.332; average spacing: 5.427\\nERROR: failed to open file '/media/MassStorage/tmp/TE/honours/analysis/Mapping_mock_gsref/MC_READS/candida_parapsilosis.15000.fasta'\\n[M::main] Version: 2.17-r941\\n[M::main] CMD: minimap2 -x map-ont -t 6 -o /media/MassStorage/tmp/TE/honours/analysis/Mapping_mock_gsref/gsref_subdb/gsref.subdb.candida_parapsilosis.minimap2.paf /media/MassStorage/tmp/TE/honours/analysis/Mapping_mock_gsref/gsref.subdb.fasta /media/MassStorage/tmp/TE/honours/analysis/Mapping_mock_gsref/MC_READS/candida_parapsilosis.15000.fasta\\n[M::main] Real time: 0.014 sec; CPU: 0.028 sec; Peak RSS: 0.005 GB\")\n",
      "(0, \"[M::mm_idx_gen::0.007*1.26] collected minimizers\\n[M::mm_idx_gen::0.009*2.43] sorted minimizers\\n[M::main::0.009*2.42] loaded/built the index for 41 target sequence(s)\\n[M::mm_mapopt_update::0.010*2.26] mid_occ = 42\\n[M::mm_idx_stat] kmer size: 15; skip: 10; is_hpc: 0; #seq: 41\\n[M::mm_idx_stat::0.011*2.15] distinct minimizers: 9557 (72.65% are singletons); average occurrences: 2.332; average spacing: 5.427\\nERROR: failed to open file '/media/MassStorage/tmp/TE/honours/analysis/Mapping_mock_gsref/MC_READS/candida_orthopsilosis.15000.fasta'\\n[M::main] Version: 2.17-r941\\n[M::main] CMD: minimap2 -x map-ont -t 6 -o /media/MassStorage/tmp/TE/honours/analysis/Mapping_mock_gsref/gsref_subdb/gsref.subdb.candida_orthopsilosis.minimap2.paf /media/MassStorage/tmp/TE/honours/analysis/Mapping_mock_gsref/gsref.subdb.fasta /media/MassStorage/tmp/TE/honours/analysis/Mapping_mock_gsref/MC_READS/candida_orthopsilosis.15000.fasta\\n[M::main] Real time: 0.014 sec; CPU: 0.027 sec; Peak RSS: 0.005 GB\")\n",
      "(0, \"[M::mm_idx_gen::0.006*1.22] collected minimizers\\n[M::mm_idx_gen::0.008*2.59] sorted minimizers\\n[M::main::0.008*2.58] loaded/built the index for 41 target sequence(s)\\n[M::mm_mapopt_update::0.009*2.41] mid_occ = 42\\n[M::mm_idx_stat] kmer size: 15; skip: 10; is_hpc: 0; #seq: 41\\n[M::mm_idx_stat::0.010*2.30] distinct minimizers: 9557 (72.65% are singletons); average occurrences: 2.332; average spacing: 5.427\\nERROR: failed to open file '/media/MassStorage/tmp/TE/honours/analysis/Mapping_mock_gsref/MC_READS/candida_metapsilosis.15000.fasta'\\n[M::main] Version: 2.17-r941\\n[M::main] CMD: minimap2 -x map-ont -t 6 -o /media/MassStorage/tmp/TE/honours/analysis/Mapping_mock_gsref/gsref_subdb/gsref.subdb.candida_metapsilosis.minimap2.paf /media/MassStorage/tmp/TE/honours/analysis/Mapping_mock_gsref/gsref.subdb.fasta /media/MassStorage/tmp/TE/honours/analysis/Mapping_mock_gsref/MC_READS/candida_metapsilosis.15000.fasta\\n[M::main] Real time: 0.012 sec; CPU: 0.025 sec; Peak RSS: 0.005 GB\")\n"
     ]
    }
   ],
   "source": [
    "db_fn = sub_db_fn\n",
    "sub_db_mapping_fn = {}\n",
    "for species, fasta_fn in sub_reads_fn.items():\n",
    "    tmp_out = dbases_fn[db_fn]\n",
    "    db_name = os.path.basename(db_fn).replace('.fasta', '')\n",
    "    out_fn = os.path.join(tmp_out, F\"{db_name}.{species}.minimap2.paf\")\n",
    "    sub_db_mapping_fn[species] = out_fn\n",
    "    minimapmapping(fasta_fn, db_fn, out_fn)"
   ]
  },
  {
   "cell_type": "code",
   "execution_count": 31,
   "metadata": {},
   "outputs": [
    {
     "data": {
      "text/plain": [
       "{'penicillium_chrysogenum': '/media/MassStorage/tmp/TE/honours/analysis/Mapping_mock_gsref/gsref_subdb/gsref.subdb.penicillium_chrysogenum.minimap2.paf',\n",
       " 'aspergillus_flavus': '/media/MassStorage/tmp/TE/honours/analysis/Mapping_mock_gsref/gsref_subdb/gsref.subdb.aspergillus_flavus.minimap2.paf',\n",
       " 'aspergillus_niger': '/media/MassStorage/tmp/TE/honours/analysis/Mapping_mock_gsref/gsref_subdb/gsref.subdb.aspergillus_niger.minimap2.paf',\n",
       " 'pichia_kudriavzevii': '/media/MassStorage/tmp/TE/honours/analysis/Mapping_mock_gsref/gsref_subdb/gsref.subdb.pichia_kudriavzevii.minimap2.paf',\n",
       " 'pichia_membranifaciens': '/media/MassStorage/tmp/TE/honours/analysis/Mapping_mock_gsref/gsref_subdb/gsref.subdb.pichia_membranifaciens.minimap2.paf',\n",
       " 'candida_albicans': '/media/MassStorage/tmp/TE/honours/analysis/Mapping_mock_gsref/gsref_subdb/gsref.subdb.candida_albicans.minimap2.paf',\n",
       " 'candida_parapsilosis': '/media/MassStorage/tmp/TE/honours/analysis/Mapping_mock_gsref/gsref_subdb/gsref.subdb.candida_parapsilosis.minimap2.paf',\n",
       " 'candida_orthopsilosis': '/media/MassStorage/tmp/TE/honours/analysis/Mapping_mock_gsref/gsref_subdb/gsref.subdb.candida_orthopsilosis.minimap2.paf',\n",
       " 'candida_metapsilosis': '/media/MassStorage/tmp/TE/honours/analysis/Mapping_mock_gsref/gsref_subdb/gsref.subdb.candida_metapsilosis.minimap2.paf'}"
      ]
     },
     "execution_count": 31,
     "metadata": {},
     "output_type": "execute_result"
    }
   ],
   "source": [
    "sub_db_mapping_fn"
   ]
  },
  {
   "cell_type": "code",
   "execution_count": 32,
   "metadata": {},
   "outputs": [
    {
     "name": "stdout",
     "output_type": "stream",
     "text": [
      "(1, \"[ERROR] failed to open file '/media/MassStorage/tmp/TE/honours/analysis/Mapping_mock_gsref/gsref.db.fasta'\")\n",
      "(1, \"[ERROR] failed to open file '/media/MassStorage/tmp/TE/honours/analysis/Mapping_mock_gsref/gsref.db.fasta'\")\n",
      "(1, \"[ERROR] failed to open file '/media/MassStorage/tmp/TE/honours/analysis/Mapping_mock_gsref/gsref.db.fasta'\")\n",
      "(1, \"[ERROR] failed to open file '/media/MassStorage/tmp/TE/honours/analysis/Mapping_mock_gsref/gsref.db.fasta'\")\n",
      "(1, \"[ERROR] failed to open file '/media/MassStorage/tmp/TE/honours/analysis/Mapping_mock_gsref/gsref.db.fasta'\")\n",
      "(1, \"[ERROR] failed to open file '/media/MassStorage/tmp/TE/honours/analysis/Mapping_mock_gsref/gsref.db.fasta'\")\n",
      "(1, \"[ERROR] failed to open file '/media/MassStorage/tmp/TE/honours/analysis/Mapping_mock_gsref/gsref.db.fasta'\")\n",
      "(1, \"[ERROR] failed to open file '/media/MassStorage/tmp/TE/honours/analysis/Mapping_mock_gsref/gsref.db.fasta'\")\n",
      "(1, \"[ERROR] failed to open file '/media/MassStorage/tmp/TE/honours/analysis/Mapping_mock_gsref/gsref.db.fasta'\")\n"
     ]
    }
   ],
   "source": [
    "db_fn = new_db_fn\n",
    "new_db_mapping_fn = {}\n",
    "for species, fasta_fn in sub_reads_fn.items():\n",
    "    tmp_out = dbases_fn[db_fn]\n",
    "    db_name = os.path.basename(db_fn).replace('.fasta', '')\n",
    "    out_fn = os.path.join(tmp_out, F\"{db_name}.{species}.minimap2.paf\")\n",
    "    new_db_mapping_fn[species] = out_fn\n",
    "    minimapmapping(fasta_fn, db_fn, out_fn)"
   ]
  },
  {
   "cell_type": "markdown",
   "metadata": {},
   "source": [
    "### Look at mapping results"
   ]
  },
  {
   "cell_type": "code",
   "execution_count": 33,
   "metadata": {},
   "outputs": [],
   "source": [
    "def mapping_results(fn, species):\n",
    "    min_header = ['qseqid', 'qlen', 'qstart', 'qstop', 'strand', 'tname', 'tlen', 'tstart', 'tend', 'nmatch', 'alen', 'mquality']\n",
    "    tmp_df = pd.read_csv(fn, sep='\\t', header = None, usecols=[x for x in range(0,12)], names=min_header)\n",
    "    sub_df = tmp_df[tmp_df['mquality'] == tmp_df.groupby('qseqid')['mquality'].transform(max)].reset_index(drop=True)\n",
    "    sub_df = sub_df[tmp_df['nmatch'] == tmp_df.groupby('qseqid')['nmatch'].transform(max)].reset_index(drop=True)\n",
    "    hit_series = pd.Series(sub_df.groupby('tname')['mquality'].count().tolist()/sub_df.groupby('tname')['mquality'].count().sum(),\n",
    "                      sub_df.groupby('tname')['mquality'].count().index)\n",
    "    hit_series.sort_values(ascending=False, inplace=True)\n",
    "    print('##########\\n')\n",
    "    print(F\"This was the query species: {species}\\n\")\n",
    "    print(F\"These are the results:\")\n",
    "    print(hit_series,'\\n')"
   ]
  },
  {
   "cell_type": "code",
   "execution_count": 34,
   "metadata": {},
   "outputs": [
    {
     "name": "stdout",
     "output_type": "stream",
     "text": [
      "##########\n",
      "\n",
      "This was the query species: penicillium_chrysogenum\n",
      "\n",
      "These are the results:\n",
      "Series([], dtype: float64) \n",
      "\n",
      "##########\n",
      "\n",
      "This was the query species: aspergillus_flavus\n",
      "\n",
      "These are the results:\n",
      "Series([], dtype: float64) \n",
      "\n",
      "##########\n",
      "\n",
      "This was the query species: aspergillus_niger\n",
      "\n",
      "These are the results:\n",
      "Series([], dtype: float64) \n",
      "\n",
      "##########\n",
      "\n",
      "This was the query species: pichia_kudriavzevii\n",
      "\n",
      "These are the results:\n",
      "Series([], dtype: float64) \n",
      "\n",
      "##########\n",
      "\n",
      "This was the query species: pichia_membranifaciens\n",
      "\n",
      "These are the results:\n",
      "Series([], dtype: float64) \n",
      "\n",
      "##########\n",
      "\n",
      "This was the query species: candida_albicans\n",
      "\n",
      "These are the results:\n",
      "Series([], dtype: float64) \n",
      "\n",
      "##########\n",
      "\n",
      "This was the query species: candida_parapsilosis\n",
      "\n",
      "These are the results:\n",
      "Series([], dtype: float64) \n",
      "\n",
      "##########\n",
      "\n",
      "This was the query species: candida_orthopsilosis\n",
      "\n",
      "These are the results:\n",
      "Series([], dtype: float64) \n",
      "\n",
      "##########\n",
      "\n",
      "This was the query species: candida_metapsilosis\n",
      "\n",
      "These are the results:\n",
      "Series([], dtype: float64) \n",
      "\n"
     ]
    }
   ],
   "source": [
    "###this is running the reads against the full database\n",
    "for species, hit_fn in new_db_mapping_fn.items():\n",
    "    mapping_results(hit_fn, species)"
   ]
  },
  {
   "cell_type": "code",
   "execution_count": 35,
   "metadata": {},
   "outputs": [
    {
     "name": "stdout",
     "output_type": "stream",
     "text": [
      "##########\n",
      "\n",
      "This was the query species: penicillium_chrysogenum\n",
      "\n",
      "These are the results:\n",
      "Series([], dtype: float64) \n",
      "\n",
      "##########\n",
      "\n",
      "This was the query species: aspergillus_flavus\n",
      "\n",
      "These are the results:\n",
      "Series([], dtype: float64) \n",
      "\n",
      "##########\n",
      "\n",
      "This was the query species: aspergillus_niger\n",
      "\n",
      "These are the results:\n",
      "Series([], dtype: float64) \n",
      "\n",
      "##########\n",
      "\n",
      "This was the query species: pichia_kudriavzevii\n",
      "\n",
      "These are the results:\n",
      "Series([], dtype: float64) \n",
      "\n",
      "##########\n",
      "\n",
      "This was the query species: pichia_membranifaciens\n",
      "\n",
      "These are the results:\n",
      "Series([], dtype: float64) \n",
      "\n",
      "##########\n",
      "\n",
      "This was the query species: candida_albicans\n",
      "\n",
      "These are the results:\n",
      "Series([], dtype: float64) \n",
      "\n",
      "##########\n",
      "\n",
      "This was the query species: candida_parapsilosis\n",
      "\n",
      "These are the results:\n",
      "Series([], dtype: float64) \n",
      "\n",
      "##########\n",
      "\n",
      "This was the query species: candida_orthopsilosis\n",
      "\n",
      "These are the results:\n",
      "Series([], dtype: float64) \n",
      "\n",
      "##########\n",
      "\n",
      "This was the query species: candida_metapsilosis\n",
      "\n",
      "These are the results:\n",
      "Series([], dtype: float64) \n",
      "\n"
     ]
    }
   ],
   "source": [
    "###this is running against a database that have ['Candida_orthopsilosis', 'Candida_metapsilosis', 'Aspergillus_niger'] deleted\n",
    "for species, hit_fn in sub_db_mapping_fn.items():\n",
    "    mapping_results(hit_fn, species)"
   ]
  },
  {
   "cell_type": "code",
   "execution_count": null,
   "metadata": {},
   "outputs": [],
   "source": []
  }
 ],
 "metadata": {
  "kernelspec": {
   "display_name": "Python 3",
   "language": "python",
   "name": "python3"
  },
  "language_info": {
   "codemirror_mode": {
    "name": "ipython",
    "version": 3
   },
   "file_extension": ".py",
   "mimetype": "text/x-python",
   "name": "python",
   "nbconvert_exporter": "python",
   "pygments_lexer": "ipython3",
   "version": "3.7.3"
  }
 },
 "nbformat": 4,
 "nbformat_minor": 2
}
