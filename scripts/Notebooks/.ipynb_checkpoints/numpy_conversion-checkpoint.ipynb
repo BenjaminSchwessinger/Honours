{
 "cells": [
  {
   "cell_type": "code",
   "execution_count": 1,
   "metadata": {},
   "outputs": [],
   "source": [
    "import Bio\n",
    "from Bio import SeqIO\n",
    "from Bio.Seq import Seq\n",
    "from Bio.SeqRecord import SeqRecord as SR\n",
    "from Bio.Blast import NCBIXML\n",
    "from Bio import pairwise2\n",
    "from Bio.pairwise2 import format_alignment\n",
    "import numpy as np\n",
    "import pandas as pd\n",
    "from pandas import DataFrame as df\n",
    "import seaborn as sns\n",
    "import matplotlib.pyplot as plt\n",
    "import subprocess\n",
    "import os\n",
    "# from mothur_py import Mothur\n",
    "from shutil import copy\n",
    "import warnings\n",
    "from Bio import pairwise2\n",
    "from Bio.pairwise2 import format_alignment\n",
    "# from ipysankeywidget import SankeyWidget\n",
    "warnings.filterwarnings(\"ignore\")"
   ]
  },
  {
   "cell_type": "code",
   "execution_count": 38,
   "metadata": {},
   "outputs": [
    {
     "name": "stdout",
     "output_type": "stream",
     "text": [
      "3807\n",
      "2066\n",
      "\n",
      "\n",
      " Barcode02 done \n",
      "\n",
      "\n",
      "\n",
      "\n",
      " Barcode06 done \n",
      "\n",
      "\n"
     ]
    }
   ],
   "source": [
    "barcode02 = SeqIO.to_dict(SeqIO.parse(\"../../analysis/Length_Filtered/20171103_FAH15473/barcode02/length_restricted_reads.fasta\", \"fasta\"))\n",
    "barcode06 = SeqIO.to_dict(SeqIO.parse(\"../../analysis/Length_Filtered/20171103_FAH15473/barcode06/length_restricted_reads.fasta\", \"fasta\"))\n",
    "\n",
    "total_lens = []\n",
    "for key in barcode02:\n",
    "    total_lens.append(len(barcode02[key].seq))\n",
    "for key in barcode06:\n",
    "    total_lens.append(len(barcode06[key].seq))\n",
    "print(max(total_lens))\n",
    "print(min(total_lens))\n",
    "\n",
    "\n",
    "barcode02_numbers = {}\n",
    "for key in barcode02:\n",
    "    seq = str(barcode02[key].seq[30:-30]).replace(\"A\",'0').replace(\"C\",'1').replace(\"G\",'2').replace(\"T\",'3')\n",
    "    if len(seq) < max(total_lens):\n",
    "        seq = seq + '4'*(max(total_lens)-len(seq))\n",
    "    barcode02_numbers[key] = seq\n",
    "    \n",
    "print(\"\\n\\n Barcode02 done \\n\\n\")\n",
    "\n",
    "barcode06_numbers = {}\n",
    "for key in barcode06:\n",
    "    seq = str(barcode06[key].seq[30:-30]).replace(\"A\",'0').replace(\"C\",'1').replace(\"G\",'2').replace(\"T\",'3')\n",
    "    if len(seq) < max(total_lens):\n",
    "        seq = seq + '4'*(max(total_lens)-len(seq))\n",
    "    barcode06_numbers[key] = seq\n",
    "\n",
    "print(\"\\n\\n Barcode06 done \\n\\n\")"
   ]
  },
  {
   "cell_type": "code",
   "execution_count": 39,
   "metadata": {},
   "outputs": [],
   "source": [
    "seq2 = np.array(list(barcode02_numbers.values()))\n",
    "seq6 = np.array(list(barcode06_numbers.values()))\n",
    "seq_comb = np.concatenate((seq2, seq6), axis=0)"
   ]
  },
  {
   "cell_type": "code",
   "execution_count": 45,
   "metadata": {},
   "outputs": [
    {
     "name": "stdout",
     "output_type": "stream",
     "text": [
      "133089\n",
      "117090\n"
     ]
    }
   ],
   "source": [
    "ids2 = np.array([[1,0]]*(len(seq2)))\n",
    "print(len(ids2))\n",
    "ids6 = np.array([[0,1]]*(len(seq6)))\n",
    "print(len(ids6))"
   ]
  },
  {
   "cell_type": "code",
   "execution_count": 46,
   "metadata": {},
   "outputs": [],
   "source": [
    "ids_comb = np.concatenate((ids2, ids6), axis=0)"
   ]
  },
  {
   "cell_type": "code",
   "execution_count": 47,
   "metadata": {},
   "outputs": [
    {
     "name": "stdout",
     "output_type": "stream",
     "text": [
      "250179\n",
      "250179\n"
     ]
    }
   ],
   "source": [
    "print(len(seq_comb))\n",
    "print(len(ids_comb))"
   ]
  },
  {
   "cell_type": "code",
   "execution_count": 48,
   "metadata": {},
   "outputs": [],
   "source": [
    "np.savez_compressed('../../analysis/arrays_test/20171103_FAH15473_b2+b6_ids4.csv', ids_comb)"
   ]
  },
  {
   "cell_type": "code",
   "execution_count": 49,
   "metadata": {},
   "outputs": [],
   "source": [
    "np.savez_compressed('../../analysis/arrays_test/20171103_FAH15473_b2+b6_seqs4.csv', seq_comb)"
   ]
  },
  {
   "cell_type": "code",
   "execution_count": 32,
   "metadata": {},
   "outputs": [],
   "source": [
    "test1 = np.load('../../analysis/arrays_test/20171103_FAH15473_b2+b6_seqs4.csv.npz', allow_pickle=True)\n",
    "test2 = np.load('../../analysis/arrays_test/20171103_FAH15473_b2+b6_ids4.csv.npz', allow_pickle=True)"
   ]
  },
  {
   "cell_type": "code",
   "execution_count": 33,
   "metadata": {},
   "outputs": [],
   "source": [
    "data = test1['arr_0']\n",
    "labels = test2['arr_0']"
   ]
  },
  {
   "cell_type": "code",
   "execution_count": 34,
   "metadata": {},
   "outputs": [
    {
     "name": "stdout",
     "output_type": "stream",
     "text": [
      "(250179,)\n",
      "(250179, 2)\n"
     ]
    }
   ],
   "source": [
    "print(data.shape)\n",
    "print(labels.shape)"
   ]
  },
  {
   "cell_type": "code",
   "execution_count": 30,
   "metadata": {},
   "outputs": [
    {
     "data": {
      "text/plain": [
       "array([[1, 0],\n",
       "       [1, 0],\n",
       "       [1, 0],\n",
       "       ...,\n",
       "       [0, 1],\n",
       "       [0, 1],\n",
       "       [0, 1]])"
      ]
     },
     "execution_count": 30,
     "metadata": {},
     "output_type": "execute_result"
    }
   ],
   "source": [
    "labels"
   ]
  },
  {
   "cell_type": "code",
   "execution_count": 31,
   "metadata": {},
   "outputs": [
    {
     "name": "stdout",
     "output_type": "stream",
     "text": [
      "(20000, 3489)\n",
      "(20000,)\n"
     ]
    }
   ],
   "source": [
    "test1 = np.load('../../analysis/arrays_test/20171103_FAH15473_b2+b3_seqs.csv.npz', allow_pickle=True)\n",
    "test2 = np.load('../../analysis/arrays_test/20171103_FAH15473_b2+b3_ids.csv.npz', allow_pickle=True)\n",
    "data = test1['arr_0']\n",
    "labels = test2['arr_0']\n",
    "print(data.shape)\n",
    "print(labels.shape)"
   ]
  },
  {
   "cell_type": "code",
   "execution_count": null,
   "metadata": {},
   "outputs": [],
   "source": []
  }
 ],
 "metadata": {
  "kernelspec": {
   "display_name": "Python 3",
   "language": "python",
   "name": "python3"
  },
  "language_info": {
   "codemirror_mode": {
    "name": "ipython",
    "version": 3
   },
   "file_extension": ".py",
   "mimetype": "text/x-python",
   "name": "python",
   "nbconvert_exporter": "python",
   "pygments_lexer": "ipython3",
   "version": "3.7.3"
  }
 },
 "nbformat": 4,
 "nbformat_minor": 2
}
