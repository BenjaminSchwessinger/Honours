{
 "cells": [
  {
   "cell_type": "code",
   "execution_count": 3,
   "metadata": {},
   "outputs": [],
   "source": [
    "import Bio\n",
    "from Bio import SeqIO\n",
    "from Bio.Seq import Seq\n",
    "from Bio.SeqRecord import SeqRecord as SR\n",
    "from Bio.Blast import NCBIXML\n",
    "from Bio import pairwise2\n",
    "from Bio.pairwise2 import format_alignment\n",
    "import numpy as np\n",
    "import pandas as pd\n",
    "from pandas import DataFrame as df\n",
    "import seaborn as sns\n",
    "import matplotlib.pyplot as plt\n",
    "import subprocess\n",
    "import os\n",
    "# from mothur_py import Mothur\n",
    "from shutil import copy\n",
    "import warnings\n",
    "from Bio import pairwise2\n",
    "from Bio.pairwise2 import format_alignment\n",
    "# from ipysankeywidget import SankeyWidget\n",
    "warnings.filterwarnings(\"ignore\")"
   ]
  },
  {
   "cell_type": "code",
   "execution_count": 2,
   "metadata": {},
   "outputs": [],
   "source": [
    "fastq_dict = SeqIO.to_dict(SeqIO.parse(\"../../analysis/Concatenated/20171103_FAH15473/barcode02/merged.fastq\", \"fastq\"))"
   ]
  },
  {
   "cell_type": "code",
   "execution_count": 3,
   "metadata": {},
   "outputs": [
    {
     "name": "stdout",
     "output_type": "stream",
     "text": [
      "The number of reads in this file is 413127\n"
     ]
    },
    {
     "data": {
      "image/png": "[encoded data removed]",
      "text/plain": [
       "<Figure size 432x288 with 1 Axes>"
      ]
     },
     "metadata": {
      "needs_background": "light"
     },
     "output_type": "display_data"
    }
   ],
   "source": [
    "lengths = []\n",
    "for key in fastq_dict:\n",
    "    lengths.append(len(fastq_dict[key].seq))\n",
    "print(\"The number of reads in this file is\", len(fastq_dict))\n",
    "ax = sns.distplot(lengths, color=\"k\", kde=False, bins=5000)\n",
    "\n",
    "\n",
    "ax.set(xlim=(250, 3500))\n",
    "ax.set_title(\"Reads spread 20171103_FAH15473/barcode02\", fontsize=15)\n",
    "ax.set_xlabel(\"Length of read\", fontsize=13)\n",
    "ax.set_ylabel(\"Number of reads\", fontsize=13)\n",
    "\n",
    "plt.show()"
   ]
  },
  {
   "cell_type": "code",
   "execution_count": 4,
   "metadata": {},
   "outputs": [
    {
     "name": "stdout",
     "output_type": "stream",
     "text": [
      "The number of reads between 2700 and 3200 bp in length is 167054\n",
      "The number of reads between 900 and 1400 bp in length is 192712\n"
     ]
    }
   ],
   "source": [
    "frDNA = fastq_dict.copy()\n",
    "for key in fastq_dict:\n",
    "    if len(fastq_dict[key].seq) not in range(2700, 3200):\n",
    "        del frDNA[key]\n",
    "print(\"The number of reads between 2700 and 3200 bp in length is\", len(frDNA))\n",
    "EF1a = fastq_dict.copy()\n",
    "for key in fastq_dict:\n",
    "    if len(fastq_dict[key].seq) not in range(900, 1400):\n",
    "        del EF1a[key]\n",
    "print(\"The number of reads between 900 and 1400 bp in length is\", len(EF1a))"
   ]
  },
  {
   "cell_type": "code",
   "execution_count": 5,
   "metadata": {},
   "outputs": [
    {
     "data": {
      "text/plain": [
       "167054"
      ]
     },
     "execution_count": 5,
     "metadata": {},
     "output_type": "execute_result"
    }
   ],
   "source": [
    "# Write the reads defined between the frDNA cutoff into a new fasta file\n",
    "SeqIO.write(frDNA.values(), \"../../analysis/Python_Processing/20171103_FAH15473/barcode02/barcode02_frDNA_clipped.fastq\", \"fastq\")"
   ]
  },
  {
   "cell_type": "code",
   "execution_count": 6,
   "metadata": {},
   "outputs": [
    {
     "data": {
      "text/plain": [
       "192712"
      ]
     },
     "execution_count": 6,
     "metadata": {},
     "output_type": "execute_result"
    }
   ],
   "source": [
    "# Write the reads defined between the EF1a cutoff into a new fasta file\n",
    "SeqIO.write(EF1a.values(), \"../../analysis/Python_Processing/20171103_FAH15473/barcode02/barcode02_EF1a_clipped.fastq\", \"fastq\")"
   ]
  },
  {
   "cell_type": "code",
   "execution_count": 7,
   "metadata": {},
   "outputs": [],
   "source": [
    "frDNA_extract={k: frDNA[k] for k in list(frDNA.keys())[:500]}\n",
    "EF1a_extract={k: EF1a[k] for k in list(EF1a.keys())[:500]}"
   ]
  },
  {
   "cell_type": "code",
   "execution_count": 8,
   "metadata": {},
   "outputs": [],
   "source": [
    "for key in frDNA_extract:\n",
    "    frDNA_extract[key].annotations = 'frDNA'\n",
    "for key in EF1a_extract:\n",
    "    EF1a_extract[key].annotations = 'EF1a'"
   ]
  },
  {
   "cell_type": "code",
   "execution_count": 9,
   "metadata": {},
   "outputs": [
    {
     "name": "stdout",
     "output_type": "stream",
     "text": [
      "500\n",
      "500\n",
      "1000\n"
     ]
    }
   ],
   "source": [
    "combined_extract = {}\n",
    "combined_extract.update(frDNA_extract)\n",
    "combined_extract.update(EF1a_extract)\n",
    "print(len(frDNA_extract))\n",
    "print(len(EF1a_extract))\n",
    "print(len(combined_extract))"
   ]
  },
  {
   "cell_type": "code",
   "execution_count": 10,
   "metadata": {},
   "outputs": [
    {
     "data": {
      "text/plain": [
       "1000"
      ]
     },
     "execution_count": 10,
     "metadata": {},
     "output_type": "execute_result"
    }
   ],
   "source": [
    "SeqIO.write(frDNA_extract.values(), \"../../analysis/Python_Processing/20171103_FAH15473/barcode02/barcode02_frDNA_extract_test.fastq\", \"fastq\")\n",
    "SeqIO.write(EF1a_extract.values(), \"../../analysis/Python_Processing/20171103_FAH15473/barcode02/barcode02_EF1a_extract_test.fastq\", \"fastq\")\n",
    "SeqIO.write(combined_extract.values(), \"../../analysis/Python_Processing/20171103_FAH15473/barcode02/barcode02_combined_extract_test.fastq\", \"fastq\")"
   ]
  },
  {
   "cell_type": "code",
   "execution_count": 11,
   "metadata": {},
   "outputs": [],
   "source": [
    "frDNA_paf = pd.read_csv(\"../../analysis/Python_Processing/20171103_FAH15473/barcode02/frDNA_clipped_test.paf\", sep='\\t', header=None, engine='python')\n",
    "EF1a_paf = pd.read_csv(\"../../analysis/Python_Processing/20171103_FAH15473/barcode02/EF1a_clipped_test.paf\", sep='\\t', header=None, engine='python')\n",
    "combined_paf = pd.read_csv(\"../../analysis/Python_Processing/20171103_FAH15473/barcode02/combined_test.paf\", sep='\\t', header=None, engine='python')"
   ]
  },
  {
   "cell_type": "code",
   "execution_count": 12,
   "metadata": {},
   "outputs": [
    {
     "data": {
      "text/html": [
       "<div>\n",
       "<style scoped>\n",
       "    .dataframe tbody tr th:only-of-type {\n",
       "        vertical-align: middle;\n",
       "    }\n",
       "\n",
       "    .dataframe tbody tr th {\n",
       "        vertical-align: top;\n",
       "    }\n",
       "\n",
       "    .dataframe thead th {\n",
       "        text-align: right;\n",
       "    }\n",
       "</style>\n",
       "<table border=\"1\" class=\"dataframe\">\n",
       "  <thead>\n",
       "    <tr style=\"text-align: right;\">\n",
       "      <th></th>\n",
       "      <th>0</th>\n",
       "      <th>1</th>\n",
       "      <th>2</th>\n",
       "      <th>3</th>\n",
       "      <th>4</th>\n",
       "      <th>5</th>\n",
       "      <th>6</th>\n",
       "      <th>7</th>\n",
       "      <th>8</th>\n",
       "      <th>9</th>\n",
       "      <th>10</th>\n",
       "      <th>11</th>\n",
       "      <th>12</th>\n",
       "      <th>13</th>\n",
       "      <th>14</th>\n",
       "      <th>15</th>\n",
       "      <th>16</th>\n",
       "    </tr>\n",
       "  </thead>\n",
       "  <tbody>\n",
       "    <tr>\n",
       "      <td>0</td>\n",
       "      <td>11765199-a559-412c-9c2d-992dead3d782</td>\n",
       "      <td>2912</td>\n",
       "      <td>1945</td>\n",
       "      <td>2574</td>\n",
       "      <td>+</td>\n",
       "      <td>Kluyveromyces|KT853036</td>\n",
       "      <td>1778</td>\n",
       "      <td>1110</td>\n",
       "      <td>1752</td>\n",
       "      <td>72</td>\n",
       "      <td>646</td>\n",
       "      <td>47</td>\n",
       "      <td>tp:A:P</td>\n",
       "      <td>cm:i:7</td>\n",
       "      <td>s1:i:68</td>\n",
       "      <td>s2:i:0</td>\n",
       "      <td>dv:f:0.1860</td>\n",
       "    </tr>\n",
       "    <tr>\n",
       "      <td>1</td>\n",
       "      <td>e72814ef-ec58-42da-8d8f-59c40d51d6bf</td>\n",
       "      <td>2951</td>\n",
       "      <td>1449</td>\n",
       "      <td>1784</td>\n",
       "      <td>+</td>\n",
       "      <td>Zymoseptoria|KM246156</td>\n",
       "      <td>484</td>\n",
       "      <td>118</td>\n",
       "      <td>444</td>\n",
       "      <td>76</td>\n",
       "      <td>335</td>\n",
       "      <td>60</td>\n",
       "      <td>tp:A:P</td>\n",
       "      <td>cm:i:8</td>\n",
       "      <td>s1:i:75</td>\n",
       "      <td>s2:i:0</td>\n",
       "      <td>dv:f:0.1354</td>\n",
       "    </tr>\n",
       "    <tr>\n",
       "      <td>2</td>\n",
       "      <td>2f569c0e-ef7d-48a1-a215-5a35e14ae35b</td>\n",
       "      <td>2906</td>\n",
       "      <td>1141</td>\n",
       "      <td>1458</td>\n",
       "      <td>-</td>\n",
       "      <td>Zymoseptoria|KM246156</td>\n",
       "      <td>484</td>\n",
       "      <td>134</td>\n",
       "      <td>451</td>\n",
       "      <td>81</td>\n",
       "      <td>328</td>\n",
       "      <td>17</td>\n",
       "      <td>tp:A:P</td>\n",
       "      <td>cm:i:7</td>\n",
       "      <td>s1:i:77</td>\n",
       "      <td>s2:i:66</td>\n",
       "      <td>dv:f:0.1421</td>\n",
       "    </tr>\n",
       "    <tr>\n",
       "      <td>3</td>\n",
       "      <td>2f569c0e-ef7d-48a1-a215-5a35e14ae35b</td>\n",
       "      <td>2906</td>\n",
       "      <td>322</td>\n",
       "      <td>1815</td>\n",
       "      <td>-</td>\n",
       "      <td>Kluyveromyces|KT853036</td>\n",
       "      <td>1778</td>\n",
       "      <td>100</td>\n",
       "      <td>1752</td>\n",
       "      <td>105</td>\n",
       "      <td>1654</td>\n",
       "      <td>60</td>\n",
       "      <td>tp:A:P</td>\n",
       "      <td>cm:i:9</td>\n",
       "      <td>s1:i:76</td>\n",
       "      <td>s2:i:0</td>\n",
       "      <td>dv:f:0.2270</td>\n",
       "    </tr>\n",
       "    <tr>\n",
       "      <td>4</td>\n",
       "      <td>2f569c0e-ef7d-48a1-a215-5a35e14ae35b</td>\n",
       "      <td>2906</td>\n",
       "      <td>1351</td>\n",
       "      <td>1458</td>\n",
       "      <td>-</td>\n",
       "      <td>Oculimacula(Tapesia)|AY713294</td>\n",
       "      <td>608</td>\n",
       "      <td>260</td>\n",
       "      <td>368</td>\n",
       "      <td>66</td>\n",
       "      <td>109</td>\n",
       "      <td>0</td>\n",
       "      <td>tp:A:S</td>\n",
       "      <td>cm:i:6</td>\n",
       "      <td>s1:i:66</td>\n",
       "      <td>dv:f:0.0835</td>\n",
       "      <td>None</td>\n",
       "    </tr>\n",
       "  </tbody>\n",
       "</table>\n",
       "</div>"
      ],
      "text/plain": [
       "                                     0     1     2     3  4   \\\n",
       "0  11765199-a559-412c-9c2d-992dead3d782  2912  1945  2574  +   \n",
       "1  e72814ef-ec58-42da-8d8f-59c40d51d6bf  2951  1449  1784  +   \n",
       "2  2f569c0e-ef7d-48a1-a215-5a35e14ae35b  2906  1141  1458  -   \n",
       "3  2f569c0e-ef7d-48a1-a215-5a35e14ae35b  2906   322  1815  -   \n",
       "4  2f569c0e-ef7d-48a1-a215-5a35e14ae35b  2906  1351  1458  -   \n",
       "\n",
       "                              5     6     7     8    9     10  11      12  \\\n",
       "0         Kluyveromyces|KT853036  1778  1110  1752   72   646  47  tp:A:P   \n",
       "1          Zymoseptoria|KM246156   484   118   444   76   335  60  tp:A:P   \n",
       "2          Zymoseptoria|KM246156   484   134   451   81   328  17  tp:A:P   \n",
       "3         Kluyveromyces|KT853036  1778   100  1752  105  1654  60  tp:A:P   \n",
       "4  Oculimacula(Tapesia)|AY713294   608   260   368   66   109   0  tp:A:S   \n",
       "\n",
       "       13       14           15           16  \n",
       "0  cm:i:7  s1:i:68       s2:i:0  dv:f:0.1860  \n",
       "1  cm:i:8  s1:i:75       s2:i:0  dv:f:0.1354  \n",
       "2  cm:i:7  s1:i:77      s2:i:66  dv:f:0.1421  \n",
       "3  cm:i:9  s1:i:76       s2:i:0  dv:f:0.2270  \n",
       "4  cm:i:6  s1:i:66  dv:f:0.0835         None  "
      ]
     },
     "execution_count": 12,
     "metadata": {},
     "output_type": "execute_result"
    }
   ],
   "source": [
    "frDNA_paf.head()"
   ]
  },
  {
   "cell_type": "code",
   "execution_count": 13,
   "metadata": {},
   "outputs": [
    {
     "data": {
      "text/html": [
       "<div>\n",
       "<style scoped>\n",
       "    .dataframe tbody tr th:only-of-type {\n",
       "        vertical-align: middle;\n",
       "    }\n",
       "\n",
       "    .dataframe tbody tr th {\n",
       "        vertical-align: top;\n",
       "    }\n",
       "\n",
       "    .dataframe thead th {\n",
       "        text-align: right;\n",
       "    }\n",
       "</style>\n",
       "<table border=\"1\" class=\"dataframe\">\n",
       "  <thead>\n",
       "    <tr style=\"text-align: right;\">\n",
       "      <th></th>\n",
       "      <th>0</th>\n",
       "      <th>1</th>\n",
       "      <th>2</th>\n",
       "      <th>3</th>\n",
       "      <th>4</th>\n",
       "      <th>5</th>\n",
       "      <th>6</th>\n",
       "      <th>7</th>\n",
       "      <th>8</th>\n",
       "      <th>9</th>\n",
       "      <th>10</th>\n",
       "      <th>11</th>\n",
       "      <th>12</th>\n",
       "      <th>13</th>\n",
       "      <th>14</th>\n",
       "      <th>15</th>\n",
       "      <th>16</th>\n",
       "    </tr>\n",
       "  </thead>\n",
       "  <tbody>\n",
       "    <tr>\n",
       "      <td>0</td>\n",
       "      <td>11765199-a559-412c-9c2d-992dead3d782</td>\n",
       "      <td>2912</td>\n",
       "      <td>1945</td>\n",
       "      <td>2574</td>\n",
       "      <td>+</td>\n",
       "      <td>Kluyveromyces|KT853036</td>\n",
       "      <td>1778</td>\n",
       "      <td>1110</td>\n",
       "      <td>1752</td>\n",
       "      <td>72</td>\n",
       "      <td>646</td>\n",
       "      <td>47</td>\n",
       "      <td>tp:A:P</td>\n",
       "      <td>cm:i:7</td>\n",
       "      <td>s1:i:68</td>\n",
       "      <td>s2:i:0</td>\n",
       "      <td>dv:f:0.1860</td>\n",
       "    </tr>\n",
       "    <tr>\n",
       "      <td>1</td>\n",
       "      <td>e72814ef-ec58-42da-8d8f-59c40d51d6bf</td>\n",
       "      <td>2951</td>\n",
       "      <td>1449</td>\n",
       "      <td>1784</td>\n",
       "      <td>+</td>\n",
       "      <td>Zymoseptoria|KM246156</td>\n",
       "      <td>484</td>\n",
       "      <td>118</td>\n",
       "      <td>444</td>\n",
       "      <td>76</td>\n",
       "      <td>335</td>\n",
       "      <td>60</td>\n",
       "      <td>tp:A:P</td>\n",
       "      <td>cm:i:8</td>\n",
       "      <td>s1:i:75</td>\n",
       "      <td>s2:i:0</td>\n",
       "      <td>dv:f:0.1354</td>\n",
       "    </tr>\n",
       "    <tr>\n",
       "      <td>2</td>\n",
       "      <td>2f569c0e-ef7d-48a1-a215-5a35e14ae35b</td>\n",
       "      <td>2906</td>\n",
       "      <td>1141</td>\n",
       "      <td>1458</td>\n",
       "      <td>-</td>\n",
       "      <td>Zymoseptoria|KM246156</td>\n",
       "      <td>484</td>\n",
       "      <td>134</td>\n",
       "      <td>451</td>\n",
       "      <td>81</td>\n",
       "      <td>328</td>\n",
       "      <td>17</td>\n",
       "      <td>tp:A:P</td>\n",
       "      <td>cm:i:7</td>\n",
       "      <td>s1:i:77</td>\n",
       "      <td>s2:i:66</td>\n",
       "      <td>dv:f:0.1421</td>\n",
       "    </tr>\n",
       "    <tr>\n",
       "      <td>3</td>\n",
       "      <td>2f569c0e-ef7d-48a1-a215-5a35e14ae35b</td>\n",
       "      <td>2906</td>\n",
       "      <td>322</td>\n",
       "      <td>1815</td>\n",
       "      <td>-</td>\n",
       "      <td>Kluyveromyces|KT853036</td>\n",
       "      <td>1778</td>\n",
       "      <td>100</td>\n",
       "      <td>1752</td>\n",
       "      <td>105</td>\n",
       "      <td>1654</td>\n",
       "      <td>60</td>\n",
       "      <td>tp:A:P</td>\n",
       "      <td>cm:i:9</td>\n",
       "      <td>s1:i:76</td>\n",
       "      <td>s2:i:0</td>\n",
       "      <td>dv:f:0.2270</td>\n",
       "    </tr>\n",
       "    <tr>\n",
       "      <td>4</td>\n",
       "      <td>2f569c0e-ef7d-48a1-a215-5a35e14ae35b</td>\n",
       "      <td>2906</td>\n",
       "      <td>1351</td>\n",
       "      <td>1458</td>\n",
       "      <td>-</td>\n",
       "      <td>Oculimacula(Tapesia)|AY713294</td>\n",
       "      <td>608</td>\n",
       "      <td>260</td>\n",
       "      <td>368</td>\n",
       "      <td>66</td>\n",
       "      <td>109</td>\n",
       "      <td>0</td>\n",
       "      <td>tp:A:S</td>\n",
       "      <td>cm:i:6</td>\n",
       "      <td>s1:i:66</td>\n",
       "      <td>dv:f:0.0835</td>\n",
       "      <td>None</td>\n",
       "    </tr>\n",
       "  </tbody>\n",
       "</table>\n",
       "</div>"
      ],
      "text/plain": [
       "                                     0     1     2     3  4   \\\n",
       "0  11765199-a559-412c-9c2d-992dead3d782  2912  1945  2574  +   \n",
       "1  e72814ef-ec58-42da-8d8f-59c40d51d6bf  2951  1449  1784  +   \n",
       "2  2f569c0e-ef7d-48a1-a215-5a35e14ae35b  2906  1141  1458  -   \n",
       "3  2f569c0e-ef7d-48a1-a215-5a35e14ae35b  2906   322  1815  -   \n",
       "4  2f569c0e-ef7d-48a1-a215-5a35e14ae35b  2906  1351  1458  -   \n",
       "\n",
       "                              5     6     7     8    9     10  11      12  \\\n",
       "0         Kluyveromyces|KT853036  1778  1110  1752   72   646  47  tp:A:P   \n",
       "1          Zymoseptoria|KM246156   484   118   444   76   335  60  tp:A:P   \n",
       "2          Zymoseptoria|KM246156   484   134   451   81   328  17  tp:A:P   \n",
       "3         Kluyveromyces|KT853036  1778   100  1752  105  1654  60  tp:A:P   \n",
       "4  Oculimacula(Tapesia)|AY713294   608   260   368   66   109   0  tp:A:S   \n",
       "\n",
       "       13       14           15           16  \n",
       "0  cm:i:7  s1:i:68       s2:i:0  dv:f:0.1860  \n",
       "1  cm:i:8  s1:i:75       s2:i:0  dv:f:0.1354  \n",
       "2  cm:i:7  s1:i:77      s2:i:66  dv:f:0.1421  \n",
       "3  cm:i:9  s1:i:76       s2:i:0  dv:f:0.2270  \n",
       "4  cm:i:6  s1:i:66  dv:f:0.0835         None  "
      ]
     },
     "execution_count": 13,
     "metadata": {},
     "output_type": "execute_result"
    }
   ],
   "source": [
    "combined_paf.head()"
   ]
  },
  {
   "cell_type": "code",
   "execution_count": 14,
   "metadata": {},
   "outputs": [
    {
     "name": "stdout",
     "output_type": "stream",
     "text": [
      "min len of match for frDNA is 2700\n",
      "min len of match for EF1a is 900\n",
      "min len of match for combined is 284\n"
     ]
    }
   ],
   "source": [
    "print(\"min len of match for frDNA is\", frDNA_paf[1].min())\n",
    "print(\"min len of match for EF1a is\", EF1a_paf[1].min())\n",
    "print(\"min len of match for combined is\", combined_paf[1].min())"
   ]
  },
  {
   "cell_type": "code",
   "execution_count": 15,
   "metadata": {},
   "outputs": [
    {
     "name": "stdout",
     "output_type": "stream",
     "text": [
      "num matches with unique ids for frDNA is 123026\n",
      "num matches with unique ids for EF1a is 2124\n",
      "num matches with unique ids for combined is 143363\n"
     ]
    }
   ],
   "source": [
    "print('num matches with unique ids for frDNA is', len(frDNA_paf[0].unique()))\n",
    "print('num matches with unique ids for EF1a is', len(EF1a_paf[0].unique()))\n",
    "print('num matches with unique ids for combined is', len(combined_paf[0].unique()))"
   ]
  },
  {
   "cell_type": "markdown",
   "metadata": {},
   "source": [
    "Compare above (using minimap2) with BLAST approach\n",
    "    - BLAST may be too slow on a larger dataset\n",
    "\n",
    "\n",
    "Check with other alignment programs eg. lastz, BLAT (check for others)\n",
    "\n"
   ]
  },
  {
   "cell_type": "markdown",
   "metadata": {},
   "source": [
    "# Testing of full size-clipped files for alignment via minimap2\n",
    " - For each of the frDNA_clipped and EF1a_clipped files as created above \n",
    "     - Look for the number of unique ids in the resultant file\n",
    "     - Determine the percentage of reads in this range that match homology given total number of reads in the clipped.fastq file"
   ]
  },
  {
   "cell_type": "code",
   "execution_count": 16,
   "metadata": {},
   "outputs": [],
   "source": [
    "frDNA_clipped_paf = pd.read_csv(\"../../analysis/Python_Processing/20171103_FAH15473/barcode02/frDNA_clipped_test.paf\", sep='\\t', header=None, engine='python')"
   ]
  },
  {
   "cell_type": "code",
   "execution_count": 17,
   "metadata": {},
   "outputs": [],
   "source": [
    "EF1a_clipped_paf = pd.read_csv(\"../../analysis/Python_Processing/20171103_FAH15473/barcode02/EF1a_clipped_test.paf\", sep='\\t', header=None)"
   ]
  },
  {
   "cell_type": "code",
   "execution_count": 18,
   "metadata": {},
   "outputs": [
    {
     "name": "stdout",
     "output_type": "stream",
     "text": [
      "Total number of matches found for frDNA is 123026\n",
      "Percentage of matches in region = 73.644%\n"
     ]
    }
   ],
   "source": [
    "print('Total number of matches found for frDNA is', len(frDNA_clipped_paf[0].unique()))\n",
    "print('Percentage of matches in region =', \"{:.3%}\".format((len(frDNA_clipped_paf[0].unique())/167054)))"
   ]
  },
  {
   "cell_type": "code",
   "execution_count": 19,
   "metadata": {},
   "outputs": [
    {
     "name": "stdout",
     "output_type": "stream",
     "text": [
      "Total number of matches found for EF1a is 2124\n",
      "False positive percentage = 1.102%\n"
     ]
    }
   ],
   "source": [
    "print('Total number of matches found for EF1a is', len(EF1a_clipped_paf[0].unique()))\n",
    "print('False positive percentage =', \"{:.3%}\".format((len(EF1a_clipped_paf[0].unique())/192712)))"
   ]
  },
  {
   "cell_type": "code",
   "execution_count": 20,
   "metadata": {},
   "outputs": [
    {
     "name": "stdout",
     "output_type": "stream",
     "text": [
      "Total number of matches found for the total of reads is 143363\n",
      "Percentage of matches overall = 34.702%\n"
     ]
    }
   ],
   "source": [
    "print('Total number of matches found for the total of reads is', len(combined_paf[0].unique()))\n",
    "print('Percentage of matches overall =', \"{:.3%}\".format((len(combined_paf[0].unique())/413127)))"
   ]
  },
  {
   "cell_type": "markdown",
   "metadata": {},
   "source": [
    "~~Plot distribution of matching reads as above~~\n",
    "\n",
    "~~Repeat minimap2 for above to see if fluctuations~~\n",
    "\n",
    "Explore non-mapping 25%\n",
    "\n",
    "Scaling - plots saved out, file for statistics (loop over later)"
   ]
  },
  {
   "cell_type": "code",
   "execution_count": 21,
   "metadata": {},
   "outputs": [],
   "source": [
    "# combined_ids = []\n",
    "# for key in combined_paf[0].unique():\n",
    "#     combined_ids.append(key)\n",
    "combined_dict = SeqIO.to_dict(SeqIO.parse(\"../../analysis/Concatenated/20171103_FAH15473/barcode02/merged.fastq\", \"fastq\"))\n",
    "comb_dict = {}\n",
    "for key in combined_paf[0].unique():\n",
    "    comb_dict[key] = combined_dict[key]"
   ]
  },
  {
   "cell_type": "code",
   "execution_count": 22,
   "metadata": {},
   "outputs": [
    {
     "name": "stdout",
     "output_type": "stream",
     "text": [
      "2780.2827926312925\n",
      "431.00582247556844\n"
     ]
    }
   ],
   "source": [
    "lengths = []\n",
    "comb_keys = []\n",
    "for key in comb_dict:\n",
    "    lengths.append(len(comb_dict[key].seq))\n",
    "    comb_keys.append(key)\n",
    "\n",
    "mean = np.mean(lengths)\n",
    "std = np.std(lengths)\n",
    "print(mean)\n",
    "print(std)\n",
    "    \n",
    "# stats_dict = {'number of frDNA reads':len(lengths),'minimum read length':min(lengths),'maximum read length':max(lengths),'mean read length':\"{:.0f}\".format(np.mean(lengths)),'median read length':\"{:.0f}\".format(np.median(lengths))}\n",
    "# stats = pd.DataFrame(stats_dict, index=['20171103_FAH15473/barcode02'])\n",
    "        \n",
    "              \n",
    "# ax = sns.distplot(lengths, color=\"k\", kde=False, bins=5000)\n",
    "# ax.set(xlim=(250, 3500))\n",
    "# ax.set_title(\"frDNA reads for 20171103_FAH15473/barcode02\", fontsize=15)\n",
    "# ax.set_xlabel(\"Length of read\", fontsize=13)\n",
    "# ax.set_ylabel(\"Number of reads\", fontsize=13)\n",
    "# plt.show()\n",
    "\n",
    "\n",
    "# ax = sns.distplot(lengths, color=\"k\", kde=False, bins=5000)\n",
    "# ax.set(xlim=(2400, 3500))\n",
    "# ax.set_title(\"frDNA reads for 20171103_FAH15473/barcode02\", fontsize=15)\n",
    "# ax.set_xlabel(\"Length of read\", fontsize=13)\n",
    "# ax.set_ylabel(\"Number of reads\", fontsize=13)\n",
    "# plt.show()\n",
    "\n",
    "\n",
    "# display(stats)"
   ]
  },
  {
   "cell_type": "code",
   "execution_count": 23,
   "metadata": {},
   "outputs": [
    {
     "name": "stdout",
     "output_type": "stream",
     "text": [
      "167054\n"
     ]
    }
   ],
   "source": [
    "fr_dict = SeqIO.to_dict(SeqIO.parse(\"../../analysis/Python_Processing/20171103_FAH15473/barcode02/barcode02_frDNA_clipped.fastq\", 'fastq'))\n",
    "print(len(fr_dict))"
   ]
  },
  {
   "cell_type": "code",
   "execution_count": 24,
   "metadata": {},
   "outputs": [],
   "source": [
    "# non_dict = {}\n",
    "# for key in fr_dict:\n",
    "#     if key not in frDNA_clipped_paf[0].unique():\n",
    "#         non_dict[key] = fr_dict[key]\n",
    "# print(len(non_dict))"
   ]
  },
  {
   "cell_type": "code",
   "execution_count": 25,
   "metadata": {},
   "outputs": [],
   "source": [
    "# lengths = []\n",
    "# non_keys = []\n",
    "# for key in non_dict:\n",
    "#     lengths.append(len(non_dict[key].seq))\n",
    "#     non_keys.append(key)\n",
    "\n",
    "# non_dict_stats = {'number of reads':len(lengths),'minimum read length':min(lengths),'maximum read length':max(lengths),'mean read length':\"{:.0f}\".format(np.mean(lengths)),'median read length':\"{:.0f}\".format(np.median(lengths))}\n",
    "# stats = pd.DataFrame(non_dict_stats, index=['20171103_FAH15473/barcode02'])\n",
    "        \n",
    "              \n",
    "# ax = sns.distplot(lengths, color=\"k\", kde=False)\n",
    "# # ax.set(xlim=(250, 3500))\n",
    "# ax.set_title(\"non-frDNA reads for 20171103_FAH15473/barcode02\", fontsize=15)\n",
    "# ax.set_xlabel(\"Length of read\", fontsize=13)\n",
    "# ax.set_ylabel(\"Number of reads\", fontsize=13)\n",
    "# plt.show()\n",
    "# display(stats)"
   ]
  },
  {
   "cell_type": "code",
   "execution_count": null,
   "metadata": {},
   "outputs": [],
   "source": []
  },
  {
   "cell_type": "code",
   "execution_count": null,
   "metadata": {},
   "outputs": [],
   "source": []
  },
  {
   "cell_type": "code",
   "execution_count": null,
   "metadata": {},
   "outputs": [],
   "source": []
  },
  {
   "cell_type": "code",
   "execution_count": 26,
   "metadata": {},
   "outputs": [
    {
     "name": "stdout",
     "output_type": "stream",
     "text": [
      "Overwriting ../summary_statistics.py\n"
     ]
    }
   ],
   "source": [
    "%%writefile ../summary_statistics.py\n",
    "\n",
    "\"\"\"\n",
    "The goal of this program is to examine the distribution of reads within\n",
    "each file, and for the files generated after homology analysis.\n",
    "The program will generate summary statistics for the result of the homology\n",
    "analysis and save figures illustrating the read distribution for the\n",
    "frDNA reads\n",
    "\"\"\"\n",
    "\n",
    "import Bio\n",
    "from Bio import SeqIO\n",
    "from Bio.Seq import Seq\n",
    "from Bio.SeqRecord import SeqRecord as SR\n",
    "from Bio.Blast import NCBIXML\n",
    "import numpy as np\n",
    "import pandas as pd\n",
    "from pandas import DataFrame as df\n",
    "import seaborn as sns\n",
    "import matplotlib.pyplot as plt\n",
    "import argparse\n",
    "\n",
    "\n",
    "WHITE='\\033[1;37m'\n",
    "BLUE='\\033[0;34m'\n",
    "RED='\\033[0;31m'\n",
    "NC='\\033[0m'\n",
    "GREEN='\\033[0;32m'\n",
    "PURPLE='\\033[1;35m'\n",
    "\n",
    "parser = argparse.ArgumentParser(description=\"\"\"\n",
    "The goal of this program is to examine the distribution of reads within\n",
    "each file, and for the files generated after homology analysis.\n",
    "The program will generate summary statistics for the result of the homology\n",
    "analysis and save figures illustrating the read distribution for the\n",
    "frDNA reads\n",
    "\"\"\")\n",
    "group = parser.add_mutually_exclusive_group()\n",
    "group.add_argument(\"--verbose\", \"-v\", \"--v\", action=\"store_true\")\n",
    "group.add_argument(\"--quiet\", \"-q\", \"--q\", action=\"store_true\")\n",
    "parser.add_argument(\"full_file\", help=\"The full, unfiltered file containing all reads for this barcode\")\n",
    "parser.add_argument(\"input_folder\", help=\"The destination folder within which the .paf files are generated\")\n",
    "parser.add_argument(\"output_folder\", help=\"The destination folder for any outputs from this script - including summary statistics file and plots\")\n",
    "args = parser.parse_args()\n",
    "\n",
    "print('\\033[0;35m'+'START'+'\\033[1;37m')\n",
    "\n",
    "output_folder = args.output_folder.rsplit('/', 1)[-2]\n",
    "input_folder = args.input_folder.rsplit('/', 1)[-2]\n",
    "if args.verbose:\n",
    "    print('\\033[0;31m' + \"Input folder is \" + input_folder + '\\033[1;37m')\n",
    "    print('\\033[0;31m' + \"Output folder is \" + output_folder + '\\033[1;37m')\n",
    "    print('\\033[0;34m' + \"Loading \" + args.full_file + '\\033[1;37m')\n",
    "\n",
    "# Load the full file containing all reads for this barcode\n",
    "full_file_dict = SeqIO.to_dict(SeqIO.parse(args.full_file, \"fastq\"))\n",
    "\n",
    "if args.verbose:\n",
    "    print('\\033[0;34m' + \"Loaded \" + args.full_file + '\\033[1;37m')\n",
    "\n",
    "# Extract the information about the lengths of the sequence for each read in this barcode\n",
    "full_lengths = []\n",
    "for key in full_file_dict:\n",
    "    full_lengths.append(len(full_file_dict[key].seq))\n",
    "full_lengths_len = len(full_file_dict)\n",
    "\n",
    "\n",
    "# Plot the spread of read lengths for this barcode\n",
    "    # Expect to see two peaks - one for EF1a and one for frDNA\n",
    "ax = sns.distplot(full_lengths, color=\"k\", kde=False, bins=5000)\n",
    "ax.set(xlim=(250, 3500))\n",
    "ax.set_title(\"Read spread for %s\" % '/'.join(args.full_file.rsplit('/')[-3:-1]), fontsize=15)\n",
    "ax.set_xlabel(\"Length of read\", fontsize=13)\n",
    "ax.set_ylabel(\"Number of reads\", fontsize=13)\n",
    "figure1 = ax.get_figure()\n",
    "# Save this figure out\n",
    "figure1.savefig('/'.join([output_folder, 'full_read_spread.png']))\n",
    "figure1.clf()\n",
    "if args.verbose:\n",
    "    print('\\033[0;32m' + \"Full spread image file saved to \" + '/'.join([output_folder, 'full_read_spread.png']) + '\\033[1;37m')\n",
    "    print('\\033[0;34m' + \"Loading \" + input_folder+\"/combined_test.paf\" + '\\033[1;37m')\n",
    "\n",
    "# Import the PAF file resulting from the minimap2 homology filtering\n",
    "full_paf = pd.read_csv(input_folder+\"/combined_test.paf\", sep='\\t', header=None, engine='python')\n",
    "if args.verbose:\n",
    "    print('\\033[0;34m' + \"Loaded \" + input_folder+\"/combined_test.paf\" + '\\033[1;37m')\n",
    "# Determine all the read ids present within the homology-filtered dataset\n",
    "# Then, create a dictionary extracting all the information from the full read file, but ONLY for reads present within the homology-filtered data\n",
    "full_dict = {}\n",
    "for key in full_paf[0].unique():\n",
    "    full_dict[key] = full_file_dict[key]\n",
    "\n",
    "# For each key in the homology-filtered dictionary, extract the sequence length and key\n",
    "full_paf_lengths = []\n",
    "full_keys = []\n",
    "for key in full_dict:\n",
    "    full_paf_lengths.append(len(full_dict[key].seq))\n",
    "    full_keys.append(key)\n",
    "\n",
    "mean = np.mean(full_paf_lengths)\n",
    "std = np.std(full_paf_lengths)\n",
    "\n",
    "if args.verbose:\n",
    "    print('\\033[1;33m' + 'Mean read length is %s' % mean + '\\033[1;37m')\n",
    "    print('\\033[1;33m' + 'Standard deviation of read length is %s' % std + '\\033[1;37m')\n",
    "    \n",
    "    \n",
    "length_filt_dict = full_dict.copy()\n",
    "for key in full_keys:\n",
    "    if len(full_dict[key].seq) < (mean-1.645*std) or len(full_dict[key].seq) > (mean+1.645*std):\n",
    "        del length_filt_dict[key]\n",
    "\n",
    "        \n",
    "        \n",
    "SeqIO.write(length_filt_dict.values(), '/'.join([output_folder, 'length_restricted_reads.fasta']), \"fasta\")\n",
    "if args.verbose:\n",
    "    print('\\033[1;36m' + 'Saved %s' % ('/'.join([output_folder, 'length_restricted_reads.fasta'])) + '\\033[1;37m')     \n",
    "    \n",
    "    \n",
    "    \n",
    "length_filt_lens = []\n",
    "len_filt_keys = []\n",
    "for key in length_filt_dict:\n",
    "    length_filt_lens.append(len(length_filt_dict[key].seq))\n",
    "    len_filt_keys.append(key)\n",
    "\n",
    "    \n",
    "    \n",
    "\n",
    "\n",
    "    \n",
    "# Extract the qscores\n",
    "# if args.verbose:\n",
    "#     print('\\033[0;34m' + \"Loading \" + 'Basecalled/'+'/'.join(args.full_file.rsplit('/')[-3:-1])+'/sequencing_summary.txt' + '\\033[1;37m')\n",
    "# summ_stats_csv = pd.read_csv('Basecalled/'+'/'.join(args.full_file.rsplit('/')[-3:-1])+'/sequencing_summary.txt', sep='\\t', header=None, names=['filename', 'read_id', 'run_id', 'batch_id', 'channel', 'mux', 'start_time', 'duration', 'num_events', 'passes_filtering', 'template_start', 'num_events_template', 'template_duration', 'sequence_length_template', 'mean_qscore_template', 'strand_score_template', 'median_template', 'mad_template'], engine='python')\n",
    "# summ_stats_csv = pd.DataFrame(summ_stats_csv[1:])\n",
    "# summary_list = []\n",
    "# for column, row in summ_stats_csv.iterrows():\n",
    "#     if row['read_id'] in full_keys:\n",
    "#         summary_list.append([row['read_id'], row['mean_qscore_template']])\n",
    "# summary_frame = pd.DataFrame(summary_list)\n",
    "# if args.verbose:\n",
    "#     print('\\033[0;34m' + \"Finished with \" + 'Basecalled/'+'/'.join(args.full_file.rsplit('/')[-3:-1])+'/sequencing_summary.txt' + '\\033[1;37m')\n",
    "    \n",
    "# Create a dictionary containing the statistics for the filtered dataset\n",
    "    # Total no. frDNA reads, Min. read length, Max. read length, Mean read length, Median read length, Quality score\n",
    "\n",
    "stats_dict = {'number of frDNA reads':len(length_filt_lens),'minimum read length':min(length_filt_lens),'maximum read length':max(length_filt_lens),'mean read length':\"{:.0f}\".format(np.mean(length_filt_lens)),'median read length':\"{:.0f}\".format(np.median(length_filt_lens))\n",
    "#               ,'min_qscore':\"{:.2f}\".format(min(summary_frame[1].astype(float))), 'max_qscore':\"{:.2f}\".format(max(summary_frame[1].astype(float))), 'mean_qscore':\"{:.2f}\".format(np.mean(summary_frame[1].astype(float))), 'median_qscore':\"{:.2f}\".format(np.median(summary_frame[1].astype(float)))\n",
    "             }\n",
    "stats = pd.DataFrame(stats_dict, index=['%s' % '/'.join(args.full_file.rsplit('/')[-3:-1])])    \n",
    "              \n",
    "bx = sns.distplot(length_filt_lens, color=\"k\", kde=False)\n",
    "bx.set(xlim=(250, 3500))\n",
    "bx.set_title(\"frDNA reads for %s\" % '/'.join(args.full_file.rsplit('/')[-3:-1]), fontsize=15)\n",
    "bx.set_xlabel(\"Length of read\", fontsize=13)\n",
    "bx.set_ylabel(\"Number of reads\", fontsize=13)\n",
    "figure2 = bx.get_figure()\n",
    "figure2.savefig('/'.join([output_folder, 'frDNA_len_filt_full.png']))\n",
    "figure2.clf()\n",
    "if args.verbose:\n",
    "    print('\\033[0;32m' + \"frDNA spread image file saved to \" + '/'.join([output_folder, 'frDNA_len_filt_full.png']) + '\\033[1;37m')\n",
    "\n",
    "cx = sns.distplot(length_filt_lens, color=\"k\", kde=False)\n",
    "cx.set(xlim=((mean-1.645*std)-100, (mean+1.645*std)+100))\n",
    "cx.set_title(\"frDNA reads for %s\" % '/'.join(args.full_file.rsplit('/')[-3:-1]), fontsize=15)\n",
    "cx.set_xlabel(\"Length of read\", fontsize=13)\n",
    "cx.set_ylabel(\"Number of reads\", fontsize=13)\n",
    "figure3 = cx.get_figure()\n",
    "figure3.savefig('/'.join([output_folder, 'frDNA_len_filt_limited.png']))\n",
    "figure3.clf()\n",
    "if args.verbose:\n",
    "    print('\\033[0;32m' + \"Zoomed-in frDNA spread image file saved to \" + '/'.join([output_folder, 'frDNA_len_filt_limited.png']) + '\\033[1;37m')\n",
    "\n",
    "stats.to_csv('/'.join([output_folder, 'frDNA_len_filt_statistics.csv']), index=False)\n",
    "if args.verbose:\n",
    "    print('\\033[0;32m' + \"Summary statistics file saved to \" + '/'.join([output_folder, 'frDNA_len_filt_statistics.csv']) + '\\033[1;37m')\n",
    "    \n",
    "print('\\033[0;35m'+'END'+'\\033[1;37m')"
   ]
  },
  {
   "cell_type": "code",
   "execution_count": 27,
   "metadata": {},
   "outputs": [],
   "source": [
    "import glob\n",
    "path = \"/10tb/tmp/TE/honours/analysis/Stats/*/*/*.csv\"\n",
    "path_names = glob.glob(path)\n",
    "full_stats = pd.DataFrame(data=None, columns = ['number of frDNA reads','minimum read length','maximum read length','mean read length','median read length','min_qscore','max_qscore','mean_qscore','median_qscore'])\n",
    "for path in path_names:\n",
    "    if path[54:-21] != 'unclassified':\n",
    "        if '20171212_FAH18688/barcode10' not in path and '20171207_FAH18654/barcode10' not in path:\n",
    "            path_stats_csv = pd.read_csv(path, header=0)\n",
    "            full_stats = full_stats.append(path_stats_csv)\n",
    "            full_stats = full_stats.rename(index={0: path[36:-21]})\n",
    "full_stats = full_stats.sort_index(ascending=True)\n",
    "full_stats.to_csv('../../analysis/Stats/overall_frDNA_stats.csv')\n",
    "num_read_stats = pd.DataFrame(data=[\"{:.0f}\".format(min(full_stats['number of frDNA reads'])), \"{:.0f}\".format(max(full_stats['number of frDNA reads'])), \"{:.0f}\".format(np.mean(full_stats['number of frDNA reads'])), \"{:.0f}\".format(np.median(full_stats['number of frDNA reads']))], index=['Min', 'Max', 'Mean', 'Median'], columns=['Number of reads'])\n",
    "num_read_stats.to_csv('../../analysis/Stats/number_of_frDNA_reads_summary.csv')"
   ]
  },
  {
   "cell_type": "code",
   "execution_count": 28,
   "metadata": {},
   "outputs": [
    {
     "name": "stdout",
     "output_type": "stream",
     "text": [
      "2643652\n"
     ]
    }
   ],
   "source": [
    "print(sum(full_stats['number of frDNA reads']))"
   ]
  },
  {
   "cell_type": "code",
   "execution_count": 29,
   "metadata": {},
   "outputs": [
    {
     "data": {
      "text/html": [
       "<div>\n",
       "<style scoped>\n",
       "    .dataframe tbody tr th:only-of-type {\n",
       "        vertical-align: middle;\n",
       "    }\n",
       "\n",
       "    .dataframe tbody tr th {\n",
       "        vertical-align: top;\n",
       "    }\n",
       "\n",
       "    .dataframe thead th {\n",
       "        text-align: right;\n",
       "    }\n",
       "</style>\n",
       "<table border=\"1\" class=\"dataframe\">\n",
       "  <thead>\n",
       "    <tr style=\"text-align: right;\">\n",
       "      <th></th>\n",
       "      <th>number of frDNA reads</th>\n",
       "      <th>minimum read length</th>\n",
       "      <th>maximum read length</th>\n",
       "      <th>mean read length</th>\n",
       "      <th>median read length</th>\n",
       "    </tr>\n",
       "  </thead>\n",
       "  <tbody>\n",
       "    <tr>\n",
       "      <td>20171103_FAH15473/barcode01</td>\n",
       "      <td>113337</td>\n",
       "      <td>2008</td>\n",
       "      <td>3836</td>\n",
       "      <td>3008</td>\n",
       "      <td>3048</td>\n",
       "    </tr>\n",
       "    <tr>\n",
       "      <td>20171103_FAH15473/barcode02</td>\n",
       "      <td>133089</td>\n",
       "      <td>2072</td>\n",
       "      <td>3489</td>\n",
       "      <td>2854</td>\n",
       "      <td>2880</td>\n",
       "    </tr>\n",
       "    <tr>\n",
       "      <td>20171103_FAH15473/barcode03</td>\n",
       "      <td>90015</td>\n",
       "      <td>2089</td>\n",
       "      <td>3545</td>\n",
       "      <td>2894</td>\n",
       "      <td>2924</td>\n",
       "    </tr>\n",
       "    <tr>\n",
       "      <td>20171103_FAH15473/barcode04</td>\n",
       "      <td>123742</td>\n",
       "      <td>2228</td>\n",
       "      <td>3379</td>\n",
       "      <td>2851</td>\n",
       "      <td>2865</td>\n",
       "    </tr>\n",
       "    <tr>\n",
       "      <td>20171103_FAH15473/barcode05</td>\n",
       "      <td>74232</td>\n",
       "      <td>2232</td>\n",
       "      <td>4026</td>\n",
       "      <td>3230</td>\n",
       "      <td>3266</td>\n",
       "    </tr>\n",
       "    <tr>\n",
       "      <td>20171103_FAH15473/barcode06</td>\n",
       "      <td>117090</td>\n",
       "      <td>2066</td>\n",
       "      <td>3807</td>\n",
       "      <td>3043</td>\n",
       "      <td>3074</td>\n",
       "    </tr>\n",
       "    <tr>\n",
       "      <td>20171103_FAH15473/barcode07</td>\n",
       "      <td>59406</td>\n",
       "      <td>1974</td>\n",
       "      <td>3585</td>\n",
       "      <td>2875</td>\n",
       "      <td>2921</td>\n",
       "    </tr>\n",
       "    <tr>\n",
       "      <td>20171103_FAH15473/barcode08</td>\n",
       "      <td>131936</td>\n",
       "      <td>1977</td>\n",
       "      <td>3163</td>\n",
       "      <td>2631</td>\n",
       "      <td>2651</td>\n",
       "    </tr>\n",
       "    <tr>\n",
       "      <td>20171103_FAH15473/barcode09</td>\n",
       "      <td>152736</td>\n",
       "      <td>2093</td>\n",
       "      <td>3734</td>\n",
       "      <td>3006</td>\n",
       "      <td>3039</td>\n",
       "    </tr>\n",
       "    <tr>\n",
       "      <td>20171103_FAH15473/barcode10</td>\n",
       "      <td>72307</td>\n",
       "      <td>2081</td>\n",
       "      <td>3526</td>\n",
       "      <td>2882</td>\n",
       "      <td>2910</td>\n",
       "    </tr>\n",
       "    <tr>\n",
       "      <td>20171103_FAH15473/barcode11</td>\n",
       "      <td>117801</td>\n",
       "      <td>2019</td>\n",
       "      <td>3659</td>\n",
       "      <td>2932</td>\n",
       "      <td>2966</td>\n",
       "    </tr>\n",
       "    <tr>\n",
       "      <td>20171103_FAH15473/barcode12</td>\n",
       "      <td>93723</td>\n",
       "      <td>2104</td>\n",
       "      <td>3523</td>\n",
       "      <td>2906</td>\n",
       "      <td>2941</td>\n",
       "    </tr>\n",
       "    <tr>\n",
       "      <td>20171207_FAH18654/barcode01</td>\n",
       "      <td>37315</td>\n",
       "      <td>2187</td>\n",
       "      <td>3362</td>\n",
       "      <td>2842</td>\n",
       "      <td>2853</td>\n",
       "    </tr>\n",
       "    <tr>\n",
       "      <td>20171207_FAH18654/barcode02</td>\n",
       "      <td>33499</td>\n",
       "      <td>2209</td>\n",
       "      <td>3470</td>\n",
       "      <td>2930</td>\n",
       "      <td>2949</td>\n",
       "    </tr>\n",
       "    <tr>\n",
       "      <td>20171207_FAH18654/barcode03</td>\n",
       "      <td>7805</td>\n",
       "      <td>1911</td>\n",
       "      <td>3180</td>\n",
       "      <td>2634</td>\n",
       "      <td>2657</td>\n",
       "    </tr>\n",
       "    <tr>\n",
       "      <td>20171207_FAH18654/barcode04</td>\n",
       "      <td>36478</td>\n",
       "      <td>1961</td>\n",
       "      <td>3091</td>\n",
       "      <td>2595</td>\n",
       "      <td>2607</td>\n",
       "    </tr>\n",
       "    <tr>\n",
       "      <td>20171207_FAH18654/barcode05</td>\n",
       "      <td>18944</td>\n",
       "      <td>2153</td>\n",
       "      <td>3483</td>\n",
       "      <td>2910</td>\n",
       "      <td>2927</td>\n",
       "    </tr>\n",
       "    <tr>\n",
       "      <td>20171207_FAH18654/barcode06</td>\n",
       "      <td>42589</td>\n",
       "      <td>2182</td>\n",
       "      <td>3488</td>\n",
       "      <td>2923</td>\n",
       "      <td>2937</td>\n",
       "    </tr>\n",
       "    <tr>\n",
       "      <td>20171207_FAH18654/barcode07</td>\n",
       "      <td>42369</td>\n",
       "      <td>2204</td>\n",
       "      <td>3428</td>\n",
       "      <td>2894</td>\n",
       "      <td>2908</td>\n",
       "    </tr>\n",
       "    <tr>\n",
       "      <td>20171207_FAH18654/barcode08</td>\n",
       "      <td>34841</td>\n",
       "      <td>2211</td>\n",
       "      <td>3424</td>\n",
       "      <td>2891</td>\n",
       "      <td>2905</td>\n",
       "    </tr>\n",
       "    <tr>\n",
       "      <td>20171207_FAH18654/barcode09</td>\n",
       "      <td>33873</td>\n",
       "      <td>2011</td>\n",
       "      <td>2930</td>\n",
       "      <td>2523</td>\n",
       "      <td>2532</td>\n",
       "    </tr>\n",
       "    <tr>\n",
       "      <td>20171207_FAH18654/barcode11</td>\n",
       "      <td>34002</td>\n",
       "      <td>2132</td>\n",
       "      <td>3473</td>\n",
       "      <td>2905</td>\n",
       "      <td>2926</td>\n",
       "    </tr>\n",
       "    <tr>\n",
       "      <td>20171207_FAH18654/barcode12</td>\n",
       "      <td>51340</td>\n",
       "      <td>2311</td>\n",
       "      <td>3369</td>\n",
       "      <td>2904</td>\n",
       "      <td>2913</td>\n",
       "    </tr>\n",
       "    <tr>\n",
       "      <td>20171212_FAH18688/barcode01</td>\n",
       "      <td>39235</td>\n",
       "      <td>2099</td>\n",
       "      <td>3553</td>\n",
       "      <td>2911</td>\n",
       "      <td>2936</td>\n",
       "    </tr>\n",
       "    <tr>\n",
       "      <td>20171212_FAH18688/barcode02</td>\n",
       "      <td>39988</td>\n",
       "      <td>1930</td>\n",
       "      <td>3619</td>\n",
       "      <td>2860</td>\n",
       "      <td>2893</td>\n",
       "    </tr>\n",
       "    <tr>\n",
       "      <td>20171212_FAH18688/barcode03</td>\n",
       "      <td>30504</td>\n",
       "      <td>2155</td>\n",
       "      <td>3405</td>\n",
       "      <td>2856</td>\n",
       "      <td>2876</td>\n",
       "    </tr>\n",
       "    <tr>\n",
       "      <td>20171212_FAH18688/barcode04</td>\n",
       "      <td>27941</td>\n",
       "      <td>2225</td>\n",
       "      <td>3339</td>\n",
       "      <td>2843</td>\n",
       "      <td>2855</td>\n",
       "    </tr>\n",
       "    <tr>\n",
       "      <td>20171212_FAH18688/barcode05</td>\n",
       "      <td>49481</td>\n",
       "      <td>2184</td>\n",
       "      <td>3486</td>\n",
       "      <td>2906</td>\n",
       "      <td>2921</td>\n",
       "    </tr>\n",
       "    <tr>\n",
       "      <td>20171212_FAH18688/barcode06</td>\n",
       "      <td>55589</td>\n",
       "      <td>2437</td>\n",
       "      <td>3897</td>\n",
       "      <td>3270</td>\n",
       "      <td>3291</td>\n",
       "    </tr>\n",
       "    <tr>\n",
       "      <td>20171212_FAH18688/barcode07</td>\n",
       "      <td>44257</td>\n",
       "      <td>2161</td>\n",
       "      <td>3388</td>\n",
       "      <td>2847</td>\n",
       "      <td>2861</td>\n",
       "    </tr>\n",
       "    <tr>\n",
       "      <td>20171212_FAH18688/barcode08</td>\n",
       "      <td>46171</td>\n",
       "      <td>2202</td>\n",
       "      <td>3507</td>\n",
       "      <td>2950</td>\n",
       "      <td>2971</td>\n",
       "    </tr>\n",
       "    <tr>\n",
       "      <td>20171212_FAH18688/barcode09</td>\n",
       "      <td>31356</td>\n",
       "      <td>2330</td>\n",
       "      <td>3908</td>\n",
       "      <td>3233</td>\n",
       "      <td>3260</td>\n",
       "    </tr>\n",
       "    <tr>\n",
       "      <td>20171212_FAH18688/barcode11</td>\n",
       "      <td>39836</td>\n",
       "      <td>1972</td>\n",
       "      <td>3569</td>\n",
       "      <td>2832</td>\n",
       "      <td>2856</td>\n",
       "    </tr>\n",
       "    <tr>\n",
       "      <td>20171212_FAH18688/barcode12</td>\n",
       "      <td>31996</td>\n",
       "      <td>1824</td>\n",
       "      <td>3765</td>\n",
       "      <td>2845</td>\n",
       "      <td>2876</td>\n",
       "    </tr>\n",
       "    <tr>\n",
       "      <td>20180108_FAH18647/barcode01</td>\n",
       "      <td>30260</td>\n",
       "      <td>2106</td>\n",
       "      <td>3782</td>\n",
       "      <td>3080</td>\n",
       "      <td>3118</td>\n",
       "    </tr>\n",
       "    <tr>\n",
       "      <td>20180108_FAH18647/barcode02</td>\n",
       "      <td>25917</td>\n",
       "      <td>2091</td>\n",
       "      <td>3513</td>\n",
       "      <td>2893</td>\n",
       "      <td>2919</td>\n",
       "    </tr>\n",
       "    <tr>\n",
       "      <td>20180108_FAH18647/barcode03</td>\n",
       "      <td>25597</td>\n",
       "      <td>865</td>\n",
       "      <td>4352</td>\n",
       "      <td>2666</td>\n",
       "      <td>2799</td>\n",
       "    </tr>\n",
       "    <tr>\n",
       "      <td>20180108_FAH18647/barcode04</td>\n",
       "      <td>37426</td>\n",
       "      <td>1840</td>\n",
       "      <td>3505</td>\n",
       "      <td>2758</td>\n",
       "      <td>2794</td>\n",
       "    </tr>\n",
       "    <tr>\n",
       "      <td>20180108_FAH18647/barcode05</td>\n",
       "      <td>29765</td>\n",
       "      <td>1854</td>\n",
       "      <td>3429</td>\n",
       "      <td>2752</td>\n",
       "      <td>2790</td>\n",
       "    </tr>\n",
       "    <tr>\n",
       "      <td>20180108_FAH18647/barcode06</td>\n",
       "      <td>42338</td>\n",
       "      <td>1974</td>\n",
       "      <td>3391</td>\n",
       "      <td>2778</td>\n",
       "      <td>2806</td>\n",
       "    </tr>\n",
       "    <tr>\n",
       "      <td>20180108_FAH18647/barcode07</td>\n",
       "      <td>23660</td>\n",
       "      <td>1858</td>\n",
       "      <td>3507</td>\n",
       "      <td>2783</td>\n",
       "      <td>2819</td>\n",
       "    </tr>\n",
       "    <tr>\n",
       "      <td>20180108_FAH18647/barcode08</td>\n",
       "      <td>27095</td>\n",
       "      <td>951</td>\n",
       "      <td>3874</td>\n",
       "      <td>2420</td>\n",
       "      <td>2480</td>\n",
       "    </tr>\n",
       "    <tr>\n",
       "      <td>20180108_FAH18647/barcode09</td>\n",
       "      <td>35120</td>\n",
       "      <td>1990</td>\n",
       "      <td>3427</td>\n",
       "      <td>2801</td>\n",
       "      <td>2826</td>\n",
       "    </tr>\n",
       "    <tr>\n",
       "      <td>20180108_FAH18647/barcode10</td>\n",
       "      <td>28382</td>\n",
       "      <td>1988</td>\n",
       "      <td>3646</td>\n",
       "      <td>2925</td>\n",
       "      <td>2976</td>\n",
       "    </tr>\n",
       "    <tr>\n",
       "      <td>20180108_FAH18647/barcode11</td>\n",
       "      <td>33244</td>\n",
       "      <td>2051</td>\n",
       "      <td>3341</td>\n",
       "      <td>2765</td>\n",
       "      <td>2784</td>\n",
       "    </tr>\n",
       "    <tr>\n",
       "      <td>20180108_FAH18647/barcode12</td>\n",
       "      <td>26937</td>\n",
       "      <td>1765</td>\n",
       "      <td>3410</td>\n",
       "      <td>2698</td>\n",
       "      <td>2735</td>\n",
       "    </tr>\n",
       "  </tbody>\n",
       "</table>\n",
       "</div>"
      ],
      "text/plain": [
       "                            number of frDNA reads minimum read length  \\\n",
       "20171103_FAH15473/barcode01                113337                2008   \n",
       "20171103_FAH15473/barcode02                133089                2072   \n",
       "20171103_FAH15473/barcode03                 90015                2089   \n",
       "20171103_FAH15473/barcode04                123742                2228   \n",
       "20171103_FAH15473/barcode05                 74232                2232   \n",
       "20171103_FAH15473/barcode06                117090                2066   \n",
       "20171103_FAH15473/barcode07                 59406                1974   \n",
       "20171103_FAH15473/barcode08                131936                1977   \n",
       "20171103_FAH15473/barcode09                152736                2093   \n",
       "20171103_FAH15473/barcode10                 72307                2081   \n",
       "20171103_FAH15473/barcode11                117801                2019   \n",
       "20171103_FAH15473/barcode12                 93723                2104   \n",
       "20171207_FAH18654/barcode01                 37315                2187   \n",
       "20171207_FAH18654/barcode02                 33499                2209   \n",
       "20171207_FAH18654/barcode03                  7805                1911   \n",
       "20171207_FAH18654/barcode04                 36478                1961   \n",
       "20171207_FAH18654/barcode05                 18944                2153   \n",
       "20171207_FAH18654/barcode06                 42589                2182   \n",
       "20171207_FAH18654/barcode07                 42369                2204   \n",
       "20171207_FAH18654/barcode08                 34841                2211   \n",
       "20171207_FAH18654/barcode09                 33873                2011   \n",
       "20171207_FAH18654/barcode11                 34002                2132   \n",
       "20171207_FAH18654/barcode12                 51340                2311   \n",
       "20171212_FAH18688/barcode01                 39235                2099   \n",
       "20171212_FAH18688/barcode02                 39988                1930   \n",
       "20171212_FAH18688/barcode03                 30504                2155   \n",
       "20171212_FAH18688/barcode04                 27941                2225   \n",
       "20171212_FAH18688/barcode05                 49481                2184   \n",
       "20171212_FAH18688/barcode06                 55589                2437   \n",
       "20171212_FAH18688/barcode07                 44257                2161   \n",
       "20171212_FAH18688/barcode08                 46171                2202   \n",
       "20171212_FAH18688/barcode09                 31356                2330   \n",
       "20171212_FAH18688/barcode11                 39836                1972   \n",
       "20171212_FAH18688/barcode12                 31996                1824   \n",
       "20180108_FAH18647/barcode01                 30260                2106   \n",
       "20180108_FAH18647/barcode02                 25917                2091   \n",
       "20180108_FAH18647/barcode03                 25597                 865   \n",
       "20180108_FAH18647/barcode04                 37426                1840   \n",
       "20180108_FAH18647/barcode05                 29765                1854   \n",
       "20180108_FAH18647/barcode06                 42338                1974   \n",
       "20180108_FAH18647/barcode07                 23660                1858   \n",
       "20180108_FAH18647/barcode08                 27095                 951   \n",
       "20180108_FAH18647/barcode09                 35120                1990   \n",
       "20180108_FAH18647/barcode10                 28382                1988   \n",
       "20180108_FAH18647/barcode11                 33244                2051   \n",
       "20180108_FAH18647/barcode12                 26937                1765   \n",
       "\n",
       "                            maximum read length mean read length  \\\n",
       "20171103_FAH15473/barcode01                3836             3008   \n",
       "20171103_FAH15473/barcode02                3489             2854   \n",
       "20171103_FAH15473/barcode03                3545             2894   \n",
       "20171103_FAH15473/barcode04                3379             2851   \n",
       "20171103_FAH15473/barcode05                4026             3230   \n",
       "20171103_FAH15473/barcode06                3807             3043   \n",
       "20171103_FAH15473/barcode07                3585             2875   \n",
       "20171103_FAH15473/barcode08                3163             2631   \n",
       "20171103_FAH15473/barcode09                3734             3006   \n",
       "20171103_FAH15473/barcode10                3526             2882   \n",
       "20171103_FAH15473/barcode11                3659             2932   \n",
       "20171103_FAH15473/barcode12                3523             2906   \n",
       "20171207_FAH18654/barcode01                3362             2842   \n",
       "20171207_FAH18654/barcode02                3470             2930   \n",
       "20171207_FAH18654/barcode03                3180             2634   \n",
       "20171207_FAH18654/barcode04                3091             2595   \n",
       "20171207_FAH18654/barcode05                3483             2910   \n",
       "20171207_FAH18654/barcode06                3488             2923   \n",
       "20171207_FAH18654/barcode07                3428             2894   \n",
       "20171207_FAH18654/barcode08                3424             2891   \n",
       "20171207_FAH18654/barcode09                2930             2523   \n",
       "20171207_FAH18654/barcode11                3473             2905   \n",
       "20171207_FAH18654/barcode12                3369             2904   \n",
       "20171212_FAH18688/barcode01                3553             2911   \n",
       "20171212_FAH18688/barcode02                3619             2860   \n",
       "20171212_FAH18688/barcode03                3405             2856   \n",
       "20171212_FAH18688/barcode04                3339             2843   \n",
       "20171212_FAH18688/barcode05                3486             2906   \n",
       "20171212_FAH18688/barcode06                3897             3270   \n",
       "20171212_FAH18688/barcode07                3388             2847   \n",
       "20171212_FAH18688/barcode08                3507             2950   \n",
       "20171212_FAH18688/barcode09                3908             3233   \n",
       "20171212_FAH18688/barcode11                3569             2832   \n",
       "20171212_FAH18688/barcode12                3765             2845   \n",
       "20180108_FAH18647/barcode01                3782             3080   \n",
       "20180108_FAH18647/barcode02                3513             2893   \n",
       "20180108_FAH18647/barcode03                4352             2666   \n",
       "20180108_FAH18647/barcode04                3505             2758   \n",
       "20180108_FAH18647/barcode05                3429             2752   \n",
       "20180108_FAH18647/barcode06                3391             2778   \n",
       "20180108_FAH18647/barcode07                3507             2783   \n",
       "20180108_FAH18647/barcode08                3874             2420   \n",
       "20180108_FAH18647/barcode09                3427             2801   \n",
       "20180108_FAH18647/barcode10                3646             2925   \n",
       "20180108_FAH18647/barcode11                3341             2765   \n",
       "20180108_FAH18647/barcode12                3410             2698   \n",
       "\n",
       "                            median read length  \n",
       "20171103_FAH15473/barcode01               3048  \n",
       "20171103_FAH15473/barcode02               2880  \n",
       "20171103_FAH15473/barcode03               2924  \n",
       "20171103_FAH15473/barcode04               2865  \n",
       "20171103_FAH15473/barcode05               3266  \n",
       "20171103_FAH15473/barcode06               3074  \n",
       "20171103_FAH15473/barcode07               2921  \n",
       "20171103_FAH15473/barcode08               2651  \n",
       "20171103_FAH15473/barcode09               3039  \n",
       "20171103_FAH15473/barcode10               2910  \n",
       "20171103_FAH15473/barcode11               2966  \n",
       "20171103_FAH15473/barcode12               2941  \n",
       "20171207_FAH18654/barcode01               2853  \n",
       "20171207_FAH18654/barcode02               2949  \n",
       "20171207_FAH18654/barcode03               2657  \n",
       "20171207_FAH18654/barcode04               2607  \n",
       "20171207_FAH18654/barcode05               2927  \n",
       "20171207_FAH18654/barcode06               2937  \n",
       "20171207_FAH18654/barcode07               2908  \n",
       "20171207_FAH18654/barcode08               2905  \n",
       "20171207_FAH18654/barcode09               2532  \n",
       "20171207_FAH18654/barcode11               2926  \n",
       "20171207_FAH18654/barcode12               2913  \n",
       "20171212_FAH18688/barcode01               2936  \n",
       "20171212_FAH18688/barcode02               2893  \n",
       "20171212_FAH18688/barcode03               2876  \n",
       "20171212_FAH18688/barcode04               2855  \n",
       "20171212_FAH18688/barcode05               2921  \n",
       "20171212_FAH18688/barcode06               3291  \n",
       "20171212_FAH18688/barcode07               2861  \n",
       "20171212_FAH18688/barcode08               2971  \n",
       "20171212_FAH18688/barcode09               3260  \n",
       "20171212_FAH18688/barcode11               2856  \n",
       "20171212_FAH18688/barcode12               2876  \n",
       "20180108_FAH18647/barcode01               3118  \n",
       "20180108_FAH18647/barcode02               2919  \n",
       "20180108_FAH18647/barcode03               2799  \n",
       "20180108_FAH18647/barcode04               2794  \n",
       "20180108_FAH18647/barcode05               2790  \n",
       "20180108_FAH18647/barcode06               2806  \n",
       "20180108_FAH18647/barcode07               2819  \n",
       "20180108_FAH18647/barcode08               2480  \n",
       "20180108_FAH18647/barcode09               2826  \n",
       "20180108_FAH18647/barcode10               2976  \n",
       "20180108_FAH18647/barcode11               2784  \n",
       "20180108_FAH18647/barcode12               2735  "
      ]
     },
     "metadata": {},
     "output_type": "display_data"
    }
   ],
   "source": [
    "import glob\n",
    "path = \"/10tb/tmp/TE/honours/analysis/Length_Filtered/*/*/*.csv\"\n",
    "path_names = glob.glob(path)\n",
    "full_stats2 = pd.DataFrame(data=None, columns = ['number of frDNA reads','minimum read length','maximum read length','mean read length','median read length'])\n",
    "for path in path_names:\n",
    "    if path[64:-30] != 'unclassified':\n",
    "        if '20171212_FAH18688/barcode10' not in path and '20171207_FAH18654/barcode10' not in path:\n",
    "            path_stats_csv = pd.read_csv(path, header=0)\n",
    "            full_stats2 = full_stats2.append(path_stats_csv)\n",
    "            full_stats2 = full_stats2.rename(index={0: path[46:-30]})\n",
    "full_stats2 = full_stats2.sort_index(ascending=True)\n",
    "display(full_stats2)\n",
    "full_stats2.to_csv('../../analysis/Length_Filtered/overall_frDNA_stats.csv')\n",
    "num_read_stats = pd.DataFrame(data=[\"{:.0f}\".format(min(full_stats2['number of frDNA reads'])), \"{:.0f}\".format(max(full_stats2['number of frDNA reads'])), \"{:.0f}\".format(np.mean(full_stats2['number of frDNA reads'])), \"{:.0f}\".format(np.median(full_stats2['number of frDNA reads']))], index=['Min', 'Max', 'Mean', 'Median'], columns=['Number of reads'])\n",
    "num_read_stats.to_csv('../../analysis/Length_Filtered/number_of_frDNA_reads_summary.csv')"
   ]
  },
  {
   "cell_type": "markdown",
   "metadata": {},
   "source": [
    "#### Create matrix for loss-of-reads when performing length filtering as percentage"
   ]
  },
  {
   "cell_type": "code",
   "execution_count": 30,
   "metadata": {},
   "outputs": [
    {
     "name": "stdout",
     "output_type": "stream",
     "text": [
      "[0.07, 0.07, 0.08, 0.06, 0.08, 0.09, 0.09, 0.07, 0.07, 0.07, 0.08, 0.09, 0.06, 0.07, 0.08, 0.06, 0.07, 0.07, 0.06, 0.06, 0.06, 0.07, 0.05, 0.07, 0.07, 0.07, 0.06, 0.07, 0.07, 0.06, 0.07, 0.08, 0.06, 0.04, 0.08, 0.08, 0.02, 0.07, 0.08, 0.08, 0.09, 0.02, 0.08, 0.09, 0.07, 0.09]\n",
      "The maximum loss of reads is 9.0% in 20171212_FAH18688/barcode11\n",
      "The minimum loss of reads is 2.0% in 20180108_FAH18647/barcode06\n"
     ]
    }
   ],
   "source": [
    "full_stats_1 = []\n",
    "full_stats_2 = []\n",
    "result = []\n",
    "\n",
    "for i in full_stats['number of frDNA reads']:\n",
    "    full_stats_1.append(i)\n",
    "for i in full_stats2['number of frDNA reads']:\n",
    "    full_stats_2.append(i)\n",
    "for i in range (0,len(full_stats_1)):\n",
    "    result.append(float(\"{:.2f}\".format((full_stats_1[i]-full_stats_2[i])/full_stats_1[i])))\n",
    "print(result)\n",
    "print('The maximum loss of reads is %s%% in %s' % (100*max(result), path_names[result.index(max(result))][46:-30]))\n",
    "print('The minimum loss of reads is %s%% in %s' % (100*min(result), path_names[result.index(min(result))][46:-30]))"
   ]
  },
  {
   "cell_type": "code",
   "execution_count": 31,
   "metadata": {},
   "outputs": [
    {
     "data": {
      "image/png": "[encoded data removed]",
      "text/plain": [
       "<Figure size 432x288 with 1 Axes>"
      ]
     },
     "metadata": {
      "needs_background": "light"
     },
     "output_type": "display_data"
    },
    {
     "data": {
      "text/html": [
       "<div>\n",
       "<style scoped>\n",
       "    .dataframe tbody tr th:only-of-type {\n",
       "        vertical-align: middle;\n",
       "    }\n",
       "\n",
       "    .dataframe tbody tr th {\n",
       "        vertical-align: top;\n",
       "    }\n",
       "\n",
       "    .dataframe thead th {\n",
       "        text-align: right;\n",
       "    }\n",
       "</style>\n",
       "<table border=\"1\" class=\"dataframe\">\n",
       "  <thead>\n",
       "    <tr style=\"text-align: right;\">\n",
       "      <th></th>\n",
       "      <th>number of reads</th>\n",
       "      <th>minimum read length</th>\n",
       "      <th>maximum read length</th>\n",
       "      <th>mean read length</th>\n",
       "      <th>median read length</th>\n",
       "    </tr>\n",
       "  </thead>\n",
       "  <tbody>\n",
       "    <tr>\n",
       "      <td>20171212_FAH18688/barcode10</td>\n",
       "      <td>666</td>\n",
       "      <td>30</td>\n",
       "      <td>14534</td>\n",
       "      <td>1312</td>\n",
       "      <td>1046</td>\n",
       "    </tr>\n",
       "  </tbody>\n",
       "</table>\n",
       "</div>"
      ],
      "text/plain": [
       "                             number of reads  minimum read length  \\\n",
       "20171212_FAH18688/barcode10              666                   30   \n",
       "\n",
       "                             maximum read length mean read length  \\\n",
       "20171212_FAH18688/barcode10                14534             1312   \n",
       "\n",
       "                            median read length  \n",
       "20171212_FAH18688/barcode10               1046  "
      ]
     },
     "metadata": {},
     "output_type": "display_data"
    }
   ],
   "source": [
    "FAH18688_barcode10 = SeqIO.to_dict(SeqIO.parse(\"../../analysis/Concatenated/20171212_FAH18688/barcode10/merged.fastq\", 'fastq'))\n",
    "lengths = []\n",
    "b10_keys = []\n",
    "for key in FAH18688_barcode10:\n",
    "    lengths.append(len(FAH18688_barcode10[key].seq))\n",
    "    b10_keys.append(key)\n",
    "\n",
    "non_dict_stats = {'number of reads':len(lengths),'minimum read length':min(lengths),'maximum read length':max(lengths),'mean read length':\"{:.0f}\".format(np.mean(lengths)),'median read length':\"{:.0f}\".format(np.median(lengths))}\n",
    "stats = pd.DataFrame(non_dict_stats, index=['20171212_FAH18688/barcode10'])\n",
    "              \n",
    "ax = sns.distplot(lengths, color=\"k\", kde=False)\n",
    "ax.set(xlim=(250, 3500))\n",
    "ax.set_title(\"non-frDNA reads for 20171212_FAH18688/barcode10\", fontsize=15)\n",
    "ax.set_xlabel(\"Length of read\", fontsize=13)\n",
    "ax.set_ylabel(\"Number of reads\", fontsize=13)\n",
    "plt.show()\n",
    "display(stats)"
   ]
  },
  {
   "cell_type": "code",
   "execution_count": 32,
   "metadata": {},
   "outputs": [
    {
     "data": {
      "image/png": "[encoded data removed]",
      "text/plain": [
       "<Figure size 432x288 with 1 Axes>"
      ]
     },
     "metadata": {
      "needs_background": "light"
     },
     "output_type": "display_data"
    },
    {
     "data": {
      "text/html": [
       "<div>\n",
       "<style scoped>\n",
       "    .dataframe tbody tr th:only-of-type {\n",
       "        vertical-align: middle;\n",
       "    }\n",
       "\n",
       "    .dataframe tbody tr th {\n",
       "        vertical-align: top;\n",
       "    }\n",
       "\n",
       "    .dataframe thead th {\n",
       "        text-align: right;\n",
       "    }\n",
       "</style>\n",
       "<table border=\"1\" class=\"dataframe\">\n",
       "  <thead>\n",
       "    <tr style=\"text-align: right;\">\n",
       "      <th></th>\n",
       "      <th>number of reads</th>\n",
       "      <th>minimum read length</th>\n",
       "      <th>maximum read length</th>\n",
       "      <th>mean read length</th>\n",
       "      <th>median read length</th>\n",
       "    </tr>\n",
       "  </thead>\n",
       "  <tbody>\n",
       "    <tr>\n",
       "      <td>20171207_FAH18654/barcode10</td>\n",
       "      <td>573</td>\n",
       "      <td>52</td>\n",
       "      <td>26936</td>\n",
       "      <td>1336</td>\n",
       "      <td>1039</td>\n",
       "    </tr>\n",
       "  </tbody>\n",
       "</table>\n",
       "</div>"
      ],
      "text/plain": [
       "                             number of reads  minimum read length  \\\n",
       "20171207_FAH18654/barcode10              573                   52   \n",
       "\n",
       "                             maximum read length mean read length  \\\n",
       "20171207_FAH18654/barcode10                26936             1336   \n",
       "\n",
       "                            median read length  \n",
       "20171207_FAH18654/barcode10               1039  "
      ]
     },
     "metadata": {},
     "output_type": "display_data"
    }
   ],
   "source": [
    "FAH18654_barcode10 = SeqIO.to_dict(SeqIO.parse(\"../../analysis/Concatenated/20171207_FAH18654/barcode10/merged.fastq\", 'fastq'))\n",
    "lengths = []\n",
    "b10_keys = []\n",
    "for key in FAH18654_barcode10:\n",
    "    lengths.append(len(FAH18654_barcode10[key].seq))\n",
    "    b10_keys.append(key)\n",
    "\n",
    "non_dict_stats = {'number of reads':len(lengths),'minimum read length':min(lengths),'maximum read length':max(lengths),'mean read length':\"{:.0f}\".format(np.mean(lengths)),'median read length':\"{:.0f}\".format(np.median(lengths))}\n",
    "stats = pd.DataFrame(non_dict_stats, index=['20171207_FAH18654/barcode10'])\n",
    "              \n",
    "ax = sns.distplot(lengths, color=\"k\", kde=False)\n",
    "ax.set(xlim=(250, 3500))\n",
    "ax.set_title(\"non-frDNA reads for 20171207_FAH18654/barcode10\", fontsize=15)\n",
    "ax.set_xlabel(\"Length of read\", fontsize=13)\n",
    "ax.set_ylabel(\"Number of reads\", fontsize=13)\n",
    "plt.show()\n",
    "display(stats)"
   ]
  },
  {
   "cell_type": "code",
   "execution_count": null,
   "metadata": {},
   "outputs": [],
   "source": []
  },
  {
   "cell_type": "code",
   "execution_count": null,
   "metadata": {},
   "outputs": [],
   "source": []
  },
  {
   "cell_type": "code",
   "execution_count": null,
   "metadata": {},
   "outputs": [],
   "source": []
  },
  {
   "cell_type": "code",
   "execution_count": 4,
   "metadata": {},
   "outputs": [
    {
     "name": "stdout",
     "output_type": "stream",
     "text": [
      "3807\n",
      "2066\n",
      "\n",
      "\n",
      " Barcode02 done \n",
      "\n",
      "\n",
      "\n",
      "\n",
      " Barcode06 done \n",
      "\n",
      "\n"
     ]
    }
   ],
   "source": [
    "barcode02 = SeqIO.to_dict(SeqIO.parse(\"../../analysis/Length_Filtered/20171103_FAH15473/barcode02/length_restricted_reads.fasta\", \"fasta\"))\n",
    "barcode06 = SeqIO.to_dict(SeqIO.parse(\"../../analysis/Length_Filtered/20171103_FAH15473/barcode06/length_restricted_reads.fasta\", \"fasta\"))\n",
    "\n",
    "total_lens = []\n",
    "for key in barcode02:\n",
    "    total_lens.append(len(barcode02[key].seq))\n",
    "for key in barcode06:\n",
    "    total_lens.append(len(barcode06[key].seq))\n",
    "print(max(total_lens))\n",
    "print(min(total_lens))\n",
    "\n",
    "\n",
    "barcode02_numbers = {}\n",
    "for key in barcode02:\n",
    "    seq = []\n",
    "    for element in barcode02[key].seq[30:-30]:\n",
    "        if element == \"A\":\n",
    "            seq.append(0)\n",
    "        elif element == \"C\":\n",
    "            seq.append(1)\n",
    "        elif element == \"G\":\n",
    "            seq.append(2)\n",
    "        elif element == \"T\":\n",
    "            seq.append(3)\n",
    "    if len(seq) < max(total_lens):\n",
    "        seq.extend([0]*(max(total_lens)-len(seq)))\n",
    "    barcode02_numbers[key] = seq\n",
    "\n",
    "print(\"\\n\\n Barcode02 done \\n\\n\")\n",
    "\n",
    "barcode06_numbers = {}\n",
    "for key in barcode06:\n",
    "    seq = []\n",
    "    for element in barcode06[key].seq[30:-30]:\n",
    "        if element == \"A\":\n",
    "            seq.append(0)\n",
    "        elif element == \"C\":\n",
    "            seq.append(1)\n",
    "        elif element == \"G\":\n",
    "            seq.append(2)\n",
    "        elif element == \"T\":\n",
    "            seq.append(3)\n",
    "    if len(seq) < max(total_lens):\n",
    "        seq.extend([0]*(max(total_lens)-len(seq)))\n",
    "    barcode06_numbers[key] = seq\n",
    "\n",
    "print(\"\\n\\n Barcode06 done \\n\\n\")"
   ]
  },
  {
   "cell_type": "code",
   "execution_count": 5,
   "metadata": {},
   "outputs": [],
   "source": [
    "seq2 = np.array(list(barcode02_numbers.values()))"
   ]
  },
  {
   "cell_type": "code",
   "execution_count": 6,
   "metadata": {},
   "outputs": [],
   "source": [
    "seq6 = np.array(list(barcode06_numbers.values()))"
   ]
  },
  {
   "cell_type": "code",
   "execution_count": 7,
   "metadata": {},
   "outputs": [],
   "source": [
    "seq_comb = np.concatenate((seq2, seq6), axis=0)"
   ]
  },
  {
   "cell_type": "code",
   "execution_count": 8,
   "metadata": {},
   "outputs": [
    {
     "name": "stdout",
     "output_type": "stream",
     "text": [
      "133089\n",
      "117090\n"
     ]
    }
   ],
   "source": [
    "ids2 = np.array([2]*(len(seq2)))\n",
    "print(len([2]*(len(seq2))))\n",
    "ids6 = np.array([6]*(len(seq6)))\n",
    "print(len([2]*(len(seq6))))"
   ]
  },
  {
   "cell_type": "code",
   "execution_count": 9,
   "metadata": {},
   "outputs": [],
   "source": [
    "ids_comb = np.concatenate((ids2, ids6), axis=0)"
   ]
  },
  {
   "cell_type": "code",
   "execution_count": 10,
   "metadata": {},
   "outputs": [
    {
     "name": "stdout",
     "output_type": "stream",
     "text": [
      "250179\n",
      "250179\n"
     ]
    }
   ],
   "source": [
    "print(len(seq_comb))\n",
    "print(len(ids_comb))"
   ]
  },
  {
   "cell_type": "code",
   "execution_count": 11,
   "metadata": {},
   "outputs": [],
   "source": [
    "np.savez_compressed('../../analysis/arrays_test/20171103_FAH15473_b2+b6_ids.csv', ids_comb)"
   ]
  },
  {
   "cell_type": "code",
   "execution_count": 12,
   "metadata": {},
   "outputs": [
    {
     "data": {
      "text/plain": [
       "array([[1, 2, 0, ..., 0, 0, 0],\n",
       "       [0, 0, 0, ..., 0, 0, 0],\n",
       "       [3, 3, 0, ..., 0, 0, 0],\n",
       "       ...,\n",
       "       [3, 3, 0, ..., 0, 0, 0],\n",
       "       [1, 2, 0, ..., 0, 0, 0],\n",
       "       [1, 2, 2, ..., 0, 0, 0]])"
      ]
     },
     "execution_count": 12,
     "metadata": {},
     "output_type": "execute_result"
    }
   ],
   "source": [
    "seq_comb[:10]"
   ]
  },
  {
   "cell_type": "code",
   "execution_count": 13,
   "metadata": {},
   "outputs": [],
   "source": [
    "np.savez_compressed('../../analysis/arrays_test/20171103_FAH15473_b2+b6_seqs.csv', seq_comb)"
   ]
  },
  {
   "cell_type": "code",
   "execution_count": 14,
   "metadata": {},
   "outputs": [],
   "source": [
    "seqs_test = np.load('../../analysis/arrays_test/20171103_FAH15473_b2+b6_seqs.csv.npz', allow_pickle=True)['arr_0']"
   ]
  },
  {
   "cell_type": "code",
   "execution_count": 16,
   "metadata": {},
   "outputs": [
    {
     "data": {
      "text/plain": [
       "array([[1, 2, 0, ..., 0, 0, 0],\n",
       "       [0, 0, 0, ..., 0, 0, 0],\n",
       "       [3, 3, 0, ..., 0, 0, 0],\n",
       "       ...,\n",
       "       [3, 3, 0, ..., 0, 0, 0],\n",
       "       [1, 2, 0, ..., 0, 0, 0],\n",
       "       [1, 2, 2, ..., 0, 0, 0]])"
      ]
     },
     "execution_count": 16,
     "metadata": {},
     "output_type": "execute_result"
    }
   ],
   "source": [
    "seqs_test[:10]"
   ]
  },
  {
   "cell_type": "code",
   "execution_count": 19,
   "metadata": {},
   "outputs": [],
   "source": [
    "ids_test = np.load('../../analysis/arrays_test/20171103_FAH15473_b2+b6_ids.csv.npz', allow_pickle=True)['arr_0']"
   ]
  },
  {
   "cell_type": "code",
   "execution_count": 20,
   "metadata": {},
   "outputs": [
    {
     "data": {
      "text/plain": [
       "array([2, 2, 2, 2, 2, 2, 2, 2, 2, 2])"
      ]
     },
     "execution_count": 20,
     "metadata": {},
     "output_type": "execute_result"
    }
   ],
   "source": [
    "ids_test[:10]"
   ]
  },
  {
   "cell_type": "code",
   "execution_count": 21,
   "metadata": {},
   "outputs": [
    {
     "data": {
      "text/plain": [
       "array([6, 6, 6, 6, 6, 6, 6, 6, 6, 6])"
      ]
     },
     "execution_count": 21,
     "metadata": {},
     "output_type": "execute_result"
    }
   ],
   "source": [
    "ids_test[-10:]"
   ]
  },
  {
   "cell_type": "code",
   "execution_count": null,
   "metadata": {},
   "outputs": [],
   "source": []
  },
  {
   "cell_type": "code",
   "execution_count": null,
   "metadata": {},
   "outputs": [],
   "source": [
    "import glob\n",
    "path = \"/10tb/tmp/TE/honours/analysis/Concatenated/*/*/*.fastq\"\n",
    "path_names = glob.glob(path)\n",
    "total_count = 0\n",
    "can_count = 0\n",
    "mis_count = 0\n",
    "unc_count = 0\n",
    "for path in path_names:\n",
    "    temp_dict = SeqIO.to_dict(SeqIO.parse(path, \"fastq\"))\n",
    "    if path[61:-13] != 'unclassified':\n",
    "        if '20171212_FAH18688/barcode10' not in path and '20171207_FAH18654/barcode10' not in path:\n",
    "            total_count += len(temp_dict)\n",
    "            can_count += len(temp_dict)\n",
    "        else:\n",
    "            total_count += len(temp_dict)\n",
    "            mis_count += len(temp_dict)\n",
    "            can_count += len(temp_dict)\n",
    "    else:\n",
    "        total_count += len(temp_dict)\n",
    "        unc_count += len(temp_dict)\n",
    "print('Total number of reads assigned to a barcode by Deepbinner is %s' % can_count)\n",
    "print('Number of reads assigned to non-existent barcodes by Deepbinner is %s' % mis_count)\n",
    "print('Estimated number of misassigned reads in total is %s' % (23*mis_count))\n",
    "print('Percentage of misassigned reads based on estimated number is %s' % (2300*(mis_count)/can_count))\n",
    "print('Number of unclassified reads is %s' % unc_count)\n",
    "print('Percentage of unclassified reads is %s' % (100*unc_count/total_count))"
   ]
  },
  {
   "cell_type": "code",
   "execution_count": null,
   "metadata": {},
   "outputs": [],
   "source": []
  }
 ],
 "metadata": {
  "kernelspec": {
   "display_name": "Python 3",
   "language": "python",
   "name": "python3"
  },
  "language_info": {
   "codemirror_mode": {
    "name": "ipython",
    "version": 3
   },
   "file_extension": ".py",
   "mimetype": "text/x-python",
   "name": "python",
   "nbconvert_exporter": "python",
   "pygments_lexer": "ipython3",
   "version": "3.7.3"
  }
 },
 "nbformat": 4,
 "nbformat_minor": 2
}
