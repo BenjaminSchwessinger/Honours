{
 "cells": [
  {
   "cell_type": "code",
   "execution_count": 1,
   "metadata": {},
   "outputs": [],
   "source": [
    "import Bio\n",
    "from Bio import SeqIO\n",
    "from Bio.Seq import Seq\n",
    "from Bio.SeqRecord import SeqRecord as SR\n",
    "from Bio.Blast import NCBIXML\n",
    "import numpy as np\n",
    "import pandas as pd\n",
    "from pandas import DataFrame as df\n",
    "import seaborn as sns\n",
    "import matplotlib.pyplot as plt\n",
    "import subprocess\n",
    "import os\n",
    "# from mothur_py import Mothur\n",
    "from shutil import copy\n",
    "import warnings\n",
    "from Bio import pairwise2\n",
    "from Bio.pairwise2 import format_alignment\n",
    "# from ipysankeywidget import SankeyWidget\n",
    "warnings.filterwarnings(\"ignore\")"
   ]
  },
  {
   "cell_type": "code",
   "execution_count": 2,
   "metadata": {},
   "outputs": [],
   "source": [
    "fastq_dict = SeqIO.to_dict(SeqIO.parse(\"../../analysis/Concatenated/20171103_FAH15473/barcode02/merged.fastq\", \"fastq\"))"
   ]
  },
  {
   "cell_type": "code",
   "execution_count": 3,
   "metadata": {},
   "outputs": [
    {
     "name": "stdout",
     "output_type": "stream",
     "text": [
      "The number of reads in this file is 413127\n"
     ]
    },
    {
     "data": {
      "image/png": "[encoded data removed]",
      "text/plain": [
       "<Figure size 432x288 with 1 Axes>"
      ]
     },
     "metadata": {
      "needs_background": "light"
     },
     "output_type": "display_data"
    }
   ],
   "source": [
    "lengths = []\n",
    "for key in fastq_dict:\n",
    "    lengths.append(len(fastq_dict[key].seq))\n",
    "print(\"The number of reads in this file is\", len(fastq_dict))\n",
    "ax = sns.distplot(lengths, color=\"k\", kde=False, bins=5000)\n",
    "\n",
    "\n",
    "ax.set(xlim=(250, 3500))\n",
    "ax.set_title(\"Reads spread 20171103_FAH15473/barcode02\", fontsize=15)\n",
    "ax.set_xlabel(\"Length of read\", fontsize=13)\n",
    "ax.set_ylabel(\"Number of reads\", fontsize=13)\n",
    "\n",
    "plt.show()"
   ]
  },
  {
   "cell_type": "code",
   "execution_count": 4,
   "metadata": {},
   "outputs": [
    {
     "name": "stdout",
     "output_type": "stream",
     "text": [
      "The number of reads between 2700 and 3200 bp in length is 167054\n",
      "The number of reads between 900 and 1400 bp in length is 192712\n"
     ]
    }
   ],
   "source": [
    "frDNA = fastq_dict.copy()\n",
    "for key in fastq_dict:\n",
    "    if len(fastq_dict[key].seq) not in range(2700, 3200):\n",
    "        del frDNA[key]\n",
    "print(\"The number of reads between 2700 and 3200 bp in length is\", len(frDNA))\n",
    "EF1a = fastq_dict.copy()\n",
    "for key in fastq_dict:\n",
    "    if len(fastq_dict[key].seq) not in range(900, 1400):\n",
    "        del EF1a[key]\n",
    "print(\"The number of reads between 900 and 1400 bp in length is\", len(EF1a))"
   ]
  },
  {
   "cell_type": "code",
   "execution_count": 5,
   "metadata": {},
   "outputs": [
    {
     "data": {
      "text/plain": [
       "167054"
      ]
     },
     "execution_count": 5,
     "metadata": {},
     "output_type": "execute_result"
    }
   ],
   "source": [
    "# Write the reads defined between the frDNA cutoff into a new fasta file\n",
    "SeqIO.write(frDNA.values(), \"../../analysis/Python_Processing/20171103_FAH15473/barcode02/barcode02_frDNA_clipped.fastq\", \"fastq\")"
   ]
  },
  {
   "cell_type": "code",
   "execution_count": 6,
   "metadata": {},
   "outputs": [
    {
     "data": {
      "text/plain": [
       "192712"
      ]
     },
     "execution_count": 6,
     "metadata": {},
     "output_type": "execute_result"
    }
   ],
   "source": [
    "# Write the reads defined between the EF1a cutoff into a new fasta file\n",
    "SeqIO.write(EF1a.values(), \"../../analysis/Python_Processing/20171103_FAH15473/barcode02/barcode02_EF1a_clipped.fastq\", \"fastq\")"
   ]
  },
  {
   "cell_type": "code",
   "execution_count": 7,
   "metadata": {},
   "outputs": [],
   "source": [
    "frDNA_extract={k: frDNA[k] for k in list(frDNA.keys())[:500]}\n",
    "EF1a_extract={k: EF1a[k] for k in list(EF1a.keys())[:500]}"
   ]
  },
  {
   "cell_type": "code",
   "execution_count": 8,
   "metadata": {},
   "outputs": [],
   "source": [
    "for key in frDNA_extract:\n",
    "    frDNA_extract[key].annotations = 'frDNA'\n",
    "for key in EF1a_extract:\n",
    "    EF1a_extract[key].annotations = 'EF1a'"
   ]
  },
  {
   "cell_type": "code",
   "execution_count": 9,
   "metadata": {},
   "outputs": [
    {
     "name": "stdout",
     "output_type": "stream",
     "text": [
      "500\n",
      "500\n",
      "1000\n"
     ]
    }
   ],
   "source": [
    "combined_extract = {}\n",
    "combined_extract.update(frDNA_extract)\n",
    "combined_extract.update(EF1a_extract)\n",
    "print(len(frDNA_extract))\n",
    "print(len(EF1a_extract))\n",
    "print(len(combined_extract))"
   ]
  },
  {
   "cell_type": "code",
   "execution_count": 10,
   "metadata": {},
   "outputs": [
    {
     "data": {
      "text/plain": [
       "1000"
      ]
     },
     "execution_count": 10,
     "metadata": {},
     "output_type": "execute_result"
    }
   ],
   "source": [
    "SeqIO.write(frDNA_extract.values(), \"../../analysis/Python_Processing/20171103_FAH15473/barcode02/barcode02_frDNA_extract_test.fastq\", \"fastq\")\n",
    "SeqIO.write(EF1a_extract.values(), \"../../analysis/Python_Processing/20171103_FAH15473/barcode02/barcode02_EF1a_extract_test.fastq\", \"fastq\")\n",
    "SeqIO.write(combined_extract.values(), \"../../analysis/Python_Processing/20171103_FAH15473/barcode02/barcode02_combined_extract_test.fastq\", \"fastq\")"
   ]
  },
  {
   "cell_type": "code",
   "execution_count": 11,
   "metadata": {},
   "outputs": [],
   "source": [
    "frDNA_paf = pd.read_csv(\"../../analysis/Python_Processing/20171103_FAH15473/barcode02/frDNA_clipped_test.paf\", sep='\\t', header=None, engine='python')\n",
    "EF1a_paf = pd.read_csv(\"../../analysis/Python_Processing/20171103_FAH15473/barcode02/EF1a_clipped_test.paf\", sep='\\t', header=None, engine='python')\n",
    "combined_paf = pd.read_csv(\"../../analysis/Python_Processing/20171103_FAH15473/barcode02/combined_test.paf\", sep='\\t', header=None, engine='python')"
   ]
  },
  {
   "cell_type": "code",
   "execution_count": 12,
   "metadata": {},
   "outputs": [
    {
     "data": {
      "text/html": [
       "<div>\n",
       "<style scoped>\n",
       "    .dataframe tbody tr th:only-of-type {\n",
       "        vertical-align: middle;\n",
       "    }\n",
       "\n",
       "    .dataframe tbody tr th {\n",
       "        vertical-align: top;\n",
       "    }\n",
       "\n",
       "    .dataframe thead th {\n",
       "        text-align: right;\n",
       "    }\n",
       "</style>\n",
       "<table border=\"1\" class=\"dataframe\">\n",
       "  <thead>\n",
       "    <tr style=\"text-align: right;\">\n",
       "      <th></th>\n",
       "      <th>0</th>\n",
       "      <th>1</th>\n",
       "      <th>2</th>\n",
       "      <th>3</th>\n",
       "      <th>4</th>\n",
       "      <th>5</th>\n",
       "      <th>6</th>\n",
       "      <th>7</th>\n",
       "      <th>8</th>\n",
       "      <th>9</th>\n",
       "      <th>10</th>\n",
       "      <th>11</th>\n",
       "      <th>12</th>\n",
       "      <th>13</th>\n",
       "      <th>14</th>\n",
       "      <th>15</th>\n",
       "      <th>16</th>\n",
       "    </tr>\n",
       "  </thead>\n",
       "  <tbody>\n",
       "    <tr>\n",
       "      <td>0</td>\n",
       "      <td>11765199-a559-412c-9c2d-992dead3d782</td>\n",
       "      <td>2912</td>\n",
       "      <td>1945</td>\n",
       "      <td>2574</td>\n",
       "      <td>+</td>\n",
       "      <td>Kluyveromyces|KT853036</td>\n",
       "      <td>1778</td>\n",
       "      <td>1110</td>\n",
       "      <td>1752</td>\n",
       "      <td>72</td>\n",
       "      <td>646</td>\n",
       "      <td>47</td>\n",
       "      <td>tp:A:P</td>\n",
       "      <td>cm:i:7</td>\n",
       "      <td>s1:i:68</td>\n",
       "      <td>s2:i:0</td>\n",
       "      <td>dv:f:0.1860</td>\n",
       "    </tr>\n",
       "    <tr>\n",
       "      <td>1</td>\n",
       "      <td>e72814ef-ec58-42da-8d8f-59c40d51d6bf</td>\n",
       "      <td>2951</td>\n",
       "      <td>1449</td>\n",
       "      <td>1784</td>\n",
       "      <td>+</td>\n",
       "      <td>Zymoseptoria|KM246156</td>\n",
       "      <td>484</td>\n",
       "      <td>118</td>\n",
       "      <td>444</td>\n",
       "      <td>76</td>\n",
       "      <td>335</td>\n",
       "      <td>60</td>\n",
       "      <td>tp:A:P</td>\n",
       "      <td>cm:i:8</td>\n",
       "      <td>s1:i:75</td>\n",
       "      <td>s2:i:0</td>\n",
       "      <td>dv:f:0.1354</td>\n",
       "    </tr>\n",
       "    <tr>\n",
       "      <td>2</td>\n",
       "      <td>2f569c0e-ef7d-48a1-a215-5a35e14ae35b</td>\n",
       "      <td>2906</td>\n",
       "      <td>1141</td>\n",
       "      <td>1458</td>\n",
       "      <td>-</td>\n",
       "      <td>Zymoseptoria|KM246156</td>\n",
       "      <td>484</td>\n",
       "      <td>134</td>\n",
       "      <td>451</td>\n",
       "      <td>81</td>\n",
       "      <td>328</td>\n",
       "      <td>17</td>\n",
       "      <td>tp:A:P</td>\n",
       "      <td>cm:i:7</td>\n",
       "      <td>s1:i:77</td>\n",
       "      <td>s2:i:66</td>\n",
       "      <td>dv:f:0.1421</td>\n",
       "    </tr>\n",
       "    <tr>\n",
       "      <td>3</td>\n",
       "      <td>2f569c0e-ef7d-48a1-a215-5a35e14ae35b</td>\n",
       "      <td>2906</td>\n",
       "      <td>322</td>\n",
       "      <td>1815</td>\n",
       "      <td>-</td>\n",
       "      <td>Kluyveromyces|KT853036</td>\n",
       "      <td>1778</td>\n",
       "      <td>100</td>\n",
       "      <td>1752</td>\n",
       "      <td>105</td>\n",
       "      <td>1654</td>\n",
       "      <td>60</td>\n",
       "      <td>tp:A:P</td>\n",
       "      <td>cm:i:9</td>\n",
       "      <td>s1:i:76</td>\n",
       "      <td>s2:i:0</td>\n",
       "      <td>dv:f:0.2270</td>\n",
       "    </tr>\n",
       "    <tr>\n",
       "      <td>4</td>\n",
       "      <td>2f569c0e-ef7d-48a1-a215-5a35e14ae35b</td>\n",
       "      <td>2906</td>\n",
       "      <td>1351</td>\n",
       "      <td>1458</td>\n",
       "      <td>-</td>\n",
       "      <td>Oculimacula(Tapesia)|AY713294</td>\n",
       "      <td>608</td>\n",
       "      <td>260</td>\n",
       "      <td>368</td>\n",
       "      <td>66</td>\n",
       "      <td>109</td>\n",
       "      <td>0</td>\n",
       "      <td>tp:A:S</td>\n",
       "      <td>cm:i:6</td>\n",
       "      <td>s1:i:66</td>\n",
       "      <td>dv:f:0.0835</td>\n",
       "      <td>None</td>\n",
       "    </tr>\n",
       "  </tbody>\n",
       "</table>\n",
       "</div>"
      ],
      "text/plain": [
       "                                     0     1     2     3  4   \\\n",
       "0  11765199-a559-412c-9c2d-992dead3d782  2912  1945  2574  +   \n",
       "1  e72814ef-ec58-42da-8d8f-59c40d51d6bf  2951  1449  1784  +   \n",
       "2  2f569c0e-ef7d-48a1-a215-5a35e14ae35b  2906  1141  1458  -   \n",
       "3  2f569c0e-ef7d-48a1-a215-5a35e14ae35b  2906   322  1815  -   \n",
       "4  2f569c0e-ef7d-48a1-a215-5a35e14ae35b  2906  1351  1458  -   \n",
       "\n",
       "                              5     6     7     8    9     10  11      12  \\\n",
       "0         Kluyveromyces|KT853036  1778  1110  1752   72   646  47  tp:A:P   \n",
       "1          Zymoseptoria|KM246156   484   118   444   76   335  60  tp:A:P   \n",
       "2          Zymoseptoria|KM246156   484   134   451   81   328  17  tp:A:P   \n",
       "3         Kluyveromyces|KT853036  1778   100  1752  105  1654  60  tp:A:P   \n",
       "4  Oculimacula(Tapesia)|AY713294   608   260   368   66   109   0  tp:A:S   \n",
       "\n",
       "       13       14           15           16  \n",
       "0  cm:i:7  s1:i:68       s2:i:0  dv:f:0.1860  \n",
       "1  cm:i:8  s1:i:75       s2:i:0  dv:f:0.1354  \n",
       "2  cm:i:7  s1:i:77      s2:i:66  dv:f:0.1421  \n",
       "3  cm:i:9  s1:i:76       s2:i:0  dv:f:0.2270  \n",
       "4  cm:i:6  s1:i:66  dv:f:0.0835         None  "
      ]
     },
     "execution_count": 12,
     "metadata": {},
     "output_type": "execute_result"
    }
   ],
   "source": [
    "frDNA_paf.head()"
   ]
  },
  {
   "cell_type": "code",
   "execution_count": 13,
   "metadata": {},
   "outputs": [
    {
     "data": {
      "text/html": [
       "<div>\n",
       "<style scoped>\n",
       "    .dataframe tbody tr th:only-of-type {\n",
       "        vertical-align: middle;\n",
       "    }\n",
       "\n",
       "    .dataframe tbody tr th {\n",
       "        vertical-align: top;\n",
       "    }\n",
       "\n",
       "    .dataframe thead th {\n",
       "        text-align: right;\n",
       "    }\n",
       "</style>\n",
       "<table border=\"1\" class=\"dataframe\">\n",
       "  <thead>\n",
       "    <tr style=\"text-align: right;\">\n",
       "      <th></th>\n",
       "      <th>0</th>\n",
       "      <th>1</th>\n",
       "      <th>2</th>\n",
       "      <th>3</th>\n",
       "      <th>4</th>\n",
       "      <th>5</th>\n",
       "      <th>6</th>\n",
       "      <th>7</th>\n",
       "      <th>8</th>\n",
       "      <th>9</th>\n",
       "      <th>10</th>\n",
       "      <th>11</th>\n",
       "      <th>12</th>\n",
       "      <th>13</th>\n",
       "      <th>14</th>\n",
       "      <th>15</th>\n",
       "      <th>16</th>\n",
       "    </tr>\n",
       "  </thead>\n",
       "  <tbody>\n",
       "    <tr>\n",
       "      <td>0</td>\n",
       "      <td>11765199-a559-412c-9c2d-992dead3d782</td>\n",
       "      <td>2912</td>\n",
       "      <td>1945</td>\n",
       "      <td>2574</td>\n",
       "      <td>+</td>\n",
       "      <td>Kluyveromyces|KT853036</td>\n",
       "      <td>1778</td>\n",
       "      <td>1110</td>\n",
       "      <td>1752</td>\n",
       "      <td>72</td>\n",
       "      <td>646</td>\n",
       "      <td>47</td>\n",
       "      <td>tp:A:P</td>\n",
       "      <td>cm:i:7</td>\n",
       "      <td>s1:i:68</td>\n",
       "      <td>s2:i:0</td>\n",
       "      <td>dv:f:0.1860</td>\n",
       "    </tr>\n",
       "    <tr>\n",
       "      <td>1</td>\n",
       "      <td>e72814ef-ec58-42da-8d8f-59c40d51d6bf</td>\n",
       "      <td>2951</td>\n",
       "      <td>1449</td>\n",
       "      <td>1784</td>\n",
       "      <td>+</td>\n",
       "      <td>Zymoseptoria|KM246156</td>\n",
       "      <td>484</td>\n",
       "      <td>118</td>\n",
       "      <td>444</td>\n",
       "      <td>76</td>\n",
       "      <td>335</td>\n",
       "      <td>60</td>\n",
       "      <td>tp:A:P</td>\n",
       "      <td>cm:i:8</td>\n",
       "      <td>s1:i:75</td>\n",
       "      <td>s2:i:0</td>\n",
       "      <td>dv:f:0.1354</td>\n",
       "    </tr>\n",
       "    <tr>\n",
       "      <td>2</td>\n",
       "      <td>2f569c0e-ef7d-48a1-a215-5a35e14ae35b</td>\n",
       "      <td>2906</td>\n",
       "      <td>1141</td>\n",
       "      <td>1458</td>\n",
       "      <td>-</td>\n",
       "      <td>Zymoseptoria|KM246156</td>\n",
       "      <td>484</td>\n",
       "      <td>134</td>\n",
       "      <td>451</td>\n",
       "      <td>81</td>\n",
       "      <td>328</td>\n",
       "      <td>17</td>\n",
       "      <td>tp:A:P</td>\n",
       "      <td>cm:i:7</td>\n",
       "      <td>s1:i:77</td>\n",
       "      <td>s2:i:66</td>\n",
       "      <td>dv:f:0.1421</td>\n",
       "    </tr>\n",
       "    <tr>\n",
       "      <td>3</td>\n",
       "      <td>2f569c0e-ef7d-48a1-a215-5a35e14ae35b</td>\n",
       "      <td>2906</td>\n",
       "      <td>322</td>\n",
       "      <td>1815</td>\n",
       "      <td>-</td>\n",
       "      <td>Kluyveromyces|KT853036</td>\n",
       "      <td>1778</td>\n",
       "      <td>100</td>\n",
       "      <td>1752</td>\n",
       "      <td>105</td>\n",
       "      <td>1654</td>\n",
       "      <td>60</td>\n",
       "      <td>tp:A:P</td>\n",
       "      <td>cm:i:9</td>\n",
       "      <td>s1:i:76</td>\n",
       "      <td>s2:i:0</td>\n",
       "      <td>dv:f:0.2270</td>\n",
       "    </tr>\n",
       "    <tr>\n",
       "      <td>4</td>\n",
       "      <td>2f569c0e-ef7d-48a1-a215-5a35e14ae35b</td>\n",
       "      <td>2906</td>\n",
       "      <td>1351</td>\n",
       "      <td>1458</td>\n",
       "      <td>-</td>\n",
       "      <td>Oculimacula(Tapesia)|AY713294</td>\n",
       "      <td>608</td>\n",
       "      <td>260</td>\n",
       "      <td>368</td>\n",
       "      <td>66</td>\n",
       "      <td>109</td>\n",
       "      <td>0</td>\n",
       "      <td>tp:A:S</td>\n",
       "      <td>cm:i:6</td>\n",
       "      <td>s1:i:66</td>\n",
       "      <td>dv:f:0.0835</td>\n",
       "      <td>None</td>\n",
       "    </tr>\n",
       "  </tbody>\n",
       "</table>\n",
       "</div>"
      ],
      "text/plain": [
       "                                     0     1     2     3  4   \\\n",
       "0  11765199-a559-412c-9c2d-992dead3d782  2912  1945  2574  +   \n",
       "1  e72814ef-ec58-42da-8d8f-59c40d51d6bf  2951  1449  1784  +   \n",
       "2  2f569c0e-ef7d-48a1-a215-5a35e14ae35b  2906  1141  1458  -   \n",
       "3  2f569c0e-ef7d-48a1-a215-5a35e14ae35b  2906   322  1815  -   \n",
       "4  2f569c0e-ef7d-48a1-a215-5a35e14ae35b  2906  1351  1458  -   \n",
       "\n",
       "                              5     6     7     8    9     10  11      12  \\\n",
       "0         Kluyveromyces|KT853036  1778  1110  1752   72   646  47  tp:A:P   \n",
       "1          Zymoseptoria|KM246156   484   118   444   76   335  60  tp:A:P   \n",
       "2          Zymoseptoria|KM246156   484   134   451   81   328  17  tp:A:P   \n",
       "3         Kluyveromyces|KT853036  1778   100  1752  105  1654  60  tp:A:P   \n",
       "4  Oculimacula(Tapesia)|AY713294   608   260   368   66   109   0  tp:A:S   \n",
       "\n",
       "       13       14           15           16  \n",
       "0  cm:i:7  s1:i:68       s2:i:0  dv:f:0.1860  \n",
       "1  cm:i:8  s1:i:75       s2:i:0  dv:f:0.1354  \n",
       "2  cm:i:7  s1:i:77      s2:i:66  dv:f:0.1421  \n",
       "3  cm:i:9  s1:i:76       s2:i:0  dv:f:0.2270  \n",
       "4  cm:i:6  s1:i:66  dv:f:0.0835         None  "
      ]
     },
     "execution_count": 13,
     "metadata": {},
     "output_type": "execute_result"
    }
   ],
   "source": [
    "combined_paf.head()"
   ]
  },
  {
   "cell_type": "code",
   "execution_count": 14,
   "metadata": {},
   "outputs": [
    {
     "name": "stdout",
     "output_type": "stream",
     "text": [
      "min len of match for frDNA is 2700\n",
      "min len of match for EF1a is 900\n",
      "min len of match for combined is 284\n"
     ]
    }
   ],
   "source": [
    "print(\"min len of match for frDNA is\", frDNA_paf[1].min())\n",
    "print(\"min len of match for EF1a is\", EF1a_paf[1].min())\n",
    "print(\"min len of match for combined is\", combined_paf[1].min())"
   ]
  },
  {
   "cell_type": "code",
   "execution_count": 15,
   "metadata": {},
   "outputs": [
    {
     "name": "stdout",
     "output_type": "stream",
     "text": [
      "num matches with unique ids for frDNA is 123026\n",
      "num matches with unique ids for EF1a is 2124\n",
      "num matches with unique ids for combined is 143363\n"
     ]
    }
   ],
   "source": [
    "print('num matches with unique ids for frDNA is', len(frDNA_paf[0].unique()))\n",
    "print('num matches with unique ids for EF1a is', len(EF1a_paf[0].unique()))\n",
    "print('num matches with unique ids for combined is', len(combined_paf[0].unique()))"
   ]
  },
  {
   "cell_type": "markdown",
   "metadata": {},
   "source": [
    "Compare above (using minimap2) with BLAST approach\n",
    "    - BLAST may be too slow on a larger dataset\n",
    "\n",
    "\n",
    "Check with other alignment programs eg. lastz, BLAT (check for others)\n",
    "\n"
   ]
  },
  {
   "cell_type": "markdown",
   "metadata": {},
   "source": [
    "# Testing of full size-clipped files for alignment via minimap2\n",
    " - For each of the frDNA_clipped and EF1a_clipped files as created above \n",
    "     - Look for the number of unique ids in the resultant file\n",
    "     - Determine the percentage of reads in this range that match homology given total number of reads in the clipped.fastq file"
   ]
  },
  {
   "cell_type": "code",
   "execution_count": 16,
   "metadata": {},
   "outputs": [],
   "source": [
    "frDNA_clipped_paf = pd.read_csv(\"../../analysis/Python_Processing/20171103_FAH15473/barcode02/frDNA_clipped_test.paf\", sep='\\t', header=None, engine='python')"
   ]
  },
  {
   "cell_type": "code",
   "execution_count": 17,
   "metadata": {},
   "outputs": [],
   "source": [
    "EF1a_clipped_paf = pd.read_csv(\"../../analysis/Python_Processing/20171103_FAH15473/barcode02/EF1a_clipped_test.paf\", sep='\\t', header=None)"
   ]
  },
  {
   "cell_type": "code",
   "execution_count": 18,
   "metadata": {},
   "outputs": [
    {
     "name": "stdout",
     "output_type": "stream",
     "text": [
      "Total number of matches found for frDNA is 123026\n",
      "Percentage of matches in region = 73.644%\n"
     ]
    }
   ],
   "source": [
    "print('Total number of matches found for frDNA is', len(frDNA_clipped_paf[0].unique()))\n",
    "print('Percentage of matches in region =', \"{:.3%}\".format((len(frDNA_clipped_paf[0].unique())/167054)))"
   ]
  },
  {
   "cell_type": "code",
   "execution_count": 19,
   "metadata": {},
   "outputs": [
    {
     "name": "stdout",
     "output_type": "stream",
     "text": [
      "Total number of matches found for EF1a is 2124\n",
      "False positive percentage = 1.102%\n"
     ]
    }
   ],
   "source": [
    "print('Total number of matches found for EF1a is', len(EF1a_clipped_paf[0].unique()))\n",
    "print('False positive percentage =', \"{:.3%}\".format((len(EF1a_clipped_paf[0].unique())/192712)))"
   ]
  },
  {
   "cell_type": "code",
   "execution_count": 20,
   "metadata": {},
   "outputs": [
    {
     "name": "stdout",
     "output_type": "stream",
     "text": [
      "Total number of matches found for the total of reads is 143363\n",
      "Percentage of matches overall = 34.702%\n"
     ]
    }
   ],
   "source": [
    "print('Total number of matches found for the total of reads is', len(combined_paf[0].unique()))\n",
    "print('Percentage of matches overall =', \"{:.3%}\".format((len(combined_paf[0].unique())/413127)))"
   ]
  },
  {
   "cell_type": "markdown",
   "metadata": {},
   "source": [
    "~~Plot distribution of matching reads as above~~\n",
    "\n",
    "~~Repeat minimap2 for above to see if fluctuations~~\n",
    "\n",
    "Explore non-mapping 25%\n",
    "\n",
    "Scaling - plots saved out, file for statistics (loop over later)"
   ]
  },
  {
   "cell_type": "code",
   "execution_count": 21,
   "metadata": {},
   "outputs": [],
   "source": [
    "# combined_ids = []\n",
    "# for key in combined_paf[0].unique():\n",
    "#     combined_ids.append(key)\n",
    "combined_dict = SeqIO.to_dict(SeqIO.parse(\"../../analysis/Concatenated/20171103_FAH15473/barcode02/merged.fastq\", \"fastq\"))\n",
    "comb_dict = {}\n",
    "for key in combined_paf[0].unique():\n",
    "    comb_dict[key] = combined_dict[key]"
   ]
  },
  {
   "cell_type": "code",
   "execution_count": null,
   "metadata": {},
   "outputs": [],
   "source": [
    "lengths = []\n",
    "for key in comb_dict:\n",
    "    lengths.append(len(comb_dict[key].seq))\n",
    "\n",
    "stats_dict = {'number of frDNA reads':len(lengths),'minimum read length':min(lengths),'maximum read length':max(lengths),'mean read length':\"{:.0f}\".format(np.mean(lengths)),'median read length':\"{:.0f}\".format(np.median(lengths))}\n",
    "stats = pd.DataFrame(stats_dict, index=['20171103_FAH15473/barcode02'])\n",
    "        \n",
    "              \n",
    "ax = sns.distplot(lengths, color=\"k\", kde=False, bins=5000)\n",
    "ax.set(xlim=(250, 3500))\n",
    "ax.set_title(\"frDNA reads for 20171103_FAH15473/barcode02\", fontsize=15)\n",
    "ax.set_xlabel(\"Length of read\", fontsize=13)\n",
    "ax.set_ylabel(\"Number of reads\", fontsize=13)\n",
    "plt.show()\n",
    "\n",
    "\n",
    "ax = sns.distplot(lengths, color=\"k\", kde=False, bins=5000)\n",
    "ax.set(xlim=(2400, 3500))\n",
    "ax.set_title(\"frDNA reads for 20171103_FAH15473/barcode02\", fontsize=15)\n",
    "ax.set_xlabel(\"Length of read\", fontsize=13)\n",
    "ax.set_ylabel(\"Number of reads\", fontsize=13)\n",
    "plt.show()\n",
    "\n",
    "\n",
    "display(stats)"
   ]
  },
  {
   "cell_type": "code",
   "execution_count": 23,
   "metadata": {},
   "outputs": [
    {
     "name": "stdout",
     "output_type": "stream",
     "text": [
      "167054\n"
     ]
    }
   ],
   "source": [
    "fr_dict = SeqIO.to_dict(SeqIO.parse(\"../../analysis/Python_Processing/20171103_FAH15473/barcode02/barcode02_frDNA_clipped.fastq\", 'fastq'))\n",
    "print(len(fr_dict))"
   ]
  },
  {
   "cell_type": "code",
   "execution_count": null,
   "metadata": {},
   "outputs": [],
   "source": [
    "non_dict = {}\n",
    "for key in fr_dict:\n",
    "    if key not in frDNA_clipped_paf[0].unique():\n",
    "        non_dict[key] = fr_dict[key]\n",
    "print(len(non_dict))"
   ]
  },
  {
   "cell_type": "code",
   "execution_count": null,
   "metadata": {},
   "outputs": [],
   "source": [
    "lengths = []\n",
    "for key in non_dict:\n",
    "    lengths.append(len(non_dict[key].seq))\n",
    "\n",
    "non_dict_stats = {'number of reads':len(lengths),'minimum read length':min(lengths),'maximum read length':max(lengths),'mean read length':\"{:.0f}\".format(np.mean(lengths)),'median read length':\"{:.0f}\".format(np.median(lengths))}\n",
    "stats = pd.DataFrame(non_dict_stats, index=['20171103_FAH15473/barcode02'])\n",
    "        \n",
    "              \n",
    "ax = sns.distplot(lengths, color=\"k\", kde=False, bins=5000)\n",
    "ax.set(xlim=(250, 3500))\n",
    "ax.set_title(\"non-frDNA reads for 20171103_FAH15473/barcode02\", fontsize=15)\n",
    "ax.set_xlabel(\"Length of read\", fontsize=13)\n",
    "ax.set_ylabel(\"Number of reads\", fontsize=13)\n",
    "plt.show()\n",
    "display(stats)"
   ]
  },
  {
   "cell_type": "code",
   "execution_count": null,
   "metadata": {},
   "outputs": [],
   "source": []
  }
 ],
 "metadata": {
  "kernelspec": {
   "display_name": "Python 3",
   "language": "python",
   "name": "python3"
  },
  "language_info": {
   "codemirror_mode": {
    "name": "ipython",
    "version": 3
   },
   "file_extension": ".py",
   "mimetype": "text/x-python",
   "name": "python",
   "nbconvert_exporter": "python",
   "pygments_lexer": "ipython3",
   "version": "3.7.3"
  }
 },
 "nbformat": 4,
 "nbformat_minor": 2
}
