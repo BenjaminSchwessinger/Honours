{
 "cells": [
  {
   "cell_type": "code",
   "execution_count": 1,
   "metadata": {},
   "outputs": [],
   "source": [
    "import Bio\n",
    "from Bio import SeqIO\n",
    "from Bio.Seq import Seq\n",
    "from Bio.SeqRecord import SeqRecord as SR\n",
    "from Bio.Blast import NCBIXML\n",
    "from Bio import pairwise2\n",
    "from Bio.pairwise2 import format_alignment\n",
    "import numpy as np\n",
    "import pandas as pd\n",
    "from pandas import DataFrame as df\n",
    "import seaborn as sns\n",
    "import matplotlib.pyplot as plt\n",
    "import subprocess\n",
    "import os\n",
    "# from mothur_py import Mothur\n",
    "from shutil import copy\n",
    "import warnings\n",
    "from Bio import pairwise2\n",
    "from Bio.pairwise2 import format_alignment\n",
    "# from ipysankeywidget import SankeyWidget\n",
    "warnings.filterwarnings(\"ignore\")"
   ]
  },
  {
   "cell_type": "code",
   "execution_count": null,
   "metadata": {},
   "outputs": [],
   "source": [
    "fastq_dict = SeqIO.to_dict(SeqIO.parse(\"../../analysis/Concatenated/20171103_FAH15473/barcode02/merged.fastq\", \"fastq\"))"
   ]
  },
  {
   "cell_type": "code",
   "execution_count": null,
   "metadata": {},
   "outputs": [],
   "source": [
    "lengths = []\n",
    "for key in fastq_dict:\n",
    "    lengths.append(len(fastq_dict[key].seq))\n",
    "print(\"The number of reads in this file is\", len(fastq_dict))\n",
    "ax = sns.distplot(lengths, color=\"k\", kde=False, bins=5000)\n",
    "\n",
    "\n",
    "ax.set(xlim=(250, 3500))\n",
    "ax.set_title(\"Reads spread 20171103_FAH15473/barcode02\", fontsize=15)\n",
    "ax.set_xlabel(\"Length of read\", fontsize=13)\n",
    "ax.set_ylabel(\"Number of reads\", fontsize=13)\n",
    "\n",
    "plt.show()"
   ]
  },
  {
   "cell_type": "code",
   "execution_count": null,
   "metadata": {},
   "outputs": [],
   "source": [
    "frDNA = fastq_dict.copy()\n",
    "for key in fastq_dict:\n",
    "    if len(fastq_dict[key].seq) not in range(2700, 3200):\n",
    "        del frDNA[key]\n",
    "print(\"The number of reads between 2700 and 3200 bp in length is\", len(frDNA))\n",
    "EF1a = fastq_dict.copy()\n",
    "for key in fastq_dict:\n",
    "    if len(fastq_dict[key].seq) not in range(900, 1400):\n",
    "        del EF1a[key]\n",
    "print(\"The number of reads between 900 and 1400 bp in length is\", len(EF1a))"
   ]
  },
  {
   "cell_type": "code",
   "execution_count": null,
   "metadata": {},
   "outputs": [],
   "source": [
    "# Write the reads defined between the frDNA cutoff into a new fasta file\n",
    "SeqIO.write(frDNA.values(), \"../../analysis/Python_Processing/20171103_FAH15473/barcode02/barcode02_frDNA_clipped.fastq\", \"fastq\")"
   ]
  },
  {
   "cell_type": "code",
   "execution_count": null,
   "metadata": {},
   "outputs": [],
   "source": [
    "# Write the reads defined between the EF1a cutoff into a new fasta file\n",
    "SeqIO.write(EF1a.values(), \"../../analysis/Python_Processing/20171103_FAH15473/barcode02/barcode02_EF1a_clipped.fastq\", \"fastq\")"
   ]
  },
  {
   "cell_type": "code",
   "execution_count": null,
   "metadata": {},
   "outputs": [],
   "source": [
    "frDNA_extract={k: frDNA[k] for k in list(frDNA.keys())[:500]}\n",
    "EF1a_extract={k: EF1a[k] for k in list(EF1a.keys())[:500]}"
   ]
  },
  {
   "cell_type": "code",
   "execution_count": null,
   "metadata": {},
   "outputs": [],
   "source": [
    "for key in frDNA_extract:\n",
    "    frDNA_extract[key].annotations = 'frDNA'\n",
    "for key in EF1a_extract:\n",
    "    EF1a_extract[key].annotations = 'EF1a'"
   ]
  },
  {
   "cell_type": "code",
   "execution_count": null,
   "metadata": {},
   "outputs": [],
   "source": [
    "combined_extract = {}\n",
    "combined_extract.update(frDNA_extract)\n",
    "combined_extract.update(EF1a_extract)\n",
    "print(len(frDNA_extract))\n",
    "print(len(EF1a_extract))\n",
    "print(len(combined_extract))"
   ]
  },
  {
   "cell_type": "code",
   "execution_count": null,
   "metadata": {},
   "outputs": [],
   "source": [
    "SeqIO.write(frDNA_extract.values(), \"../../analysis/Python_Processing/20171103_FAH15473/barcode02/barcode02_frDNA_extract_test.fastq\", \"fastq\")\n",
    "SeqIO.write(EF1a_extract.values(), \"../../analysis/Python_Processing/20171103_FAH15473/barcode02/barcode02_EF1a_extract_test.fastq\", \"fastq\")\n",
    "SeqIO.write(combined_extract.values(), \"../../analysis/Python_Processing/20171103_FAH15473/barcode02/barcode02_combined_extract_test.fastq\", \"fastq\")"
   ]
  },
  {
   "cell_type": "code",
   "execution_count": null,
   "metadata": {},
   "outputs": [],
   "source": [
    "frDNA_paf = pd.read_csv(\"../../analysis/Python_Processing/20171103_FAH15473/barcode02/frDNA_clipped_test.paf\", sep='\\t', header=None, engine='python')\n",
    "EF1a_paf = pd.read_csv(\"../../analysis/Python_Processing/20171103_FAH15473/barcode02/EF1a_clipped_test.paf\", sep='\\t', header=None, engine='python')\n",
    "combined_paf = pd.read_csv(\"../../analysis/Python_Processing/20171103_FAH15473/barcode02/combined_test.paf\", sep='\\t', header=None, engine='python')"
   ]
  },
  {
   "cell_type": "code",
   "execution_count": null,
   "metadata": {},
   "outputs": [],
   "source": [
    "frDNA_paf.head()"
   ]
  },
  {
   "cell_type": "code",
   "execution_count": null,
   "metadata": {},
   "outputs": [],
   "source": [
    "combined_paf.head()"
   ]
  },
  {
   "cell_type": "code",
   "execution_count": 14,
   "metadata": {},
   "outputs": [
    {
     "name": "stdout",
     "output_type": "stream",
     "text": [
      "min len of match for frDNA is 2700\n",
      "min len of match for EF1a is 900\n",
      "min len of match for combined is 284\n"
     ]
    }
   ],
   "source": [
    "print(\"min len of match for frDNA is\", frDNA_paf[1].min())\n",
    "print(\"min len of match for EF1a is\", EF1a_paf[1].min())\n",
    "print(\"min len of match for combined is\", combined_paf[1].min())"
   ]
  },
  {
   "cell_type": "code",
   "execution_count": 15,
   "metadata": {},
   "outputs": [
    {
     "name": "stdout",
     "output_type": "stream",
     "text": [
      "num matches with unique ids for frDNA is 123026\n",
      "num matches with unique ids for EF1a is 2124\n",
      "num matches with unique ids for combined is 143363\n"
     ]
    }
   ],
   "source": [
    "print('num matches with unique ids for frDNA is', len(frDNA_paf[0].unique()))\n",
    "print('num matches with unique ids for EF1a is', len(EF1a_paf[0].unique()))\n",
    "print('num matches with unique ids for combined is', len(combined_paf[0].unique()))"
   ]
  },
  {
   "cell_type": "markdown",
   "metadata": {},
   "source": [
    "Compare above (using minimap2) with BLAST approach\n",
    "    - BLAST may be too slow on a larger dataset\n",
    "\n",
    "\n",
    "Check with other alignment programs eg. lastz, BLAT (check for others)\n",
    "\n"
   ]
  },
  {
   "cell_type": "markdown",
   "metadata": {},
   "source": [
    "# Testing of full size-clipped files for alignment via minimap2\n",
    " - For each of the frDNA_clipped and EF1a_clipped files as created above \n",
    "     - Look for the number of unique ids in the resultant file\n",
    "     - Determine the percentage of reads in this range that match homology given total number of reads in the clipped.fastq file"
   ]
  },
  {
   "cell_type": "code",
   "execution_count": 16,
   "metadata": {},
   "outputs": [],
   "source": [
    "frDNA_clipped_paf = pd.read_csv(\"../../analysis/Python_Processing/20171103_FAH15473/barcode02/frDNA_clipped_test.paf\", sep='\\t', header=None, engine='python')"
   ]
  },
  {
   "cell_type": "code",
   "execution_count": 17,
   "metadata": {},
   "outputs": [],
   "source": [
    "EF1a_clipped_paf = pd.read_csv(\"../../analysis/Python_Processing/20171103_FAH15473/barcode02/EF1a_clipped_test.paf\", sep='\\t', header=None)"
   ]
  },
  {
   "cell_type": "code",
   "execution_count": 18,
   "metadata": {},
   "outputs": [
    {
     "name": "stdout",
     "output_type": "stream",
     "text": [
      "Total number of matches found for frDNA is 123026\n",
      "Percentage of matches in region = 73.644%\n"
     ]
    }
   ],
   "source": [
    "print('Total number of matches found for frDNA is', len(frDNA_clipped_paf[0].unique()))\n",
    "print('Percentage of matches in region =', \"{:.3%}\".format((len(frDNA_clipped_paf[0].unique())/167054)))"
   ]
  },
  {
   "cell_type": "code",
   "execution_count": 19,
   "metadata": {},
   "outputs": [
    {
     "name": "stdout",
     "output_type": "stream",
     "text": [
      "Total number of matches found for EF1a is 2124\n",
      "False positive percentage = 1.102%\n"
     ]
    }
   ],
   "source": [
    "print('Total number of matches found for EF1a is', len(EF1a_clipped_paf[0].unique()))\n",
    "print('False positive percentage =', \"{:.3%}\".format((len(EF1a_clipped_paf[0].unique())/192712)))"
   ]
  },
  {
   "cell_type": "code",
   "execution_count": 20,
   "metadata": {},
   "outputs": [
    {
     "name": "stdout",
     "output_type": "stream",
     "text": [
      "Total number of matches found for the total of reads is 143363\n",
      "Percentage of matches overall = 34.702%\n"
     ]
    }
   ],
   "source": [
    "print('Total number of matches found for the total of reads is', len(combined_paf[0].unique()))\n",
    "print('Percentage of matches overall =', \"{:.3%}\".format((len(combined_paf[0].unique())/413127)))"
   ]
  },
  {
   "cell_type": "markdown",
   "metadata": {},
   "source": [
    "~~Plot distribution of matching reads as above~~\n",
    "\n",
    "~~Repeat minimap2 for above to see if fluctuations~~\n",
    "\n",
    "Explore non-mapping 25%\n",
    "\n",
    "Scaling - plots saved out, file for statistics (loop over later)"
   ]
  },
  {
   "cell_type": "code",
   "execution_count": 21,
   "metadata": {},
   "outputs": [],
   "source": [
    "# combined_ids = []\n",
    "# for key in combined_paf[0].unique():\n",
    "#     combined_ids.append(key)\n",
    "combined_dict = SeqIO.to_dict(SeqIO.parse(\"../../analysis/Concatenated/20171103_FAH15473/barcode02/merged.fastq\", \"fastq\"))\n",
    "comb_dict = {}\n",
    "for key in combined_paf[0].unique():\n",
    "    comb_dict[key] = combined_dict[key]"
   ]
  },
  {
   "cell_type": "code",
   "execution_count": 22,
   "metadata": {},
   "outputs": [
    {
     "data": {
      "image/png": "[encoded data removed]",
      "text/plain": [
       "<Figure size 432x288 with 1 Axes>"
      ]
     },
     "metadata": {
      "needs_background": "light"
     },
     "output_type": "display_data"
    },
    {
     "data": {
      "image/png": "[encoded data removed]",
      "text/plain": [
       "<Figure size 432x288 with 1 Axes>"
      ]
     },
     "metadata": {
      "needs_background": "light"
     },
     "output_type": "display_data"
    },
    {
     "data": {
      "text/html": [
       "<div>\n",
       "<style scoped>\n",
       "    .dataframe tbody tr th:only-of-type {\n",
       "        vertical-align: middle;\n",
       "    }\n",
       "\n",
       "    .dataframe tbody tr th {\n",
       "        vertical-align: top;\n",
       "    }\n",
       "\n",
       "    .dataframe thead th {\n",
       "        text-align: right;\n",
       "    }\n",
       "</style>\n",
       "<table border=\"1\" class=\"dataframe\">\n",
       "  <thead>\n",
       "    <tr style=\"text-align: right;\">\n",
       "      <th></th>\n",
       "      <th>number of frDNA reads</th>\n",
       "      <th>minimum read length</th>\n",
       "      <th>maximum read length</th>\n",
       "      <th>mean read length</th>\n",
       "      <th>median read length</th>\n",
       "    </tr>\n",
       "  </thead>\n",
       "  <tbody>\n",
       "    <tr>\n",
       "      <td>20171103_FAH15473/barcode02</td>\n",
       "      <td>143363</td>\n",
       "      <td>284</td>\n",
       "      <td>35613</td>\n",
       "      <td>2780</td>\n",
       "      <td>2876</td>\n",
       "    </tr>\n",
       "  </tbody>\n",
       "</table>\n",
       "</div>"
      ],
      "text/plain": [
       "                             number of frDNA reads  minimum read length  \\\n",
       "20171103_FAH15473/barcode02                 143363                  284   \n",
       "\n",
       "                             maximum read length mean read length  \\\n",
       "20171103_FAH15473/barcode02                35613             2780   \n",
       "\n",
       "                            median read length  \n",
       "20171103_FAH15473/barcode02               2876  "
      ]
     },
     "metadata": {},
     "output_type": "display_data"
    }
   ],
   "source": [
    "lengths = []\n",
    "comb_keys = []\n",
    "for key in comb_dict:\n",
    "    lengths.append(len(comb_dict[key].seq))\n",
    "    comb_keys.append(key)\n",
    "\n",
    "stats_dict = {'number of frDNA reads':len(lengths),'minimum read length':min(lengths),'maximum read length':max(lengths),'mean read length':\"{:.0f}\".format(np.mean(lengths)),'median read length':\"{:.0f}\".format(np.median(lengths))}\n",
    "stats = pd.DataFrame(stats_dict, index=['20171103_FAH15473/barcode02'])\n",
    "        \n",
    "              \n",
    "ax = sns.distplot(lengths, color=\"k\", kde=False, bins=5000)\n",
    "ax.set(xlim=(250, 3500))\n",
    "ax.set_title(\"frDNA reads for 20171103_FAH15473/barcode02\", fontsize=15)\n",
    "ax.set_xlabel(\"Length of read\", fontsize=13)\n",
    "ax.set_ylabel(\"Number of reads\", fontsize=13)\n",
    "plt.show()\n",
    "\n",
    "\n",
    "ax = sns.distplot(lengths, color=\"k\", kde=False, bins=5000)\n",
    "ax.set(xlim=(2400, 3500))\n",
    "ax.set_title(\"frDNA reads for 20171103_FAH15473/barcode02\", fontsize=15)\n",
    "ax.set_xlabel(\"Length of read\", fontsize=13)\n",
    "ax.set_ylabel(\"Number of reads\", fontsize=13)\n",
    "plt.show()\n",
    "\n",
    "\n",
    "display(stats)"
   ]
  },
  {
   "cell_type": "code",
   "execution_count": 23,
   "metadata": {},
   "outputs": [
    {
     "name": "stdout",
     "output_type": "stream",
     "text": [
      "167054\n"
     ]
    }
   ],
   "source": [
    "fr_dict = SeqIO.to_dict(SeqIO.parse(\"../../analysis/Python_Processing/20171103_FAH15473/barcode02/barcode02_frDNA_clipped.fastq\", 'fastq'))\n",
    "print(len(fr_dict))"
   ]
  },
  {
   "cell_type": "code",
   "execution_count": 27,
   "metadata": {},
   "outputs": [
    {
     "name": "stdout",
     "output_type": "stream",
     "text": [
      "44028\n"
     ]
    }
   ],
   "source": [
    "non_dict = {}\n",
    "for key in fr_dict:\n",
    "    if key not in frDNA_clipped_paf[0].unique():\n",
    "        non_dict[key] = fr_dict[key]\n",
    "print(len(non_dict))"
   ]
  },
  {
   "cell_type": "code",
   "execution_count": 28,
   "metadata": {},
   "outputs": [
    {
     "data": {
      "image/png": "[encoded data removed]",
      "text/plain": [
       "<Figure size 432x288 with 1 Axes>"
      ]
     },
     "metadata": {
      "needs_background": "light"
     },
     "output_type": "display_data"
    },
    {
     "data": {
      "text/html": [
       "<div>\n",
       "<style scoped>\n",
       "    .dataframe tbody tr th:only-of-type {\n",
       "        vertical-align: middle;\n",
       "    }\n",
       "\n",
       "    .dataframe tbody tr th {\n",
       "        vertical-align: top;\n",
       "    }\n",
       "\n",
       "    .dataframe thead th {\n",
       "        text-align: right;\n",
       "    }\n",
       "</style>\n",
       "<table border=\"1\" class=\"dataframe\">\n",
       "  <thead>\n",
       "    <tr style=\"text-align: right;\">\n",
       "      <th></th>\n",
       "      <th>number of reads</th>\n",
       "      <th>minimum read length</th>\n",
       "      <th>maximum read length</th>\n",
       "      <th>mean read length</th>\n",
       "      <th>median read length</th>\n",
       "    </tr>\n",
       "  </thead>\n",
       "  <tbody>\n",
       "    <tr>\n",
       "      <td>20171103_FAH15473/barcode02</td>\n",
       "      <td>44028</td>\n",
       "      <td>2700</td>\n",
       "      <td>3199</td>\n",
       "      <td>2919</td>\n",
       "      <td>2918</td>\n",
       "    </tr>\n",
       "  </tbody>\n",
       "</table>\n",
       "</div>"
      ],
      "text/plain": [
       "                             number of reads  minimum read length  \\\n",
       "20171103_FAH15473/barcode02            44028                 2700   \n",
       "\n",
       "                             maximum read length mean read length  \\\n",
       "20171103_FAH15473/barcode02                 3199             2919   \n",
       "\n",
       "                            median read length  \n",
       "20171103_FAH15473/barcode02               2918  "
      ]
     },
     "metadata": {},
     "output_type": "display_data"
    }
   ],
   "source": [
    "lengths = []\n",
    "non_keys = []\n",
    "for key in non_dict:\n",
    "    lengths.append(len(non_dict[key].seq))\n",
    "    non_keys.append(key)\n",
    "\n",
    "non_dict_stats = {'number of reads':len(lengths),'minimum read length':min(lengths),'maximum read length':max(lengths),'mean read length':\"{:.0f}\".format(np.mean(lengths)),'median read length':\"{:.0f}\".format(np.median(lengths))}\n",
    "stats = pd.DataFrame(non_dict_stats, index=['20171103_FAH15473/barcode02'])\n",
    "        \n",
    "              \n",
    "ax = sns.distplot(lengths, color=\"k\", kde=False)\n",
    "# ax.set(xlim=(250, 3500))\n",
    "ax.set_title(\"non-frDNA reads for 20171103_FAH15473/barcode02\", fontsize=15)\n",
    "ax.set_xlabel(\"Length of read\", fontsize=13)\n",
    "ax.set_ylabel(\"Number of reads\", fontsize=13)\n",
    "plt.show()\n",
    "display(stats)"
   ]
  },
  {
   "cell_type": "code",
   "execution_count": null,
   "metadata": {},
   "outputs": [],
   "source": []
  },
  {
   "cell_type": "code",
   "execution_count": null,
   "metadata": {},
   "outputs": [],
   "source": []
  },
  {
   "cell_type": "code",
   "execution_count": null,
   "metadata": {},
   "outputs": [],
   "source": []
  },
  {
   "cell_type": "code",
   "execution_count": null,
   "metadata": {},
   "outputs": [],
   "source": []
  },
  {
   "cell_type": "code",
   "execution_count": 47,
   "metadata": {},
   "outputs": [
    {
     "name": "stdout",
     "output_type": "stream",
     "text": [
      "Overwriting ../summary_statistics.py\n"
     ]
    }
   ],
   "source": [
    "%%writefile ../summary_statistics.py\n",
    "\n",
    "\"\"\"\n",
    "The goal of this program is to examine the distribution of reads within\n",
    "each file, and for the files generated after homology analysis.\n",
    "The program will generate summary statistics for the result of the homology\n",
    "analysis and save figures illustrating the read distribution for the\n",
    "frDNA reads\n",
    "\"\"\"\n",
    "\n",
    "import Bio\n",
    "from Bio import SeqIO\n",
    "from Bio.Seq import Seq\n",
    "from Bio.SeqRecord import SeqRecord as SR\n",
    "from Bio.Blast import NCBIXML\n",
    "import numpy as np\n",
    "import pandas as pd\n",
    "from pandas import DataFrame as df\n",
    "import seaborn as sns\n",
    "import matplotlib.pyplot as plt\n",
    "import argparse\n",
    "\n",
    "\n",
    "WHITE='\\033[1;37m'\n",
    "BLUE='\\033[0;34m'\n",
    "RED='\\033[0;31m'\n",
    "NC='\\033[0m'\n",
    "GREEN='\\033[0;32m'\n",
    "\n",
    "parser = argparse.ArgumentParser(description=\"\"\"\n",
    "The goal of this program is to examine the distribution of reads within\n",
    "each file, and for the files generated after homology analysis.\n",
    "The program will generate summary statistics for the result of the homology\n",
    "analysis and save figures illustrating the read distribution for the\n",
    "frDNA reads\n",
    "\"\"\")\n",
    "group = parser.add_mutually_exclusive_group()\n",
    "group.add_argument(\"--verbose\", \"-v\", \"--v\", action=\"store_true\")\n",
    "group.add_argument(\"--quiet\", \"-q\", \"--q\", action=\"store_true\")\n",
    "parser.add_argument(\"full_file\", help=\"The full, unfiltered file containing all reads for this barcode\")\n",
    "parser.add_argument(\"input_folder\", help=\"The destination folder within which the .paf files are generated\")\n",
    "parser.add_argument(\"output_folder\", help=\"The destination folder for any outputs from this script - including summary statistics file and plots\")\n",
    "args = parser.parse_args()\n",
    "\n",
    "output_folder = args.output_folder.rsplit('/', 1)[-2]\n",
    "input_folder = args.input_folder.rsplit('/', 1)[-2]\n",
    "if args.verbose:\n",
    "    print('\\033[0;31m' + \"Input folder is \" + input_folder + '\\033[1;37m')\n",
    "    print('\\033[0;31m' + \"Output folder is \" + output_folder + '\\033[1;37m')\n",
    "    print('\\033[0;34m' + \"Loading \" + args.full_file + '\\033[1;37m')\n",
    "\n",
    "# Load the full file containing all reads for this barcode\n",
    "full_file_dict = SeqIO.to_dict(SeqIO.parse(args.full_file, \"fastq\"))\n",
    "\n",
    "if args.verbose:\n",
    "    print('\\033[0;34m' + \"Loaded \" + args.full_file + '\\033[1;37m')\n",
    "\n",
    "# Extract the information about the lengths of the sequence for each read in this barcode\n",
    "full_lengths = []\n",
    "for key in full_file_dict:\n",
    "    full_lengths.append(len(full_file_dict[key].seq))\n",
    "full_lengths_len = len(full_file_dict)\n",
    "\n",
    "# Plot the spread of read lengths for this barcode\n",
    "    # Expect to see two peaks - one for EF1a and one for frDNA\n",
    "ax = sns.distplot(full_lengths, color=\"k\", kde=False, bins=5000)\n",
    "ax.set(xlim=(250, 3500))\n",
    "ax.set_title(\"Read spread for %s\" % '/'.join(args.full_file.rsplit('/')[-3:-1]), fontsize=15)\n",
    "ax.set_xlabel(\"Length of read\", fontsize=13)\n",
    "ax.set_ylabel(\"Number of reads\", fontsize=13)\n",
    "figure1 = ax.get_figure()\n",
    "# Save this figure out\n",
    "figure1.savefig('/'.join([output_folder, 'full_read_spread.png']))\n",
    "if args.verbose:\n",
    "    print('\\033[0;32m' + \"Full spread image file saved to \" + '/'.join([output_folder, 'full_read_spread.png']) + '\\033[1;37m')\n",
    "    print('\\033[0;34m' + \"Loading \" + input_folder+\"/combined_test.paf\" + '\\033[1;37m')\n",
    "\n",
    "# Import the PAF file resulting from the minimap2 homology filtering\n",
    "full_paf = pd.read_csv(input_folder+\"/combined_test.paf\", sep='\\t', header=None, engine='python')\n",
    "if args.verbose:\n",
    "    print('\\033[0;34m' + \"Loaded \" + input_folder+\"/combined_test.paf\" + '\\033[1;37m')\n",
    "# Determine all the read ids present within the homology-filtered dataset\n",
    "# Then, create a dictionary extracting all the information from the full read file, but ONLY for reads present within the homology-filtered data\n",
    "full_dict = {}\n",
    "for key in full_paf[0].unique():\n",
    "    full_dict[key] = full_file_dict[key]\n",
    "\n",
    "# For each key in the homology-filtered dictionary, extract the sequence length and key\n",
    "full_paf_lengths = []\n",
    "full_keys = []\n",
    "for key in full_dict:\n",
    "    full_paf_lengths.append(len(full_dict[key].seq))\n",
    "    full_keys.append(key)\n",
    "\n",
    "    \n",
    "    \n",
    "# Extract the qscores\n",
    "if args.verbose:\n",
    "    print('\\033[0;34m' + \"Loading \" + 'Basecalled/'+'/'.join(args.full_file.rsplit('/')[-3:-1])+'/sequencing_summary.txt' + '\\033[1;37m')\n",
    "summ_stats_csv = pd.read_csv('Basecalled/'+'/'.join(args.full_file.rsplit('/')[-3:-1])+'/sequencing_summary.txt', sep='\\t', header=None, names=['filename', 'read_id', 'run_id', 'batch_id', 'channel', 'mux', 'start_time', 'duration', 'num_events', 'passes_filtering', 'template_start', 'num_events_template', 'template_duration', 'sequence_length_template', 'mean_qscore_template', 'strand_score_template', 'median_template', 'mad_template'], engine='python')\n",
    "summ_stats_csv = pd.DataFrame(summ_stats_csv[1:])\n",
    "summary_list = []\n",
    "for column, row in summ_stats_csv.iterrows():\n",
    "    if row['read_id'] in full_keys:\n",
    "        summary_list.append([row['read_id'], row['mean_qscore_template']])\n",
    "summary_frame = pd.DataFrame(summary_list)\n",
    "if args.verbose:\n",
    "    print('\\033[0;34m' + \"Finished with \" + 'Basecalled/'+'/'.join(args.full_file.rsplit('/')[-3:-1])+'/sequencing_summary.txt' + '\\033[1;37m')\n",
    "    \n",
    "# Create a dictionary containing the statistics for the filtered dataset\n",
    "    # Total no. frDNA reads, Min. read length, Max. read length, Mean read length, Median read length, Quality score\n",
    "stats_dict = {'number of frDNA reads':len(full_paf_lengths),'minimum read length':min(full_paf_lengths),'maximum read length':max(full_paf_lengths),'mean read length':\"{:.0f}\".format(np.mean(full_paf_lengths)),'median read length':\"{:.0f}\".format(np.median(full_paf_lengths)), 'min_qscore':\"{:.2f}\".format(min(summary_frame[1].astype(float))), 'max_qscore':\"{:.2f}\".format(max(summary_frame[1].astype(float))), 'mean_qscore':\"{:.2f}\".format(np.mean(summary_frame[1].astype(float))), 'median_qscore':\"{:.2f}\".format(np.median(summary_frame[1].astype(float)))}\n",
    "stats = pd.DataFrame(stats_dict, index=['%s' % '/'.join(args.full_file.rsplit('/')[-3:-1])])\n",
    "print(stats.head())     \n",
    "              \n",
    "ax = sns.distplot(full_paf_lengths, color=\"k\", kde=False, bins=5000)\n",
    "ax.set(xlim=(250, 3500))\n",
    "ax.set_title(\"frDNA reads for %s\" % '/'.join(args.full_file.rsplit('/')[-3:-1]), fontsize=15)\n",
    "ax.set_xlabel(\"Length of read\", fontsize=13)\n",
    "ax.set_ylabel(\"Number of reads\", fontsize=13)\n",
    "figure2 = ax.get_figure()\n",
    "figure2.savefig('/'.join([output_folder, 'frDNA_spread_full.png']))\n",
    "if args.verbose:\n",
    "    print('\\033[0;32m' + \"frDNA spread image file saved to \" + '/'.join([output_folder, 'frDNA_spread_full.png']) + '\\033[1;37m')\n",
    "\n",
    "ax = sns.distplot(full_paf_lengths, color=\"k\", kde=False, bins=5000)\n",
    "ax.set(xlim=(2400, 3500))\n",
    "ax.set_title(\"frDNA reads for %s\" % '/'.join(args.full_file.rsplit('/')[-3:-1]), fontsize=15)\n",
    "ax.set_xlabel(\"Length of read\", fontsize=13)\n",
    "ax.set_ylabel(\"Number of reads\", fontsize=13)\n",
    "figure3 = ax.get_figure()\n",
    "figure3.savefig('/'.join([output_folder, 'frDNA_spread_limited.png']))\n",
    "if args.verbose:\n",
    "    print('\\033[0;32m' + \"Zoomed-in frDNA spread image file saved to \" + '/'.join([output_folder, 'frDNA_spread_limited.png']) + '\\033[1;37m')\n",
    "\n",
    "stats.to_csv('/'.join([output_folder, 'frDNA_statistics.csv']), index=False)\n",
    "if args.verbose:\n",
    "    print('\\033[0;32m' + \"Summary statistics file saved to \" + '/'.join([output_folder, 'frDNA_statistics.csv']) + '\\033[1;37m')"
   ]
  },
  {
   "cell_type": "code",
   "execution_count": null,
   "metadata": {},
   "outputs": [],
   "source": []
  }
 ],
 "metadata": {
  "kernelspec": {
   "display_name": "Python 3",
   "language": "python",
   "name": "python3"
  },
  "language_info": {
   "codemirror_mode": {
    "name": "ipython",
    "version": 3
   },
   "file_extension": ".py",
   "mimetype": "text/x-python",
   "name": "python",
   "nbconvert_exporter": "python",
   "pygments_lexer": "ipython3",
   "version": "3.7.3"
  }
 },
 "nbformat": 4,
 "nbformat_minor": 2
}
