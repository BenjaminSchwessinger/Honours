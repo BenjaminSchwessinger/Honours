{
 "cells": [
  {
   "cell_type": "code",
   "execution_count": 1,
   "metadata": {},
   "outputs": [],
   "source": [
    "import pandas as pd\n",
    "from Bio import SeqIO\n",
    "import numpy as np\n",
    "import os\n",
    "import random"
   ]
  },
  {
   "cell_type": "markdown",
   "metadata": {},
   "source": [
    "Ideas of the program would be:\n",
    "\n",
    "- want to read in reference_dataframe.csv\n",
    "\n",
    "- taxonomic level e.g. genus=Candida -> species level comparision\n",
    "\n",
    "- path to location of data. Root of analysis/....."
   ]
  },
  {
   "cell_type": "markdown",
   "metadata": {},
   "source": [
    "With arg parse\n",
    "\n",
    "ref_df_fn = args.ref_df_fn  \n",
    "data_root = args.data_root  \n",
    "tax_rank = args.tax_rank #use with flag e.g. -r  \n",
    "name = args.name #name of the rank to select from, use flag e.g. -n  "
   ]
  },
  {
   "cell_type": "code",
   "execution_count": 2,
   "metadata": {},
   "outputs": [],
   "source": [
    "ref_df_fn = '../../analysis/Stats/reference_dataframe.csv'\n",
    "ref_df_fn = os.path.abspath(ref_df_fn)"
   ]
  },
  {
   "cell_type": "code",
   "execution_count": 3,
   "metadata": {},
   "outputs": [],
   "source": [
    "try:\n",
    "    os.path.exists(ref_df_fn)\n",
    "except:\n",
    "    print('Cannot find %s' % ref_df_fn)"
   ]
  },
  {
   "cell_type": "code",
   "execution_count": null,
   "metadata": {},
   "outputs": [],
   "source": [
    "#to be able to handle anything from command lien\n",
    "tax_rank = 'family'\n",
    "name = 'Saccharomycetaceae'"
   ]
  },
  {
   "cell_type": "code",
   "execution_count": null,
   "metadata": {},
   "outputs": [],
   "source": [
    "n_reads = 15000"
   ]
  },
  {
   "cell_type": "code",
   "execution_count": null,
   "metadata": {},
   "outputs": [],
   "source": [
    "name = name.lower()\n",
    "tax_rank = tax_rank.lower()"
   ]
  },
  {
   "cell_type": "code",
   "execution_count": 4,
   "metadata": {},
   "outputs": [],
   "source": [
    "ref_df = pd.read_csv(ref_df_fn, index_col=None)"
   ]
  },
  {
   "cell_type": "code",
   "execution_count": null,
   "metadata": {},
   "outputs": [],
   "source": [
    "ref_df[ref_df[\"# reads after length filtering\"] < n_reads].shape[0]"
   ]
  },
  {
   "cell_type": "code",
   "execution_count": null,
   "metadata": {},
   "outputs": [],
   "source": [
    "try:\n",
    "    if ref_df[ref_df[\"# reads after length filtering\"] \\\n",
    "              < n_reads].shape[0] >0 :\n",
    "        print(\"These species need more reads.\")\n",
    "        print(ref_df[ref_df[\"# reads after length filtering\"] \\\n",
    "              < n_reads])\n",
    "        #exit()\n",
    "except:\n",
    "    print('Check %s to have the wanted column names' % ref_df_fn)"
   ]
  },
  {
   "cell_type": "code",
   "execution_count": null,
   "metadata": {},
   "outputs": [],
   "source": [
    "#not neccessary pull from command line\n",
    "# name = \"Trichocomaceae\"\n",
    "data_root = '../../'"
   ]
  },
  {
   "cell_type": "code",
   "execution_count": null,
   "metadata": {},
   "outputs": [],
   "source": [
    "indecies = ref_df[ref_df[tax_rank] == name].index"
   ]
  },
  {
   "cell_type": "code",
   "execution_count": null,
   "metadata": {},
   "outputs": [],
   "source": [
    "indecies"
   ]
  },
  {
   "cell_type": "code",
   "execution_count": null,
   "metadata": {},
   "outputs": [],
   "source": [
    "SeqIO_dicts = {}\n",
    "for index in indecies:\n",
    "    fasta_path = os.path.join(data_root, ref_df.loc[index, 'path to length filtering'])\n",
    "    print(fasta_path)\n",
    "    try:\n",
    "        SeqIO_dicts[index] = SeqIO.to_dict(SeqIO.parse(fasta_path, 'fasta'))\n",
    "    except:\n",
    "        print('Check location of fasta files.')"
   ]
  },
  {
   "cell_type": "code",
   "execution_count": null,
   "metadata": {},
   "outputs": [],
   "source": [
    "def max_seq_len(SeqIO_dict):\n",
    "    \"\"\"\n",
    "    Fucntion takes a SeqIO_dict and returns the lenghts of the\n",
    "    longest sequence.\n",
    "    \"\"\"\n",
    "    total_lens = []\n",
    "    for key in SeqIO_dict.keys():\n",
    "        total_lens.append(len(SeqIO_dict[key].seq))\n",
    "    return max(total_lens)"
   ]
  },
  {
   "cell_type": "code",
   "execution_count": null,
   "metadata": {},
   "outputs": [],
   "source": [
    "def numberfi(SeqIO_dict, seq_len, nsubsample):\n",
    "    \"\"\"\n",
    "    Take SeqIO_dict and return SeqIO_dict were bases have been replaced\n",
    "    with numbers\n",
    "    ACGT- to 01234\n",
    "    Take the seq_len each sequence should have.\n",
    "    \"\"\"\n",
    "    num_dict = {}\n",
    "    \n",
    "    keys = list(SeqIO_dict.keys())\n",
    "    randkeys = random.sample(keys, k= nsubsample)\n",
    "    \n",
    "    \n",
    "    for key in randkeys:\n",
    "        seq = str(SeqIO_dict[key].seq).replace(\"A\",'0 ')\\\n",
    "        .replace(\"C\",'1 ').replace(\"G\",'2 ').replace(\"T\",'3 ')\n",
    "        seq_new = seq + '4 '*(seq_len -int(len(seq)/2))\n",
    "        num_dict[key] = list(map(int, seq_new.split(' ')[:-1]))\n",
    "    return num_dict\n",
    "    "
   ]
  },
  {
   "cell_type": "code",
   "execution_count": null,
   "metadata": {},
   "outputs": [],
   "source": [
    "total_lens = []\n",
    "for key, value in SeqIO_dicts.items():\n",
    "    total_lens.append(max_seq_len(value))\n",
    "print(\"This is the maximum sequence length of all sampled sequences.\")\n",
    "print(total_lens)\n",
    "\n",
    "numSeqIO_dicts = {}\n",
    "max_len = max(total_lens)\n",
    "for key, value in SeqIO_dicts.items():\n",
    "    numSeqIO_dicts[key] = numberfi(value, max_len, s_reads)\n",
    "\n",
    "seq_list = []\n",
    "for index in indecies:\n",
    "    seq_list.append(np.array(list(numSeqIO_dicts[index].values())))\n",
    "seq_comb = np.concatenate(seq_list, axis = 0)"
   ]
  },
  {
   "cell_type": "code",
   "execution_count": null,
   "metadata": {},
   "outputs": [],
   "source": [
    "num_class = len(numSeqIO_dicts.keys())\n",
    "ids_comb = np.zeros( (n_reads*num_class,num_class) )\n",
    "for i in range(0, num_class):\n",
    "    ids_comb[i*n_reads:(i+1)*n_reads,i] = 1\n"
   ]
  },
  {
   "cell_type": "code",
   "execution_count": null,
   "metadata": {},
   "outputs": [],
   "source": [
    "num_class = 5\n",
    "ids_comb = np.zeros( (n_reads*num_class,num_class) )"
   ]
  },
  {
   "cell_type": "code",
   "execution_count": null,
   "metadata": {},
   "outputs": [],
   "source": [
    "for i in range(0, num_class):\n",
    "    ids_comb[i*n_reads:(i+1)*n_reads,i] = 1"
   ]
  },
  {
   "cell_type": "code",
   "execution_count": null,
   "metadata": {},
   "outputs": [],
   "source": [
    "ids_comb"
   ]
  },
  {
   "cell_type": "code",
   "execution_count": 5,
   "metadata": {},
   "outputs": [
    {
     "data": {
      "text/html": [
       "<div>\n",
       "<style scoped>\n",
       "    .dataframe tbody tr th:only-of-type {\n",
       "        vertical-align: middle;\n",
       "    }\n",
       "\n",
       "    .dataframe tbody tr th {\n",
       "        vertical-align: top;\n",
       "    }\n",
       "\n",
       "    .dataframe thead th {\n",
       "        text-align: right;\n",
       "    }\n",
       "</style>\n",
       "<table border=\"1\" class=\"dataframe\">\n",
       "  <thead>\n",
       "    <tr style=\"text-align: right;\">\n",
       "      <th></th>\n",
       "      <th>Unnamed: 0</th>\n",
       "      <th>species</th>\n",
       "      <th>genus</th>\n",
       "      <th>family</th>\n",
       "      <th>order</th>\n",
       "      <th>class</th>\n",
       "      <th>phylum</th>\n",
       "      <th>kingdom</th>\n",
       "      <th># raw reads</th>\n",
       "      <th># reads after homology filtering</th>\n",
       "      <th># reads after length filtering</th>\n",
       "      <th># reads for use</th>\n",
       "      <th>path to raw reads</th>\n",
       "      <th>path to homology filtering</th>\n",
       "      <th>path to length filtering</th>\n",
       "      <th>path for use</th>\n",
       "    </tr>\n",
       "  </thead>\n",
       "  <tbody>\n",
       "    <tr>\n",
       "      <td>0</td>\n",
       "      <td>20171103_FAH15473/barcode01</td>\n",
       "      <td>striiformis-tritici</td>\n",
       "      <td>puccinia</td>\n",
       "      <td>pucciniaceae</td>\n",
       "      <td>pucciniales</td>\n",
       "      <td>pucciniomycetes</td>\n",
       "      <td>basidiomycota</td>\n",
       "      <td>fungi</td>\n",
       "      <td>272465</td>\n",
       "      <td>122080</td>\n",
       "      <td>113337</td>\n",
       "      <td>113337.0</td>\n",
       "      <td>analysis/Concatenated/20171103_FAH15473/barcod...</td>\n",
       "      <td>analysis/Python_Processing/20171103_FAH15473/b...</td>\n",
       "      <td>analysis/Length_Filtered/20171103_FAH15473/bar...</td>\n",
       "      <td>analysis/Length_Filtered/20171103_FAH15473/bar...</td>\n",
       "    </tr>\n",
       "    <tr>\n",
       "      <td>1</td>\n",
       "      <td>20171103_FAH15473/barcode02</td>\n",
       "      <td>tritici</td>\n",
       "      <td>zymoseptoria</td>\n",
       "      <td>mycosphaerellaceae</td>\n",
       "      <td>capnodiales</td>\n",
       "      <td>dothideomycetes</td>\n",
       "      <td>ascomycota</td>\n",
       "      <td>fungi</td>\n",
       "      <td>413127</td>\n",
       "      <td>143363</td>\n",
       "      <td>133089</td>\n",
       "      <td>133089.0</td>\n",
       "      <td>analysis/Concatenated/20171103_FAH15473/barcod...</td>\n",
       "      <td>analysis/Python_Processing/20171103_FAH15473/b...</td>\n",
       "      <td>analysis/Length_Filtered/20171103_FAH15473/bar...</td>\n",
       "      <td>analysis/Length_Filtered/20171103_FAH15473/bar...</td>\n",
       "    </tr>\n",
       "    <tr>\n",
       "      <td>2</td>\n",
       "      <td>20171103_FAH15473/barcode03</td>\n",
       "      <td>tritici-repentis</td>\n",
       "      <td>pyrenophora</td>\n",
       "      <td>pleosporaceae</td>\n",
       "      <td>pleosporales</td>\n",
       "      <td>dothideomycetes</td>\n",
       "      <td>ascomycota</td>\n",
       "      <td>fungi</td>\n",
       "      <td>260896</td>\n",
       "      <td>97584</td>\n",
       "      <td>90015</td>\n",
       "      <td>90015.0</td>\n",
       "      <td>analysis/Concatenated/20171103_FAH15473/barcod...</td>\n",
       "      <td>analysis/Python_Processing/20171103_FAH15473/b...</td>\n",
       "      <td>analysis/Length_Filtered/20171103_FAH15473/bar...</td>\n",
       "      <td>analysis/Length_Filtered/20171103_FAH15473/bar...</td>\n",
       "    </tr>\n",
       "    <tr>\n",
       "      <td>3</td>\n",
       "      <td>20171103_FAH15473/barcode04</td>\n",
       "      <td>oxysporum</td>\n",
       "      <td>fusarium</td>\n",
       "      <td>nectriaceae</td>\n",
       "      <td>hypocreales</td>\n",
       "      <td>sordariomycetes</td>\n",
       "      <td>ascomycota</td>\n",
       "      <td>fungi</td>\n",
       "      <td>382450</td>\n",
       "      <td>131411</td>\n",
       "      <td>123742</td>\n",
       "      <td>123742.0</td>\n",
       "      <td>analysis/Concatenated/20171103_FAH15473/barcod...</td>\n",
       "      <td>analysis/Python_Processing/20171103_FAH15473/b...</td>\n",
       "      <td>analysis/Length_Filtered/20171103_FAH15473/bar...</td>\n",
       "      <td>analysis/Length_Filtered/20171103_FAH15473/bar...</td>\n",
       "    </tr>\n",
       "    <tr>\n",
       "      <td>4</td>\n",
       "      <td>20171103_FAH15473/barcode05</td>\n",
       "      <td>brumale</td>\n",
       "      <td>tuber</td>\n",
       "      <td>tuberaceae</td>\n",
       "      <td>pezizales</td>\n",
       "      <td>pezizomycetes</td>\n",
       "      <td>ascomycota</td>\n",
       "      <td>fungi</td>\n",
       "      <td>275035</td>\n",
       "      <td>80614</td>\n",
       "      <td>74232</td>\n",
       "      <td>74232.0</td>\n",
       "      <td>analysis/Concatenated/20171103_FAH15473/barcod...</td>\n",
       "      <td>analysis/Python_Processing/20171103_FAH15473/b...</td>\n",
       "      <td>analysis/Length_Filtered/20171103_FAH15473/bar...</td>\n",
       "      <td>analysis/Length_Filtered/20171103_FAH15473/bar...</td>\n",
       "    </tr>\n",
       "  </tbody>\n",
       "</table>\n",
       "</div>"
      ],
      "text/plain": [
       "                    Unnamed: 0              species         genus  \\\n",
       "0  20171103_FAH15473/barcode01  striiformis-tritici      puccinia   \n",
       "1  20171103_FAH15473/barcode02              tritici  zymoseptoria   \n",
       "2  20171103_FAH15473/barcode03     tritici-repentis   pyrenophora   \n",
       "3  20171103_FAH15473/barcode04            oxysporum      fusarium   \n",
       "4  20171103_FAH15473/barcode05              brumale         tuber   \n",
       "\n",
       "               family         order            class         phylum kingdom  \\\n",
       "0        pucciniaceae   pucciniales  pucciniomycetes  basidiomycota   fungi   \n",
       "1  mycosphaerellaceae   capnodiales  dothideomycetes     ascomycota   fungi   \n",
       "2       pleosporaceae  pleosporales  dothideomycetes     ascomycota   fungi   \n",
       "3         nectriaceae   hypocreales  sordariomycetes     ascomycota   fungi   \n",
       "4          tuberaceae     pezizales    pezizomycetes     ascomycota   fungi   \n",
       "\n",
       "   # raw reads  # reads after homology filtering  \\\n",
       "0       272465                            122080   \n",
       "1       413127                            143363   \n",
       "2       260896                             97584   \n",
       "3       382450                            131411   \n",
       "4       275035                             80614   \n",
       "\n",
       "   # reads after length filtering  # reads for use  \\\n",
       "0                          113337         113337.0   \n",
       "1                          133089         133089.0   \n",
       "2                           90015          90015.0   \n",
       "3                          123742         123742.0   \n",
       "4                           74232          74232.0   \n",
       "\n",
       "                                   path to raw reads  \\\n",
       "0  analysis/Concatenated/20171103_FAH15473/barcod...   \n",
       "1  analysis/Concatenated/20171103_FAH15473/barcod...   \n",
       "2  analysis/Concatenated/20171103_FAH15473/barcod...   \n",
       "3  analysis/Concatenated/20171103_FAH15473/barcod...   \n",
       "4  analysis/Concatenated/20171103_FAH15473/barcod...   \n",
       "\n",
       "                          path to homology filtering  \\\n",
       "0  analysis/Python_Processing/20171103_FAH15473/b...   \n",
       "1  analysis/Python_Processing/20171103_FAH15473/b...   \n",
       "2  analysis/Python_Processing/20171103_FAH15473/b...   \n",
       "3  analysis/Python_Processing/20171103_FAH15473/b...   \n",
       "4  analysis/Python_Processing/20171103_FAH15473/b...   \n",
       "\n",
       "                            path to length filtering  \\\n",
       "0  analysis/Length_Filtered/20171103_FAH15473/bar...   \n",
       "1  analysis/Length_Filtered/20171103_FAH15473/bar...   \n",
       "2  analysis/Length_Filtered/20171103_FAH15473/bar...   \n",
       "3  analysis/Length_Filtered/20171103_FAH15473/bar...   \n",
       "4  analysis/Length_Filtered/20171103_FAH15473/bar...   \n",
       "\n",
       "                                        path for use  \n",
       "0  analysis/Length_Filtered/20171103_FAH15473/bar...  \n",
       "1  analysis/Length_Filtered/20171103_FAH15473/bar...  \n",
       "2  analysis/Length_Filtered/20171103_FAH15473/bar...  \n",
       "3  analysis/Length_Filtered/20171103_FAH15473/bar...  \n",
       "4  analysis/Length_Filtered/20171103_FAH15473/bar...  "
      ]
     },
     "execution_count": 5,
     "metadata": {},
     "output_type": "execute_result"
    }
   ],
   "source": [
    "ref_df.head()"
   ]
  },
  {
   "cell_type": "code",
   "execution_count": 6,
   "metadata": {},
   "outputs": [
    {
     "name": "stdout",
     "output_type": "stream",
     "text": [
      "<class 'numpy.int64'>\n"
     ]
    }
   ],
   "source": [
    "print(type(ref_df.loc[0,'# reads after length filtering']))"
   ]
  },
  {
   "cell_type": "code",
   "execution_count": 7,
   "metadata": {},
   "outputs": [
    {
     "name": "stdout",
     "output_type": "stream",
     "text": [
      "<class 'numpy.float64'>\n"
     ]
    }
   ],
   "source": [
    "print(type(ref_df.loc[0,'# reads for use']))"
   ]
  },
  {
   "cell_type": "code",
   "execution_count": null,
   "metadata": {},
   "outputs": [],
   "source": []
  },
  {
   "cell_type": "code",
   "execution_count": null,
   "metadata": {},
   "outputs": [],
   "source": [
    "ref_df[tax_rank] == 'Candida'"
   ]
  },
  {
   "cell_type": "code",
   "execution_count": null,
   "metadata": {},
   "outputs": [],
   "source": [
    "ref_df.head()"
   ]
  },
  {
   "cell_type": "code",
   "execution_count": null,
   "metadata": {},
   "outputs": [],
   "source": [
    "location = (ref_df.columns.get_loc(tax_rank)-1)"
   ]
  },
  {
   "cell_type": "code",
   "execution_count": null,
   "metadata": {},
   "outputs": [],
   "source": [
    "classes = ref_df.iloc[indecies,location].unique()"
   ]
  },
  {
   "cell_type": "code",
   "execution_count": null,
   "metadata": {},
   "outputs": [],
   "source": [
    "count_dict = {}\n",
    "for item in classes:\n",
    "    count_dict[item] = sum(ref_df.iloc[:,location] == item)"
   ]
  },
  {
   "cell_type": "code",
   "execution_count": null,
   "metadata": {},
   "outputs": [],
   "source": [
    "classes"
   ]
  },
  {
   "cell_type": "code",
   "execution_count": null,
   "metadata": {},
   "outputs": [],
   "source": [
    "count_dict"
   ]
  },
  {
   "cell_type": "code",
   "execution_count": null,
   "metadata": {},
   "outputs": [],
   "source": [
    "for item in count_dict.keys():\n",
    "    print(n_reads/count_dict[item])"
   ]
  },
  {
   "cell_type": "code",
   "execution_count": null,
   "metadata": {},
   "outputs": [],
   "source": [
    "# define n_reads\n",
    "\n",
    "min_vals = []\n",
    "for key, value in count_dict.items():\n",
    "    if value == min(count_dict.values()):\n",
    "        min_vals.append(ref_df[ref_df.iloc[:,location] == item]['# reads after length filtering'].min())\n",
    "min(min_vals)"
   ]
  },
  {
   "cell_type": "code",
   "execution_count": null,
   "metadata": {},
   "outputs": [],
   "source": [
    "max_reads = 0\n",
    "for key, value in count_dict.items():\n",
    "    if value == max(count_dict.values()):\n",
    "        max_reads = value*n_reads"
   ]
  },
  {
   "cell_type": "code",
   "execution_count": null,
   "metadata": {},
   "outputs": [],
   "source": [
    "max_reads"
   ]
  },
  {
   "cell_type": "code",
   "execution_count": null,
   "metadata": {},
   "outputs": [],
   "source": [
    "min_vals = [44999]"
   ]
  },
  {
   "cell_type": "code",
   "execution_count": null,
   "metadata": {},
   "outputs": [],
   "source": [
    "# is max_reads < min_reads?\n",
    "# if yes, use max_reads to subsample as base value"
   ]
  },
  {
   "cell_type": "code",
   "execution_count": null,
   "metadata": {},
   "outputs": [],
   "source": [
    "if max_reads <= min(min_vals):\n",
    "    for key, value in count_dict.items():\n",
    "        s_reads = int(max_reads/value)\n",
    "        print(key, s_reads)\n",
    "else:\n",
    "    for key, value in count_dict.items():\n",
    "        s_reads = int(min(min_vals)/value)\n",
    "        print(key, s_reads)"
   ]
  },
  {
   "cell_type": "code",
   "execution_count": null,
   "metadata": {},
   "outputs": [],
   "source": [
    "location = (ref_df.columns.get_loc(tax_rank)-1)\n",
    "col_name = ref_df.columns[location]\n",
    "\n",
    "classes = ref_df.iloc[indecies,location].unique()\n",
    "\n",
    "count_dict = {}\n",
    "for item in classes:\n",
    "    count_dict[item] = sum(ref_df.iloc[:,location] == item)\n",
    "\n",
    "min_vals = []\n",
    "for key, value in count_dict.items():\n",
    "    if value == min(count_dict.values()):\n",
    "        min_vals.append(ref_df[ref_df.iloc[:,location] == item]['# reads after length filtering'].min())\n",
    "minimum_value = min(min_vals)\n",
    "\n",
    "max_reads = 0\n",
    "for key, value in count_dict.items():\n",
    "    if value == max(count_dict.values()):\n",
    "        max_reads = value*n_reads\n",
    "\n",
    "if max_reads <= minimum_value:\n",
    "    minimum_value = max_reads\n",
    "for key, n_class in count_dict.items():\n",
    "    s_reads = int(minimum_value/n_class)\n",
    "    if ref_df[ref_df.loc[:,col_name]==key]['# reads after length filtering'].min() < s_reads:\n",
    "        minimum_value = ref_df[ref_df.loc[:,col_name]==key]['# reads after length filtering'].min()/n_class\n",
    "        s_reads = int(minimum_value/n_class)\n",
    "    print(key, s_reads)\n",
    "    \n",
    "# parse s_reads into numberfy"
   ]
  },
  {
   "cell_type": "code",
   "execution_count": null,
   "metadata": {},
   "outputs": [],
   "source": []
  },
  {
   "cell_type": "code",
   "execution_count": null,
   "metadata": {},
   "outputs": [],
   "source": []
  },
  {
   "cell_type": "code",
   "execution_count": null,
   "metadata": {},
   "outputs": [],
   "source": [
    "tax_ranks = ref_df.columns[2:-6]\n",
    "print(tax_ranks)"
   ]
  },
  {
   "cell_type": "code",
   "execution_count": null,
   "metadata": {},
   "outputs": [],
   "source": [
    "for tax_rank in tax_ranks:\n",
    "    print(tax_rank + \"\\n\\n\")\n",
    "    for name in ref_df[tax_rank].unique():\n",
    "        total_class_reads = []\n",
    "        \n",
    "        print(\"\\n\\n\"+name)\n",
    "        indecies = ref_df[ref_df[tax_rank] == name].index\n",
    "        location = (ref_df.columns.get_loc(tax_rank)-1)\n",
    "        col_name = ref_df.columns[location]\n",
    "\n",
    "        classes = ref_df.iloc[indecies,location].unique()\n",
    "        print(classes)\n",
    "\n",
    "        count_dict = {}\n",
    "        for class_ in classes:\n",
    "            count_dict[class_] = sum(ref_df.iloc[indecies,location] == class_)\n",
    "        print(count_dict)\n",
    "\n",
    "        min_vals = []\n",
    "        for class_, n_class in count_dict.items():\n",
    "            if n_class == min(count_dict.values()):\n",
    "                min_vals.append(ref_df[ref_df.iloc[:,location] == class_]['# reads after length filtering'].min())\n",
    "        if min(min_vals) % 2 == 0:\n",
    "            minimum_value = min(min_vals)\n",
    "        else:\n",
    "            minimum_value = min(min_vals)-1\n",
    "        print(\"minimum_value =\", minimum_value)\n",
    "        \n",
    "        if len(count_dict) > 1:\n",
    "            max_reads = 0\n",
    "            for key, value in count_dict.items():\n",
    "                if value == max(count_dict.values()):\n",
    "                    max_reads = value*n_reads\n",
    "\n",
    "            if max_reads <= minimum_value:\n",
    "                minimum_value = max_reads\n",
    "                \n",
    "            for key, n_class in count_dict.items():\n",
    "                s_reads = int(minimum_value/n_class)\n",
    "                if ref_df[ref_df.loc[:,col_name]==key]['# reads after length filtering'].min() < s_reads:\n",
    "                    minimum_value = ref_df[ref_df.loc[:,col_name]==key]['# reads after length filtering'].min()/n_class\n",
    "                    s_reads = int(minimum_value/n_class)\n",
    "                print(key, s_reads)\n",
    "                total_class_reads.append(s_reads*n_class)\n",
    "            print(total_class_reads)\n",
    "        elif len(count_dict) == 1:\n",
    "            s_reads = n_reads\n",
    "            print(s_reads)\n",
    "#             print(\"no comparison for the rank\")\n",
    "#             exit()\n",
    "\n",
    "        # parse s_reads into numberfy"
   ]
  },
  {
   "cell_type": "code",
   "execution_count": null,
   "metadata": {},
   "outputs": [],
   "source": []
  }
 ],
 "metadata": {
  "kernelspec": {
   "display_name": "Python 3",
   "language": "python",
   "name": "python3"
  },
  "language_info": {
   "codemirror_mode": {
    "name": "ipython",
    "version": 3
   },
   "file_extension": ".py",
   "mimetype": "text/x-python",
   "name": "python",
   "nbconvert_exporter": "python",
   "pygments_lexer": "ipython3",
   "version": "3.7.3"
  }
 },
 "nbformat": 4,
 "nbformat_minor": 2
}
